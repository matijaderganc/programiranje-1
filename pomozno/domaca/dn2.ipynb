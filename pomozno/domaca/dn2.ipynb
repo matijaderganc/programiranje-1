{
 "cells": [
  {
   "cell_type": "markdown",
   "metadata": {},
   "source": [
    "# Podatkovni tipi"
   ]
  },
  {
   "cell_type": "code",
   "execution_count": 425,
   "metadata": {
    "vscode": {
     "languageId": "ocaml"
    }
   },
   "outputs": [
    {
     "data": {
      "text/plain": [
       "type register = A | B | C | D\n"
      ]
     },
     "execution_count": 425,
     "metadata": {},
     "output_type": "execute_result"
    }
   ],
   "source": [
    "type register =\n",
    "  | A\n",
    "  | B\n",
    "  | C \n",
    "  | D "
   ]
  },
  {
   "cell_type": "code",
   "execution_count": 426,
   "metadata": {
    "vscode": {
     "languageId": "ocaml"
    }
   },
   "outputs": [
    {
     "data": {
      "text/plain": [
       "val primer_tipi_1 : register list list = [[A; B; B; A]; [A; C; D; C]]\n"
      ]
     },
     "execution_count": 426,
     "metadata": {},
     "output_type": "execute_result"
    }
   ],
   "source": [
    "let primer_tipi_1 = [[A; B; B; A]; [A; C; D; C]]"
   ]
  },
  {
   "cell_type": "code",
   "execution_count": 427,
   "metadata": {
    "vscode": {
     "languageId": "ocaml"
    }
   },
   "outputs": [
    {
     "data": {
      "text/plain": [
       "type expression = Register of register | Const of int\n"
      ]
     },
     "execution_count": 427,
     "metadata": {},
     "output_type": "execute_result"
    }
   ],
   "source": [
    "type expression =\n",
    "  | Register of register\n",
    "  | Const of int"
   ]
  },
  {
   "cell_type": "code",
   "execution_count": 428,
   "metadata": {
    "vscode": {
     "languageId": "ocaml"
    }
   },
   "outputs": [
    {
     "data": {
      "text/plain": [
       "val primer_tipi_2 : expression list = [Register B; Const 42]\n"
      ]
     },
     "execution_count": 428,
     "metadata": {},
     "output_type": "execute_result"
    }
   ],
   "source": [
    "let primer_tipi_2 = [Register B; Const 42]"
   ]
  },
  {
   "cell_type": "code",
   "execution_count": 429,
   "metadata": {
    "vscode": {
     "languageId": "ocaml"
    }
   },
   "outputs": [
    {
     "data": {
      "text/plain": [
       "type address = Address of int\n"
      ]
     },
     "execution_count": 429,
     "metadata": {},
     "output_type": "execute_result"
    }
   ],
   "source": [
    "type address =\n",
    "  | Address of int"
   ]
  },
  {
   "cell_type": "code",
   "execution_count": 430,
   "metadata": {
    "vscode": {
     "languageId": "ocaml"
    }
   },
   "outputs": [
    {
     "data": {
      "text/plain": [
       "val primer_tipi_3 : int * address = (42, Address 42)\n"
      ]
     },
     "execution_count": 430,
     "metadata": {},
     "output_type": "execute_result"
    }
   ],
   "source": [
    "let primer_tipi_3 = (42, Address 42)"
   ]
  },
  {
   "cell_type": "code",
   "execution_count": 431,
   "metadata": {
    "vscode": {
     "languageId": "ocaml"
    }
   },
   "outputs": [
    {
     "data": {
      "text/plain": [
       "type instruction =\n",
       "    MOV of register * expression\n",
       "  | ADD of register * expression\n",
       "  | SUB of register * expression\n",
       "  | INC of register\n",
       "  | DEC of register\n",
       "  | MUL of expression\n",
       "  | DIV of expression\n",
       "  | AND of register * expression\n",
       "  | OR of register * expression\n",
       "  | XOR of register * expression\n",
       "  | NOT of register\n",
       "  | CMP of register * expression\n",
       "  | JMP of address\n",
       "  | JA of address\n",
       "  | JAE of address\n",
       "  | JB of address\n",
       "  | JBE of address\n",
       "  | JE of address\n",
       "  | JNE of address\n",
       "  | CALL of address\n",
       "  | RET\n",
       "  | PUSH of expression\n",
       "  | POP of register\n",
       "  | HLT\n"
      ]
     },
     "execution_count": 431,
     "metadata": {},
     "output_type": "execute_result"
    }
   ],
   "source": [
    "type instruction =\n",
    "  | MOV of register * expression\n",
    "  | ADD of register * expression\n",
    "  | SUB of register * expression\n",
    "  | INC of register\n",
    "  | DEC of register\n",
    "  | MUL of expression\n",
    "  | DIV of expression\n",
    "  | AND of register * expression\n",
    "  | OR of register * expression\n",
    "  | XOR of register * expression\n",
    "  | NOT of register\n",
    "  | CMP of register * expression\n",
    "  | JMP of address\n",
    "  | JA of address\n",
    "  | JAE of address\n",
    "  | JB of address\n",
    "  | JBE of address\n",
    "  | JE of address\n",
    "  | JNE of address\n",
    "  | CALL of address\n",
    "  | RET\n",
    "  | PUSH of expression\n",
    "  | POP of register\n",
    "  | HLT"
   ]
  },
  {
   "cell_type": "code",
   "execution_count": 432,
   "metadata": {
    "vscode": {
     "languageId": "ocaml"
    }
   },
   "outputs": [
    {
     "data": {
      "text/plain": [
       "val primer_tipi_4 : instruction list =\n",
       "  [MOV (A, Register B); MOV (C, Const 42); JA (Address 10); HLT]\n"
      ]
     },
     "execution_count": 432,
     "metadata": {},
     "output_type": "execute_result"
    }
   ],
   "source": [
    "let primer_tipi_4 = [ MOV (A, Register B); MOV (C, Const 42); JA (Address 10); HLT ]\n"
   ]
  },
  {
   "cell_type": "code",
   "execution_count": 433,
   "metadata": {
    "vscode": {
     "languageId": "ocaml"
    }
   },
   "outputs": [
    {
     "data": {
      "text/plain": [
       "val fibonacci : int -> instruction list = <fun>\n"
      ]
     },
     "execution_count": 433,
     "metadata": {},
     "output_type": "execute_result"
    }
   ],
   "source": [
    "let fibonacci n = [\n",
    "  JMP (Address 20);       (* JMP main *)\n",
    "\n",
    "(* fib: *)\n",
    "  (* ; Shranimo vrednosti registrov *)\n",
    "  PUSH (Register C);      (* PUSH C *)\n",
    "  PUSH (Register B);      (* PUSH B *)\n",
    "\n",
    "  (* ; V C shranimo začetno vrednost A *)\n",
    "  MOV (C, Register A);    (* MOV C, A *)\n",
    "\n",
    "  (* ; Če je A = 0, je to tudi rezultat *)\n",
    "  CMP (A, Const 0);       (* CMP A, 0 *)\n",
    "  JE (Address 17);        (* JE .fib_end *)\n",
    "\n",
    "  (* ; Če je A = 1, je to tudi rezultat *)\n",
    "  CMP (A, Const 1);       (* CMP A, 1 *)\n",
    "  JE (Address 17);        (* JE .fib_end *)\n",
    "\n",
    "  (* ; V nasprotnem primeru najprej izračunamo fib(A - 1) in ga shranimo v B *)\n",
    "  DEC C;                  (* DEC C *)\n",
    "  MOV (A, Register C);    (* MOV A, C *)\n",
    "  CALL (Address 1);       (* CALL fib *)\n",
    "  MOV (B, Register A);    (* MOV B, A *)\n",
    "\n",
    "  (* ; Nato izračunamo še fib(A - 2) in ga shranimo v A *)\n",
    "  DEC C;                  (* DEC C *)\n",
    "  MOV (A, Register C);    (* MOV A, C *)\n",
    "  CALL (Address 1);       (* CALL fib *)\n",
    "  \n",
    "  (* ; Nazadnje k A prištejemo še B, s čimer dobimo končni rezultat *)\n",
    "  ADD (A, Register B);    (* ADD A, B *)\n",
    "  JMP (Address 17);       (* JMP .fib_end *)\n",
    "\n",
    "(* .fib_end: *)\n",
    "  (* ; Povrnemo vrednosti registrov in vrnemo rezultat *)\n",
    "  POP B;                  (* POP B *)\n",
    "  POP C;                  (* POP C *)\n",
    "  RET;                    (* RET *)\n",
    "\n",
    "(* main: *)\n",
    "  MOV (A, Const n);       (* MOV A, n *)\n",
    "  CALL (Address 1);       (* CALL fib *)\n",
    "  HLT;                    (* HLT *)\n",
    "]"
   ]
  },
  {
   "cell_type": "code",
   "execution_count": 434,
   "metadata": {
    "vscode": {
     "languageId": "ocaml"
    }
   },
   "outputs": [
    {
     "data": {
      "text/plain": [
       "val primer_tipi_5 : instruction list =\n",
       "  [JMP (Address 20); PUSH (Register C); PUSH (Register B);\n",
       "   MOV (C, Register A); CMP (A, Const 0); JE (Address 17); CMP (A, Const 1);\n",
       "   JE (Address 17); DEC C; MOV (A, Register C); CALL (Address 1);\n",
       "   MOV (B, Register A); DEC C; MOV (A, Register C); CALL (Address 1);\n",
       "   ADD (A, Register B); JMP (Address 17); POP B; POP C; RET;\n",
       "   MOV (A, Const 10); CALL (Address 1); HLT]\n"
      ]
     },
     "execution_count": 434,
     "metadata": {},
     "output_type": "execute_result"
    }
   ],
   "source": [
    "let primer_tipi_5 = fibonacci 10\n"
   ]
  },
  {
   "cell_type": "code",
   "execution_count": 435,
   "metadata": {
    "vscode": {
     "languageId": "ocaml"
    }
   },
   "outputs": [
    {
     "data": {
      "text/plain": [
       "type state = {\n",
       "  instructions : instruction array;\n",
       "  a : int;\n",
       "  b : int;\n",
       "  c : int;\n",
       "  d : int;\n",
       "  ip : address;\n",
       "  zero : bool;\n",
       "  carry : bool;\n",
       "  stack : int list;\n",
       "}\n"
      ]
     },
     "execution_count": 435,
     "metadata": {},
     "output_type": "execute_result"
    }
   ],
   "source": [
    "type state = {\n",
    "instructions : instruction array; \n",
    "a : int;\n",
    "b : int;\n",
    "c : int;\n",
    "d : int;\n",
    "ip : address;\n",
    "zero : bool;\n",
    "carry : bool;\n",
    "stack : int list\n",
    "}"
   ]
  },
  {
   "cell_type": "code",
   "execution_count": 436,
   "metadata": {
    "vscode": {
     "languageId": "ocaml"
    }
   },
   "outputs": [
    {
     "data": {
      "text/plain": [
       "val primer_tipi_6 : state =\n",
       "  {instructions =\n",
       "    [|MOV (A, Register B); MOV (C, Const 42); JA (Address 10); HLT|];\n",
       "   a = 1; b = 2; c = 3; d = 4; ip = Address 0; zero = true; carry = false;\n",
       "   stack = [5; 6; 7]}\n"
      ]
     },
     "execution_count": 436,
     "metadata": {},
     "output_type": "execute_result"
    }
   ],
   "source": [
    "let primer_tipi_6 = {\n",
    "  instructions = [| MOV (A, Register B); MOV (C, Const 42); JA (Address 10); HLT |];\n",
    "  a = 1; b = 2; c = 3; d = 4;\n",
    "  ip = Address 0;\n",
    "  zero = true; carry = false;\n",
    "  stack = [5; 6; 7];\n",
    "}"
   ]
  },
  {
   "cell_type": "code",
   "execution_count": 437,
   "metadata": {
    "vscode": {
     "languageId": "ocaml"
    }
   },
   "outputs": [
    {
     "data": {
      "text/plain": [
       "val empty : state =\n",
       "  {instructions = [||]; a = 0; b = 0; c = 0; d = 0; ip = Address 0;\n",
       "   zero = false; carry = false; stack = []}\n"
      ]
     },
     "execution_count": 437,
     "metadata": {},
     "output_type": "execute_result"
    }
   ],
   "source": [
    "let empty = {\n",
    "  instructions = [||];\n",
    "  a = 0;\n",
    "  b = 0;\n",
    "  c = 0;\n",
    "  d = 0;\n",
    "  ip = Address 0;\n",
    "  zero = false;\n",
    "  carry = false;\n",
    "  stack = [];\n",
    "}"
   ]
  },
  {
   "cell_type": "code",
   "execution_count": 438,
   "metadata": {
    "vscode": {
     "languageId": "ocaml"
    }
   },
   "outputs": [
    {
     "data": {
      "text/plain": [
       "val init : instruction list -> state = <fun>\n"
      ]
     },
     "execution_count": 438,
     "metadata": {},
     "output_type": "execute_result"
    }
   ],
   "source": [
    "let init seznam =\n",
    "  {empty with instructions = Array.of_list seznam}"
   ]
  },
  {
   "cell_type": "code",
   "execution_count": 439,
   "metadata": {
    "vscode": {
     "languageId": "ocaml"
    }
   },
   "outputs": [
    {
     "data": {
      "text/plain": [
       "val primer_tipi_7 : state =\n",
       "  {instructions =\n",
       "    [|MOV (A, Register B); MOV (C, Const 42); JA (Address 10); HLT|];\n",
       "   a = 0; b = 0; c = 0; d = 0; ip = Address 0; zero = false; carry = false;\n",
       "   stack = []}\n"
      ]
     },
     "execution_count": 439,
     "metadata": {},
     "output_type": "execute_result"
    }
   ],
   "source": [
    "let primer_tipi_7 = init [ MOV (A, Register B); MOV (C, Const 42); JA (Address 10); HLT ]\n"
   ]
  },
  {
   "cell_type": "markdown",
   "metadata": {},
   "source": [
    "# Izvajanje ukazov"
   ]
  },
  {
   "cell_type": "code",
   "execution_count": 440,
   "metadata": {
    "vscode": {
     "languageId": "ocaml"
    }
   },
   "outputs": [
    {
     "data": {
      "text/plain": [
       "val read_instruction : state -> instruction option = <fun>\n"
      ]
     },
     "execution_count": 440,
     "metadata": {},
     "output_type": "execute_result"
    }
   ],
   "source": [
    "let read_instruction stanje =\n",
    "  match stanje.ip with\n",
    "  |Address n -> if n < Array.length stanje.instructions then Some stanje.instructions.(n) else None"
   ]
  },
  {
   "cell_type": "code",
   "execution_count": 441,
   "metadata": {
    "vscode": {
     "languageId": "ocaml"
    }
   },
   "outputs": [
    {
     "data": {
      "text/plain": [
       "val primer_izvajanje_1 : instruction option list =\n",
       "  [Some (MOV (C, Const 42)); Some HLT; None]\n"
      ]
     },
     "execution_count": 441,
     "metadata": {},
     "output_type": "execute_result"
    }
   ],
   "source": [
    "let primer_izvajanje_1 =\n",
    "  [\n",
    "    read_instruction { empty with instructions = [| MOV (A, Register B); MOV (C, Const 42); JA (Address 10); HLT |]; ip = (Address 1) };\n",
    "    read_instruction { empty with instructions = [| MOV (A, Register B); MOV (C, Const 42); JA (Address 10); HLT |]; ip = (Address 3) };\n",
    "    read_instruction { empty with instructions = [| MOV (A, Register B); MOV (C, Const 42); JA (Address 10); HLT |]; ip = (Address 5) };\n",
    "  ]"
   ]
  },
  {
   "cell_type": "code",
   "execution_count": 442,
   "metadata": {
    "vscode": {
     "languageId": "ocaml"
    }
   },
   "outputs": [
    {
     "data": {
      "text/plain": [
       "val read_register : state -> register -> int = <fun>\n"
      ]
     },
     "execution_count": 442,
     "metadata": {},
     "output_type": "execute_result"
    }
   ],
   "source": [
    "let read_register stanje x =\n",
    "  match x with\n",
    "  | A -> stanje.a\n",
    "  | B -> stanje.b\n",
    "  | C -> stanje.c\n",
    "  | D -> stanje.d"
   ]
  },
  {
   "cell_type": "code",
   "execution_count": 443,
   "metadata": {
    "vscode": {
     "languageId": "ocaml"
    }
   },
   "outputs": [
    {
     "data": {
      "text/plain": [
       "val primer_izvajanje_2 : int = 42\n"
      ]
     },
     "execution_count": 443,
     "metadata": {},
     "output_type": "execute_result"
    }
   ],
   "source": [
    "let primer_izvajanje_2 =\n",
    "  read_register { empty with a = 10; b = 42 } B"
   ]
  },
  {
   "cell_type": "code",
   "execution_count": 444,
   "metadata": {
    "vscode": {
     "languageId": "ocaml"
    }
   },
   "outputs": [
    {
     "data": {
      "text/plain": [
       "val read_expression : state -> expression -> int = <fun>\n"
      ]
     },
     "execution_count": 444,
     "metadata": {},
     "output_type": "execute_result"
    }
   ],
   "source": [
    "let read_expression stanje e =\n",
    "  match e with\n",
    "  | Register x -> read_register stanje x\n",
    "  | Const n -> n"
   ]
  },
  {
   "cell_type": "code",
   "execution_count": 445,
   "metadata": {
    "vscode": {
     "languageId": "ocaml"
    }
   },
   "outputs": [
    {
     "data": {
      "text/plain": [
       "val primer_izvajanje_3 : int = 20\n"
      ]
     },
     "execution_count": 445,
     "metadata": {},
     "output_type": "execute_result"
    }
   ],
   "source": [
    "let primer_izvajanje_3 =\n",
    "  read_expression { empty with a = 10; b = 20 } (Register B)"
   ]
  },
  {
   "cell_type": "code",
   "execution_count": 446,
   "metadata": {
    "vscode": {
     "languageId": "ocaml"
    }
   },
   "outputs": [
    {
     "data": {
      "text/plain": [
       "val primer_izvajanje_4 : int = 42\n"
      ]
     },
     "execution_count": 446,
     "metadata": {},
     "output_type": "execute_result"
    }
   ],
   "source": [
    "let primer_izvajanje_4 =\n",
    "  read_expression { empty with a = 10; b = 20 } (Const 42)"
   ]
  },
  {
   "cell_type": "code",
   "execution_count": 447,
   "metadata": {
    "vscode": {
     "languageId": "ocaml"
    }
   },
   "outputs": [
    {
     "data": {
      "text/plain": [
       "val write_register : state -> register -> int -> state = <fun>\n"
      ]
     },
     "execution_count": 447,
     "metadata": {},
     "output_type": "execute_result"
    }
   ],
   "source": [
    "let write_register stanje reg n =\n",
    "  match reg with\n",
    "  | A -> {stanje with a = n}\n",
    "  | B -> {stanje with b = n}\n",
    "  | C -> {stanje with c = n}\n",
    "  | D -> {stanje with d = n}"
   ]
  },
  {
   "cell_type": "code",
   "execution_count": 448,
   "metadata": {
    "vscode": {
     "languageId": "ocaml"
    }
   },
   "outputs": [
    {
     "data": {
      "text/plain": [
       "val primer_izvajanje_5 : state =\n",
       "  {instructions = [||]; a = 0; b = 0; c = 42; d = 24; ip = Address 0;\n",
       "   zero = false; carry = false; stack = []}\n"
      ]
     },
     "execution_count": 448,
     "metadata": {},
     "output_type": "execute_result"
    }
   ],
   "source": [
    "let primer_izvajanje_5 =\n",
    "  write_register { empty with c = 42 } D 24"
   ]
  },
  {
   "cell_type": "code",
   "execution_count": 449,
   "metadata": {
    "vscode": {
     "languageId": "ocaml"
    }
   },
   "outputs": [
    {
     "data": {
      "text/plain": [
       "val perform_unop : (int -> int) -> state -> register -> state = <fun>\n"
      ]
     },
     "execution_count": 449,
     "metadata": {},
     "output_type": "execute_result"
    }
   ],
   "source": [
    "let perform_unop f stanje reg =\n",
    "  match reg with\n",
    "  | A -> {stanje with a = f stanje.a}\n",
    "  | B -> {stanje with b = f stanje.b}\n",
    "  | C -> {stanje with c = f stanje.c}\n",
    "  | D -> {stanje with d = f stanje.d}"
   ]
  },
  {
   "cell_type": "code",
   "execution_count": 450,
   "metadata": {
    "vscode": {
     "languageId": "ocaml"
    }
   },
   "outputs": [
    {
     "data": {
      "text/plain": [
       "val primer_izvajanje_6 : state =\n",
       "  {instructions = [||]; a = 0; b = 0; c = 505; d = 0; ip = Address 0;\n",
       "   zero = false; carry = false; stack = []}\n"
      ]
     },
     "execution_count": 450,
     "metadata": {},
     "output_type": "execute_result"
    }
   ],
   "source": [
    "let primer_izvajanje_6 =\n",
    "  perform_unop (fun x -> 101 * x) { empty with c = 5 } C"
   ]
  },
  {
   "cell_type": "code",
   "execution_count": 451,
   "metadata": {
    "vscode": {
     "languageId": "ocaml"
    }
   },
   "outputs": [
    {
     "data": {
      "text/plain": [
       "val perform_binop :\n",
       "  (int -> int -> int) -> state -> register -> expression -> state = <fun>\n"
      ]
     },
     "execution_count": 451,
     "metadata": {},
     "output_type": "execute_result"
    }
   ],
   "source": [
    "let perform_binop f stanje reg eksp =\n",
    "  match reg with\n",
    "  | A -> {stanje with a = f (stanje.a) (read_expression stanje eksp)}\n",
    "  | B -> {stanje with b = f (stanje.b) (read_expression stanje eksp)}\n",
    "  | C -> {stanje with c = f (stanje.c) (read_expression stanje eksp)}\n",
    "  | D -> {stanje with d = f (stanje.d) (read_expression stanje eksp)}"
   ]
  },
  {
   "cell_type": "code",
   "execution_count": 452,
   "metadata": {
    "vscode": {
     "languageId": "ocaml"
    }
   },
   "outputs": [
    {
     "data": {
      "text/plain": [
       "val primer_izvajanje_7 : state =\n",
       "  {instructions = [||]; a = 0; b = 0; c = 505; d = 0; ip = Address 0;\n",
       "   zero = false; carry = false; stack = []}\n"
      ]
     },
     "execution_count": 452,
     "metadata": {},
     "output_type": "execute_result"
    }
   ],
   "source": [
    "let primer_izvajanje_7 =\n",
    "  perform_binop ( * ) { empty with c = 5 } C (Const 101)"
   ]
  },
  {
   "cell_type": "code",
   "execution_count": 453,
   "metadata": {
    "vscode": {
     "languageId": "ocaml"
    }
   },
   "outputs": [
    {
     "data": {
      "text/plain": [
       "val next : address -> address = <fun>\n"
      ]
     },
     "execution_count": 453,
     "metadata": {},
     "output_type": "execute_result"
    }
   ],
   "source": [
    "let next add =\n",
    "  match add with\n",
    "  | Address n -> Address (n + 1)"
   ]
  },
  {
   "cell_type": "code",
   "execution_count": 454,
   "metadata": {
    "vscode": {
     "languageId": "ocaml"
    }
   },
   "outputs": [
    {
     "data": {
      "text/plain": [
       "val primer_izvajanje_8 : address = Address 42\n"
      ]
     },
     "execution_count": 454,
     "metadata": {},
     "output_type": "execute_result"
    }
   ],
   "source": [
    "let primer_izvajanje_8 =\n",
    "  next (Address 41)"
   ]
  },
  {
   "cell_type": "code",
   "execution_count": 455,
   "metadata": {
    "vscode": {
     "languageId": "ocaml"
    }
   },
   "outputs": [
    {
     "data": {
      "text/plain": [
       "val jump : state -> address -> state = <fun>\n"
      ]
     },
     "execution_count": 455,
     "metadata": {},
     "output_type": "execute_result"
    },
    {
     "data": {
      "text/plain": [
       "val proceed : state -> state = <fun>\n"
      ]
     },
     "execution_count": 455,
     "metadata": {},
     "output_type": "execute_result"
    }
   ],
   "source": [
    "let jump stanje add =\n",
    "  {stanje with ip = add}\n",
    "let proceed stanje =\n",
    "  {stanje with ip = next stanje.ip}"
   ]
  },
  {
   "cell_type": "code",
   "execution_count": 456,
   "metadata": {
    "vscode": {
     "languageId": "ocaml"
    }
   },
   "outputs": [
    {
     "data": {
      "text/plain": [
       "val primer_izvajanje_9 : state =\n",
       "  {instructions = [||]; a = 0; b = 0; c = 0; d = 0; ip = Address 10;\n",
       "   zero = false; carry = false; stack = []}\n"
      ]
     },
     "execution_count": 456,
     "metadata": {},
     "output_type": "execute_result"
    }
   ],
   "source": [
    "let primer_izvajanje_9 =\n",
    "  jump { empty with ip = Address 42} (Address 10)"
   ]
  },
  {
   "cell_type": "code",
   "execution_count": 457,
   "metadata": {
    "vscode": {
     "languageId": "ocaml"
    }
   },
   "outputs": [
    {
     "data": {
      "text/plain": [
       "val primer_izvajanje_10 : state =\n",
       "  {instructions = [||]; a = 0; b = 0; c = 0; d = 0; ip = Address 43;\n",
       "   zero = false; carry = false; stack = []}\n"
      ]
     },
     "execution_count": 457,
     "metadata": {},
     "output_type": "execute_result"
    }
   ],
   "source": [
    "let primer_izvajanje_10 =\n",
    "  proceed { empty with ip = Address 42}"
   ]
  },
  {
   "cell_type": "code",
   "execution_count": 458,
   "metadata": {
    "vscode": {
     "languageId": "ocaml"
    }
   },
   "outputs": [
    {
     "data": {
      "text/plain": [
       "val push_stack : state -> int -> state = <fun>\n"
      ]
     },
     "execution_count": 458,
     "metadata": {},
     "output_type": "execute_result"
    }
   ],
   "source": [
    "let push_stack stanje n =\n",
    "  {stanje with stack = n :: stanje.stack}"
   ]
  },
  {
   "cell_type": "code",
   "execution_count": 459,
   "metadata": {
    "vscode": {
     "languageId": "ocaml"
    }
   },
   "outputs": [
    {
     "data": {
      "text/plain": [
       "val pop_stack : state -> int * state = <fun>\n"
      ]
     },
     "execution_count": 459,
     "metadata": {},
     "output_type": "execute_result"
    }
   ],
   "source": [
    "let pop_stack stanje =\n",
    "  match stanje.stack with\n",
    "  | [] -> failwith \"Prazen stack\"\n",
    "  | x :: xs -> (x, {stanje with stack = xs})"
   ]
  },
  {
   "cell_type": "code",
   "execution_count": 460,
   "metadata": {
    "vscode": {
     "languageId": "ocaml"
    }
   },
   "outputs": [
    {
     "data": {
      "text/plain": [
       "val primer_izvajanje_10 : state =\n",
       "  {instructions = [||]; a = 0; b = 0; c = 0; d = 0; ip = Address 0;\n",
       "   zero = false; carry = false; stack = [42; 1; 2; 3]}\n"
      ]
     },
     "execution_count": 460,
     "metadata": {},
     "output_type": "execute_result"
    }
   ],
   "source": [
    "let primer_izvajanje_10 =\n",
    "  push_stack { empty with stack = [1; 2; 3] } 42"
   ]
  },
  {
   "cell_type": "code",
   "execution_count": 461,
   "metadata": {
    "vscode": {
     "languageId": "ocaml"
    }
   },
   "outputs": [
    {
     "data": {
      "text/plain": [
       "val primer_izvajanje_11 : int * state =\n",
       "  (1,\n",
       "   {instructions = [||]; a = 0; b = 0; c = 0; d = 0; ip = Address 0;\n",
       "    zero = false; carry = false; stack = [2; 3]})\n"
      ]
     },
     "execution_count": 461,
     "metadata": {},
     "output_type": "execute_result"
    }
   ],
   "source": [
    "let primer_izvajanje_11 =\n",
    "  pop_stack { empty with stack = [1; 2; 3] }"
   ]
  },
  {
   "cell_type": "code",
   "execution_count": 462,
   "metadata": {
    "vscode": {
     "languageId": "ocaml"
    }
   },
   "outputs": [
    {
     "data": {
      "text/plain": [
       "val compare : state -> int -> int -> state = <fun>\n"
      ]
     },
     "execution_count": 462,
     "metadata": {},
     "output_type": "execute_result"
    }
   ],
   "source": [
    "let compare stanje (m : int) (n :int) =\n",
    "  { stanje with\n",
    "    zero = (m = n);\n",
    "    carry = (m < n);}"
   ]
  },
  {
   "cell_type": "code",
   "execution_count": 463,
   "metadata": {
    "vscode": {
     "languageId": "ocaml"
    }
   },
   "outputs": [
    {
     "data": {
      "text/plain": [
       "val primer_izvajanje_12 : state =\n",
       "  {instructions = [||]; a = 0; b = 0; c = 0; d = 0; ip = Address 0;\n",
       "   zero = false; carry = true; stack = []}\n"
      ]
     },
     "execution_count": 463,
     "metadata": {},
     "output_type": "execute_result"
    }
   ],
   "source": [
    "let primer_izvajanje_12 =\n",
    "  compare empty 24 42"
   ]
  },
  {
   "cell_type": "code",
   "execution_count": 464,
   "metadata": {
    "vscode": {
     "languageId": "ocaml"
    }
   },
   "outputs": [
    {
     "data": {
      "text/plain": [
       "val conditional_jump : state -> address -> bool -> state = <fun>\n"
      ]
     },
     "execution_count": 464,
     "metadata": {},
     "output_type": "execute_result"
    }
   ],
   "source": [
    "let conditional_jump stanje add b =\n",
    "  if b then jump stanje add else proceed stanje"
   ]
  },
  {
   "cell_type": "code",
   "execution_count": 465,
   "metadata": {
    "vscode": {
     "languageId": "ocaml"
    }
   },
   "outputs": [
    {
     "data": {
      "text/plain": [
       "val primer_izvajanje_13 : state =\n",
       "  {instructions = [||]; a = 0; b = 0; c = 0; d = 0; ip = Address 10;\n",
       "   zero = false; carry = false; stack = []}\n"
      ]
     },
     "execution_count": 465,
     "metadata": {},
     "output_type": "execute_result"
    }
   ],
   "source": [
    "let primer_izvajanje_13 =\n",
    "  conditional_jump { empty with ip = Address 42 } (Address 10) true"
   ]
  },
  {
   "cell_type": "code",
   "execution_count": 466,
   "metadata": {
    "vscode": {
     "languageId": "ocaml"
    }
   },
   "outputs": [
    {
     "data": {
      "text/plain": [
       "val primer_izvajanje_14 : state =\n",
       "  {instructions = [||]; a = 0; b = 0; c = 0; d = 0; ip = Address 43;\n",
       "   zero = false; carry = false; stack = []}\n"
      ]
     },
     "execution_count": 466,
     "metadata": {},
     "output_type": "execute_result"
    }
   ],
   "source": [
    "let primer_izvajanje_14 =\n",
    "  conditional_jump { empty with ip = Address 42 } (Address 10) false"
   ]
  },
  {
   "cell_type": "code",
   "execution_count": 467,
   "metadata": {
    "vscode": {
     "languageId": "ocaml"
    }
   },
   "outputs": [
    {
     "data": {
      "text/plain": [
       "val call : state -> address -> state = <fun>\n"
      ]
     },
     "execution_count": 467,
     "metadata": {},
     "output_type": "execute_result"
    }
   ],
   "source": [
    "let call stanje add =\n",
    "  match stanje.ip with\n",
    "  | Address n -> push_stack {stanje with ip = add} (n + 1)"
   ]
  },
  {
   "cell_type": "code",
   "execution_count": 468,
   "metadata": {
    "vscode": {
     "languageId": "ocaml"
    }
   },
   "outputs": [
    {
     "data": {
      "text/plain": [
       "val primer_izvajanje_15 : state =\n",
       "  {instructions = [||]; a = 0; b = 0; c = 0; d = 0; ip = Address 10;\n",
       "   zero = false; carry = false; stack = [43]}\n"
      ]
     },
     "execution_count": 468,
     "metadata": {},
     "output_type": "execute_result"
    }
   ],
   "source": [
    "let primer_izvajanje_15 =\n",
    "  call { empty with ip = Address 42 } (Address 10)"
   ]
  },
  {
   "cell_type": "code",
   "execution_count": 469,
   "metadata": {
    "vscode": {
     "languageId": "ocaml"
    }
   },
   "outputs": [
    {
     "data": {
      "text/plain": [
       "val return : state -> state = <fun>\n"
      ]
     },
     "execution_count": 469,
     "metadata": {},
     "output_type": "execute_result"
    }
   ],
   "source": [
    "let return stanje =\n",
    "  let (add, stanje1) = pop_stack stanje in\n",
    "  {stanje1 with ip = Address add}"
   ]
  },
  {
   "cell_type": "code",
   "execution_count": 470,
   "metadata": {
    "vscode": {
     "languageId": "ocaml"
    }
   },
   "outputs": [
    {
     "data": {
      "text/plain": [
       "val primer_izvajanje_16 : state =\n",
       "  {instructions = [||]; a = 0; b = 0; c = 0; d = 0; ip = Address 42;\n",
       "   zero = false; carry = false; stack = [43; 44]}\n"
      ]
     },
     "execution_count": 470,
     "metadata": {},
     "output_type": "execute_result"
    }
   ],
   "source": [
    "let primer_izvajanje_16 =\n",
    "  return { empty with ip = (Address 100); stack = [42; 43; 44] }"
   ]
  },
  {
   "cell_type": "code",
   "execution_count": 471,
   "metadata": {
    "vscode": {
     "languageId": "ocaml"
    }
   },
   "outputs": [
    {
     "data": {
      "text/plain": [
       "val run_instruction : state -> instruction -> state = <fun>\n"
      ]
     },
     "execution_count": 471,
     "metadata": {},
     "output_type": "execute_result"
    }
   ],
   "source": [
    "let run_instruction st = function\n",
    "  | MOV (reg, exp) -> write_register st reg (read_expression st exp)|> proceed\n",
    "  | ADD (reg, exp) -> perform_binop ( + ) st reg exp |> proceed\n",
    "  | SUB (reg, exp) -> perform_binop ( - ) st reg exp |> proceed\n",
    "  | INC reg -> perform_unop succ st reg |> proceed\n",
    "  | DEC reg -> perform_unop pred st reg |> proceed\n",
    "  | MUL exp -> perform_binop ( * ) st A exp |> proceed\n",
    "  | DIV exp -> perform_binop ( / ) st A exp |> proceed\n",
    "  (* Pozor, OCaml land/lor/lxor interpretira kot simbole, zato jih pišemo infiksno! *)\n",
    "  | AND (reg, exp) -> perform_binop ( land ) st reg exp |> proceed\n",
    "  | OR (reg, exp) -> perform_binop ( lor ) st reg exp |> proceed\n",
    "  | XOR (reg, exp) -> perform_binop ( lxor ) st reg exp |> proceed\n",
    "  | NOT reg -> perform_unop lnot st reg |> proceed\n",
    "  | CMP (reg, exp) -> compare st (read_register st reg) (read_expression st exp) |> proceed\n",
    "  | JMP add -> jump st add \n",
    "  | JA add -> conditional_jump st add (not st.carry && not st.zero)\n",
    "  | JAE add ->  conditional_jump st add (st.zero || (not st.carry && not st.zero)) \n",
    "  | JB add -> conditional_jump st add (not st.zero && st.carry) \n",
    "  | JBE add -> conditional_jump st add ((not st.zero && st.carry) || st.zero) \n",
    "  | JE add -> conditional_jump st add (st.zero) \n",
    "  | JNE add -> conditional_jump st add (not st.zero) \n",
    "  | CALL add -> call st add\n",
    "  | RET -> return st\n",
    "  | PUSH exp -> push_stack st (read_expression st exp) |> proceed\n",
    "  | POP reg ->\n",
    "      let n, st' = pop_stack st in\n",
    "      write_register st' reg n |> proceed\n",
    "  | HLT -> failwith \"Cannot execute instruction\""
   ]
  },
  {
   "cell_type": "code",
   "execution_count": 472,
   "metadata": {
    "vscode": {
     "languageId": "ocaml"
    }
   },
   "outputs": [
    {
     "data": {
      "text/plain": [
       "val run_program : state -> state = <fun>\n"
      ]
     },
     "execution_count": 472,
     "metadata": {},
     "output_type": "execute_result"
    }
   ],
   "source": [
    "let rec run_program stanje =\n",
    "  match read_instruction stanje with\n",
    "  | None -> stanje\n",
    "  | Some HLT -> stanje\n",
    "  | Some x -> run_program (run_instruction stanje x)\n"
   ]
  },
  {
   "cell_type": "code",
   "execution_count": 473,
   "metadata": {
    "vscode": {
     "languageId": "ocaml"
    }
   },
   "outputs": [
    {
     "data": {
      "text/plain": [
       "val primer_izvajanje_16 : state =\n",
       "  {instructions =\n",
       "    [|JMP (Address 20); PUSH (Register C); PUSH (Register B);\n",
       "      MOV (C, Register A); CMP (A, Const 0); JE (Address 17);\n",
       "      CMP (A, Const 1); JE (Address 17); DEC C; MOV (A, Register C);\n",
       "      CALL (Address 1); MOV (B, Register A); DEC C; MOV (A, Register C);\n",
       "      CALL (Address 1); ADD (A, Register B); JMP (Address 17); POP B; \n",
       "      POP C; RET; MOV (A, Const 10); CALL (Address 1); HLT|];\n",
       "   a = 55; b = 0; c = 0; d = 0; ip = Address 22; zero = true; carry = false;\n",
       "   stack = []}\n"
      ]
     },
     "execution_count": 473,
     "metadata": {},
     "output_type": "execute_result"
    }
   ],
   "source": [
    "let primer_izvajanje_16 =\n",
    "  fibonacci 10\n",
    "  |> init\n",
    "  |> run_program"
   ]
  },
  {
   "cell_type": "markdown",
   "metadata": {},
   "source": [
    "# Branje zbirnika"
   ]
  },
  {
   "cell_type": "code",
   "execution_count": 474,
   "metadata": {
    "vscode": {
     "languageId": "ocaml"
    }
   },
   "outputs": [
    {
     "data": {
      "text/plain": [
       "val parse_register : string -> register = <fun>\n"
      ]
     },
     "execution_count": 474,
     "metadata": {},
     "output_type": "execute_result"
    }
   ],
   "source": [
    "let parse_register str =\n",
    "  match str with\n",
    "  | \"A\" -> A \n",
    "  | \"B\" -> B\n",
    "  | \"C\" -> C \n",
    "  | \"D\" -> D\n",
    "  | _ -> failwith \"Neutrezen niz\""
   ]
  },
  {
   "cell_type": "code",
   "execution_count": 475,
   "metadata": {
    "vscode": {
     "languageId": "ocaml"
    }
   },
   "outputs": [
    {
     "data": {
      "text/plain": [
       "val primer_branje_1 : register = A\n"
      ]
     },
     "execution_count": 475,
     "metadata": {},
     "output_type": "execute_result"
    }
   ],
   "source": [
    "let primer_branje_1 = parse_register \"A\""
   ]
  },
  {
   "cell_type": "code",
   "execution_count": 476,
   "metadata": {
    "vscode": {
     "languageId": "ocaml"
    }
   },
   "outputs": [
    {
     "data": {
      "text/plain": [
       "val parse_expression : string -> expression = <fun>\n"
      ]
     },
     "execution_count": 476,
     "metadata": {},
     "output_type": "execute_result"
    }
   ],
   "source": [
    "let parse_expression str =\n",
    "  match str with\n",
    "  | \"A\" -> Register A \n",
    "  | \"B\" -> Register B\n",
    "  | \"C\" -> Register C \n",
    "  | \"D\" -> Register D\n",
    "  |x -> try \n",
    "          Const (int_of_string x)\n",
    "        with\n",
    "          Failure _ -> failwith \"Neustrezen niz\"\n"
   ]
  },
  {
   "cell_type": "code",
   "execution_count": 477,
   "metadata": {
    "vscode": {
     "languageId": "ocaml"
    }
   },
   "outputs": [
    {
     "data": {
      "text/plain": [
       "val primer_branje_2 : expression = Register A\n"
      ]
     },
     "execution_count": 477,
     "metadata": {},
     "output_type": "execute_result"
    },
    {
     "data": {
      "text/plain": [
       "val primer_branje_3 : expression = Const 42\n"
      ]
     },
     "execution_count": 477,
     "metadata": {},
     "output_type": "execute_result"
    }
   ],
   "source": [
    "let primer_branje_2 = parse_expression \"A\"\n",
    "let primer_branje_3 = parse_expression \"42\"\n"
   ]
  },
  {
   "cell_type": "code",
   "execution_count": 478,
   "metadata": {
    "vscode": {
     "languageId": "ocaml"
    }
   },
   "outputs": [
    {
     "data": {
      "text/plain": [
       "val clean_line : string -> string = <fun>\n"
      ]
     },
     "execution_count": 478,
     "metadata": {},
     "output_type": "execute_result"
    }
   ],
   "source": [
    "let clean_line str =\n",
    "  match String.index_opt str ';' with\n",
    "  | None -> String.trim str\n",
    "  | Some n -> String.trim (String.sub str 0 n)"
   ]
  },
  {
   "cell_type": "code",
   "execution_count": 479,
   "metadata": {
    "vscode": {
     "languageId": "ocaml"
    }
   },
   "outputs": [
    {
     "data": {
      "text/plain": [
       "val primer_branje_4 : string = \"MOV A, 42\"\n"
      ]
     },
     "execution_count": 479,
     "metadata": {},
     "output_type": "execute_result"
    }
   ],
   "source": [
    "let primer_branje_4 = clean_line \"   MOV A, 42    ; To je komentar   \"\n"
   ]
  },
  {
   "cell_type": "code",
   "execution_count": 480,
   "metadata": {
    "vscode": {
     "languageId": "ocaml"
    }
   },
   "outputs": [
    {
     "data": {
      "text/plain": [
       "val clean_lines : string list -> string list = <fun>\n"
      ]
     },
     "execution_count": 480,
     "metadata": {},
     "output_type": "execute_result"
    }
   ],
   "source": [
    "let clean_lines lst =\n",
    "  let rec aux current acc =\n",
    "    match current with \n",
    "    |[] -> List.rev acc\n",
    "    |x :: xs -> if x = \"\" then aux xs acc else aux xs (x :: acc)\n",
    "  in \n",
    "  aux (List.map clean_line lst) []"
   ]
  },
  {
   "cell_type": "code",
   "execution_count": 481,
   "metadata": {
    "vscode": {
     "languageId": "ocaml"
    }
   },
   "outputs": [
    {
     "data": {
      "text/plain": [
       "val primer_branje_5 : string list = [\"MOV A, 42\"; \"Aa  aaa\"]\n"
      ]
     },
     "execution_count": 481,
     "metadata": {},
     "output_type": "execute_result"
    }
   ],
   "source": [
    "let primer_branje_5 = clean_lines [\"   MOV A, 42    ; To je komentar   \"; \"     \"; \"Aa  aaa   \"]\n"
   ]
  },
  {
   "cell_type": "code",
   "execution_count": 482,
   "metadata": {
    "vscode": {
     "languageId": "ocaml"
    }
   },
   "outputs": [
    {
     "data": {
      "text/plain": [
       "val parse_address : (string * address) list -> string -> address = <fun>\n"
      ]
     },
     "execution_count": 482,
     "metadata": {},
     "output_type": "execute_result"
    }
   ],
   "source": [
    "let parse_address lst str =\n",
    "  match str with\n",
    "  |x -> try  \n",
    "          Address (int_of_string x)\n",
    "        with\n",
    "          Failure _ -> List.assoc x lst\n"
   ]
  },
  {
   "cell_type": "code",
   "execution_count": 483,
   "metadata": {
    "vscode": {
     "languageId": "ocaml"
    }
   },
   "outputs": [
    {
     "data": {
      "text/plain": [
       "val primer_branje_5 : address = Address 42\n"
      ]
     },
     "execution_count": 483,
     "metadata": {},
     "output_type": "execute_result"
    }
   ],
   "source": [
    "let primer_branje_5 = parse_address [(\"main\", Address 42)] \"main\"\n"
   ]
  },
  {
   "cell_type": "code",
   "execution_count": 484,
   "metadata": {
    "vscode": {
     "languageId": "ocaml"
    }
   },
   "outputs": [
    {
     "data": {
      "text/plain": [
       "val primer_branje_6 : address = Address 123\n"
      ]
     },
     "execution_count": 484,
     "metadata": {},
     "output_type": "execute_result"
    }
   ],
   "source": [
    "let primer_branje_6 = parse_address [(\"main\", Address 42)] \"123\"\n"
   ]
  },
  {
   "cell_type": "code",
   "execution_count": 485,
   "metadata": {
    "vscode": {
     "languageId": "ocaml"
    }
   },
   "outputs": [
    {
     "data": {
      "text/plain": [
       "val parse_label : string -> string option = <fun>\n"
      ]
     },
     "execution_count": 485,
     "metadata": {},
     "output_type": "execute_result"
    }
   ],
   "source": [
    "let parse_label str =\n",
    "  let len = String.length str in\n",
    "  if len > 0 && String.get str (len - 1) = ':' then\n",
    "    Some (String.sub str 0 (len - 1))\n",
    "  else\n",
    "    None"
   ]
  },
  {
   "cell_type": "code",
   "execution_count": 486,
   "metadata": {
    "vscode": {
     "languageId": "ocaml"
    }
   },
   "outputs": [
    {
     "data": {
      "text/plain": [
       "val primer_branje_7 : string option = Some \"main\"\n"
      ]
     },
     "execution_count": 486,
     "metadata": {},
     "output_type": "execute_result"
    },
    {
     "data": {
      "text/plain": [
       "val primer_branje_8 : string option = None\n"
      ]
     },
     "execution_count": 486,
     "metadata": {},
     "output_type": "execute_result"
    }
   ],
   "source": [
    "let primer_branje_7 = parse_label \"main:\"\n",
    "let primer_branje_8 = parse_label \"MOV A, 42\"\n",
    "\n"
   ]
  },
  {
   "cell_type": "code",
   "execution_count": 487,
   "metadata": {
    "vscode": {
     "languageId": "ocaml"
    }
   },
   "outputs": [
    {
     "data": {
      "text/plain": [
       "val parse_labels : string list -> (string * address) list * string list =\n",
       "  <fun>\n"
      ]
     },
     "execution_count": 487,
     "metadata": {},
     "output_type": "execute_result"
    }
   ],
   "source": [
    "let parse_labels koda =\n",
    "  let rec aux koda (labels, ostale) i =\n",
    "    match koda with\n",
    "    | [] -> (labels, ostale)  \n",
    "    | x :: xs ->\n",
    "        match parse_label x with\n",
    "        | Some ukaz ->\n",
    "            aux xs ((ukaz, Address i) :: labels, ostale) (i)\n",
    "        | None ->\n",
    "            aux xs (labels,  ostale @ [x]) (i + 1)\n",
    "  in\n",
    "  aux koda ([], []) 0"
   ]
  },
  {
   "cell_type": "code",
   "execution_count": 488,
   "metadata": {
    "vscode": {
     "languageId": "ocaml"
    }
   },
   "outputs": [
    {
     "data": {
      "text/plain": [
       "val primer_branje_9 : (string * address/2) list * string list =\n",
       "  ([(\"loop\", Address 2); (\"main\", Address 1)],\n",
       "   [\"JMP main\"; \"MOV A, 0\"; \"INC A\"; \"JMP loop\"])\n"
      ]
     },
     "execution_count": 488,
     "metadata": {},
     "output_type": "execute_result"
    }
   ],
   "source": [
    "let primer_branje_9 =\n",
    "  parse_labels1 [\"JMP main\"; \"main:\"; \"MOV A, 0\"; \"loop:\"; \"INC A\"; \"JMP loop\"]"
   ]
  },
  {
   "cell_type": "code",
   "execution_count": 489,
   "metadata": {
    "vscode": {
     "languageId": "ocaml"
    }
   },
   "outputs": [
    {
     "data": {
      "text/plain": [
       "val parse_instruction : (string * address) list -> string -> instruction =\n",
       "  <fun>\n"
      ]
     },
     "execution_count": 489,
     "metadata": {},
     "output_type": "execute_result"
    }
   ],
   "source": [
    "let parse_instruction labels line =\n",
    "  let tokens =\n",
    "    line\n",
    "    |> String.split_on_char ' '\n",
    "    |> List.concat_map (String.split_on_char ',')\n",
    "    |> List.map String.trim\n",
    "    |> List.filter (fun token -> token <> \"\")\n",
    "  in\n",
    "  match tokens with\n",
    "  | [\"MOV\"; reg; exp] -> MOV (parse_register reg, parse_expression exp)\n",
    "  | [\"ADD\"; reg; exp] -> ADD (parse_register reg, parse_expression exp)\n",
    "  | [\"SUB\"; reg; exp] -> SUB (parse_register reg, parse_expression exp)\n",
    "  | [\"INC\"; reg] -> INC (parse_register reg)\n",
    "  | [\"DEC\"; reg] -> DEC (parse_register reg)\n",
    "  | [\"MUL\"; exp] -> MUL (parse_expression exp)\n",
    "  | [\"DIV\"; exp] -> DIV (parse_expression exp)\n",
    "  | [\"AND\"; reg; exp] -> AND (parse_register reg, parse_expression exp)\n",
    "  | [\"OR\"; reg; exp] -> OR (parse_register reg, parse_expression exp)\n",
    "  | [\"XOR\"; reg; exp] -> XOR (parse_register reg, parse_expression exp)\n",
    "  | [\"NOT\"; reg] -> NOT (parse_register reg)\n",
    "  | [\"CMP\"; reg; exp] -> CMP (parse_register reg, parse_expression exp)\n",
    "  | [\"JMP\"; add] -> JMP (parse_address labels add)\n",
    "  | [\"JA\"; add] -> JA (parse_address labels add)\n",
    "  | [\"JAE\"; add] ->JAE (parse_address labels add)\n",
    "  | [\"JB\"; add] -> JB (parse_address labels add)\n",
    "  | [\"JBE\"; add] -> JBE (parse_address labels add)\n",
    "  | [\"JE\"; add] -> JE (parse_address labels add)\n",
    "  | [\"JNE\"; add] -> JNE (parse_address labels add)\n",
    "  | [\"CALL\"; add] -> CALL (parse_address labels add)\n",
    "  | [\"RET\"] -> RET\n",
    "  | [\"PUSH\"; exp] -> PUSH (parse_expression exp)\n",
    "  | [\"POP\"; reg] -> POP (parse_register reg)\n",
    "  | [\"HLT\"] -> HLT\n",
    "  | _ -> failwith (\"Invalid instruction: \" ^ line)"
   ]
  },
  {
   "cell_type": "code",
   "execution_count": 490,
   "metadata": {
    "vscode": {
     "languageId": "ocaml"
    }
   },
   "outputs": [
    {
     "data": {
      "text/plain": [
       "val primer_branje_10 : instruction list =\n",
       "  [MOV (A, Const 42); CALL (Address 42); HLT]\n"
      ]
     },
     "execution_count": 490,
     "metadata": {},
     "output_type": "execute_result"
    }
   ],
   "source": [
    "let primer_branje_10 =\n",
    "  List.map (parse_instruction [(\"main\", Address 42)]) [\"MOV A, 42\"; \"CALL main\"; \"HLT\"]"
   ]
  },
  {
   "cell_type": "code",
   "execution_count": 491,
   "metadata": {
    "vscode": {
     "languageId": "ocaml"
    }
   },
   "outputs": [
    {
     "data": {
      "text/plain": [
       "val run : string -> state = <fun>\n"
      ]
     },
     "execution_count": 491,
     "metadata": {},
     "output_type": "execute_result"
    }
   ],
   "source": [
    "let run koda =\n",
    "  let vrstice = clean_lines (String.split_on_char '\\n' koda) in\n",
    "  let (label, koda) = parse_labels vrstice in\n",
    "  let navodila = List.map (fun x -> parse_instruction label x) koda in\n",
    "  navodila |> init |> run_program\n"
   ]
  },
  {
   "cell_type": "code",
   "execution_count": 492,
   "metadata": {
    "vscode": {
     "languageId": "ocaml"
    }
   },
   "outputs": [
    {
     "data": {
      "text/plain": [
       "val fibonacci : string =\n",
       "  \"\\n  JMP main\\n  ; Funkcija, ki izračuna fib(A) in vrednost shrani v register A\\n  fib:\\n      ; Shranimo vrednosti registrov\\n      PUSH C\\n      PUSH B\\n  \\n      ; V C shranimo začetno vrednost A\\n      MOV C, A\\n  \\n      ; Če je A = 0, je to tudi rezultat\\n      CMP A, 0\\n      JE .fib_end\\n  \\n      ; Če\"... (* string length 840; truncated *)\n"
      ]
     },
     "execution_count": 492,
     "metadata": {},
     "output_type": "execute_result"
    }
   ],
   "source": [
    "let fibonacci = {|\n",
    "  JMP main\n",
    "  ; Funkcija, ki izračuna fib(A) in vrednost shrani v register A\n",
    "  fib:\n",
    "      ; Shranimo vrednosti registrov\n",
    "      PUSH C\n",
    "      PUSH B\n",
    "  \n",
    "      ; V C shranimo začetno vrednost A\n",
    "      MOV C, A\n",
    "  \n",
    "      ; Če je A = 0, je to tudi rezultat\n",
    "      CMP A, 0\n",
    "      JE .fib_end\n",
    "  \n",
    "      ; Če je A = 1, je to tudi rezultat\n",
    "      CMP A, 1\n",
    "      JE .fib_end\n",
    "  \n",
    "      ; V nasprotnem primeru najprej izračunamo fib(A - 1) in ga shranimo v B\n",
    "      DEC C\n",
    "      MOV A, C\n",
    "      CALL fib\n",
    "      MOV B, A\n",
    "  \n",
    "      ; Nato izračunamo še fib(A - 2) in ga shranimo v A\n",
    "      DEC C\n",
    "      MOV A, C\n",
    "      CALL fib\n",
    "      \n",
    "      ; Nazadnje k A prištejemo še B, s čimer dobimo končni rezultat\n",
    "      ADD A, B\n",
    "      JMP .fib_end\n",
    "\n",
    "  .fib_end:\n",
    "  ; Povrnemo vrednosti registrov in vrnemo rezultat\n",
    "  POP B\n",
    "  POP C\n",
    "  RET\n",
    "\n",
    "main:\n",
    "  MOV A, 7\n",
    "  CALL fib\n",
    "HLT\n",
    "|}"
   ]
  },
  {
   "cell_type": "code",
   "execution_count": 493,
   "metadata": {
    "vscode": {
     "languageId": "ocaml"
    }
   },
   "outputs": [
    {
     "data": {
      "text/plain": [
       "val primer_branje_11 : state =\n",
       "  {instructions =\n",
       "    [|JMP (Address 20); PUSH (Register C); PUSH (Register B);\n",
       "      MOV (C, Register A); CMP (A, Const 0); JE (Address 17);\n",
       "      CMP (A, Const 1); JE (Address 17); DEC C; MOV (A, Register C);\n",
       "      CALL (Address 1); MOV (B, Register A); DEC C; MOV (A, Register C);\n",
       "      CALL (Address 1); ADD (A, Register B); JMP (Address 17); POP B; \n",
       "      POP C; RET; MOV (A, Const 7); CALL (Address 1); HLT|];\n",
       "   a = 13; b = 0; c = 0; d = 0; ip = Address 22; zero = true; carry = false;\n",
       "   stack = []}\n"
      ]
     },
     "execution_count": 493,
     "metadata": {},
     "output_type": "execute_result"
    }
   ],
   "source": [
    "let primer_branje_11 =\n",
    "  run fibonacci"
   ]
  }
 ],
 "metadata": {
  "kernelspec": {
   "display_name": "OCaml 4.14",
   "language": "OCaml",
   "name": "ocaml-jupyter"
  },
  "language_info": {
   "codemirror_mode": "text/x-ocaml",
   "file_extension": ".ml",
   "mimetype": "text/x-ocaml",
   "name": "OCaml",
   "nbconverter_exporter": null,
   "pygments_lexer": "OCaml",
   "version": "4.14.2"
  }
 },
 "nbformat": 4,
 "nbformat_minor": 2
}
