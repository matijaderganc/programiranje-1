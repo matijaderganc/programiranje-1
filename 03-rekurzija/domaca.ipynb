{
 "cells": [
  {
   "cell_type": "markdown",
   "metadata": {},
   "source": [
    "# Ogrevanje"
   ]
  },
  {
   "cell_type": "code",
   "execution_count": 8,
   "metadata": {
    "vscode": {
     "languageId": "ocaml"
    }
   },
   "outputs": [
    {
     "data": {
      "text/plain": [
       "val stevke : int -> int -> int list = <fun>\n"
      ]
     },
     "execution_count": 8,
     "metadata": {},
     "output_type": "execute_result"
    }
   ],
   "source": [
    "let rec stevke b n =\n",
    "  let rec aux current acc =\n",
    "    match current with\n",
    "    |_ when current < b -> current :: acc\n",
    "    |_ -> aux (current / b) ((current mod b) :: acc)\n",
    "  in\n",
    "  aux n []\n",
    "\n"
   ]
  },
  {
   "cell_type": "code",
   "execution_count": 9,
   "metadata": {
    "vscode": {
     "languageId": "ocaml"
    }
   },
   "outputs": [
    {
     "data": {
      "text/plain": [
       "- : int list = [3; 14; 15; 9]\n"
      ]
     },
     "execution_count": 9,
     "metadata": {},
     "output_type": "execute_result"
    }
   ],
   "source": [
    "stevke 16 (3 * 16 * 16 * 16 + 14 * 16 * 16 + 15 * 16 + 9)"
   ]
  },
  {
   "cell_type": "code",
   "execution_count": 10,
   "metadata": {
    "vscode": {
     "languageId": "ocaml"
    }
   },
   "outputs": [
    {
     "data": {
      "text/plain": [
       "val take : int -> 'a list -> 'a list = <fun>\n"
      ]
     },
     "execution_count": 10,
     "metadata": {},
     "output_type": "execute_result"
    }
   ],
   "source": [
    "let rec take n lst =\n",
    "  let rec aux current acc m =\n",
    "    match (current, m) with \n",
    "    |(_, 0) -> acc\n",
    "    |([], _) -> acc\n",
    "    |(x :: xs, _) -> aux xs (x :: acc) (m - 1)\n",
    "  in\n",
    "  List. rev (aux lst [] n)"
   ]
  },
  {
   "cell_type": "code",
   "execution_count": 11,
   "metadata": {
    "vscode": {
     "languageId": "ocaml"
    }
   },
   "outputs": [
    {
     "data": {
      "text/plain": [
       "- : int list = [1; 2; 3]\n"
      ]
     },
     "execution_count": 11,
     "metadata": {},
     "output_type": "execute_result"
    }
   ],
   "source": [
    "take 3 [1; 2; 3; 4; 5]"
   ]
  },
  {
   "cell_type": "code",
   "execution_count": 12,
   "metadata": {
    "vscode": {
     "languageId": "ocaml"
    }
   },
   "outputs": [
    {
     "data": {
      "text/plain": [
       "val drop_while : ('a -> bool) -> 'a list -> 'a list = <fun>\n"
      ]
     },
     "execution_count": 12,
     "metadata": {},
     "output_type": "execute_result"
    }
   ],
   "source": [
    "let rec drop_while f lst =\n",
    "  match lst with\n",
    "  |[] -> []\n",
    "  |x :: xs when f x -> drop_while f xs\n",
    "  |_ -> lst\n"
   ]
  },
  {
   "cell_type": "code",
   "execution_count": 13,
   "metadata": {
    "vscode": {
     "languageId": "ocaml"
    }
   },
   "outputs": [
    {
     "data": {
      "text/plain": [
       "- : int list = [5; 9; 2; 6; 5; 3; 5]\n"
      ]
     },
     "execution_count": 13,
     "metadata": {},
     "output_type": "execute_result"
    }
   ],
   "source": [
    "drop_while (fun x -> x < 5) [3; 1; 4; 1; 5; 9; 2; 6; 5; 3; 5]\n"
   ]
  },
  {
   "cell_type": "code",
   "execution_count": 14,
   "metadata": {
    "vscode": {
     "languageId": "ocaml"
    }
   },
   "outputs": [
    {
     "data": {
      "text/plain": [
       "- : int list = [9; 8; 7; 6; 5; 4; 3; 2; 1; 0]\n"
      ]
     },
     "execution_count": 14,
     "metadata": {},
     "output_type": "execute_result"
    }
   ],
   "source": [
    "drop_while (fun x -> x < 5) [9; 8; 7; 6; 5; 4; 3; 2; 1; 0]"
   ]
  },
  {
   "cell_type": "code",
   "execution_count": 15,
   "metadata": {
    "vscode": {
     "languageId": "ocaml"
    }
   },
   "outputs": [
    {
     "data": {
      "text/plain": [
       "val filter_mapi : (int -> 'a -> 'b option) -> 'a list -> 'b list = <fun>\n"
      ]
     },
     "execution_count": 15,
     "metadata": {},
     "output_type": "execute_result"
    }
   ],
   "source": [
    "let filter_mapi f lst =\n",
    "  let rec aux current acc i =\n",
    "    match current with\n",
    "    |[] -> acc\n",
    "    |x :: xs -> \n",
    "      match f i x with\n",
    "        |None -> aux xs acc (i + 1)\n",
    "        |Some y -> aux xs (y :: acc) (i + 1)\n",
    "  in\n",
    "  List.rev (aux lst [] 0)"
   ]
  },
  {
   "cell_type": "code",
   "execution_count": 16,
   "metadata": {
    "vscode": {
     "languageId": "ocaml"
    }
   },
   "outputs": [
    {
     "data": {
      "text/plain": [
       "- : int list = [1; 9; 25; 49; 81]\n"
      ]
     },
     "execution_count": 16,
     "metadata": {},
     "output_type": "execute_result"
    }
   ],
   "source": [
    "filter_mapi\n",
    "    (fun i x -> if i mod 2 = 0 then Some (x * x) else None)\n",
    "    [1; 2; 3; 4; 5; 6; 7; 8; 9]"
   ]
  },
  {
   "cell_type": "markdown",
   "metadata": {},
   "source": [
    "# Izomorfizmi množic"
   ]
  },
  {
   "cell_type": "code",
   "execution_count": 17,
   "metadata": {
    "vscode": {
     "languageId": "ocaml"
    }
   },
   "outputs": [
    {
     "data": {
      "text/plain": [
       "val phi1 : 'a * 'b -> 'b * 'a = <fun>\n"
      ]
     },
     "execution_count": 17,
     "metadata": {},
     "output_type": "execute_result"
    }
   ],
   "source": [
    "let phi1 (a, b) =\n",
    "  (b, a)"
   ]
  },
  {
   "cell_type": "code",
   "execution_count": 18,
   "metadata": {
    "vscode": {
     "languageId": "ocaml"
    }
   },
   "outputs": [
    {
     "data": {
      "text/plain": [
       "val psi1 : 'a * 'b -> 'b * 'a = <fun>\n"
      ]
     },
     "execution_count": 18,
     "metadata": {},
     "output_type": "execute_result"
    }
   ],
   "source": [
    "let psi1 (a, b) =\n",
    "  (b, a)"
   ]
  },
  {
   "cell_type": "code",
   "execution_count": 19,
   "metadata": {
    "vscode": {
     "languageId": "ocaml"
    }
   },
   "outputs": [
    {
     "data": {
      "text/plain": [
       "type ('a, 'b) sum = In1 of 'a | In2 of 'b\n"
      ]
     },
     "execution_count": 19,
     "metadata": {},
     "output_type": "execute_result"
    }
   ],
   "source": [
    "type ('a, 'b) sum = In1 of 'a | In2 of 'b"
   ]
  },
  {
   "cell_type": "code",
   "execution_count": 20,
   "metadata": {
    "vscode": {
     "languageId": "ocaml"
    }
   },
   "outputs": [
    {
     "data": {
      "text/plain": [
       "val phi2 : ('a, 'b) sum -> ('b, 'a) sum = <fun>\n"
      ]
     },
     "execution_count": 20,
     "metadata": {},
     "output_type": "execute_result"
    }
   ],
   "source": [
    "let phi2 x =\n",
    "  match x with\n",
    "  |In1 y -> In2 y\n",
    "  |In2 y -> In1 y"
   ]
  },
  {
   "cell_type": "code",
   "execution_count": 21,
   "metadata": {
    "vscode": {
     "languageId": "ocaml"
    }
   },
   "outputs": [
    {
     "data": {
      "text/plain": [
       "val psi2 : ('a, 'b) sum -> ('b, 'a) sum = <fun>\n"
      ]
     },
     "execution_count": 21,
     "metadata": {},
     "output_type": "execute_result"
    }
   ],
   "source": [
    "let psi2 x =\n",
    "  match x with\n",
    "  |In1 y -> In2 y\n",
    "  |In2 y -> In1 y"
   ]
  },
  {
   "cell_type": "code",
   "execution_count": 22,
   "metadata": {
    "vscode": {
     "languageId": "ocaml"
    }
   },
   "outputs": [
    {
     "data": {
      "text/plain": [
       "val phi3 : 'a * ('b * 'c) -> ('a * 'b) * 'c = <fun>\n"
      ]
     },
     "execution_count": 22,
     "metadata": {},
     "output_type": "execute_result"
    }
   ],
   "source": [
    "let phi3 (a, (b, c)) =\n",
    "  ((a, b), c)"
   ]
  },
  {
   "cell_type": "code",
   "execution_count": 23,
   "metadata": {
    "vscode": {
     "languageId": "ocaml"
    }
   },
   "outputs": [
    {
     "data": {
      "text/plain": [
       "val psi3 : ('a * 'b) * 'c -> 'a * ('b * 'c) = <fun>\n"
      ]
     },
     "execution_count": 23,
     "metadata": {},
     "output_type": "execute_result"
    }
   ],
   "source": [
    "let psi3 ((a, b), c) =\n",
    "  (a, (b, c))"
   ]
  },
  {
   "cell_type": "code",
   "execution_count": 24,
   "metadata": {
    "vscode": {
     "languageId": "ocaml"
    }
   },
   "outputs": [
    {
     "data": {
      "text/plain": [
       "val phi4 :\n",
       "  ('a, ('b, 'c) sum) sum -> ((('a, ('b, 'c) sum) sum, 'b) sum, 'c) sum =\n",
       "  <fun>\n"
      ]
     },
     "execution_count": 24,
     "metadata": {},
     "output_type": "execute_result"
    }
   ],
   "source": [
    "let phi4 x =\n",
    "  match x with\n",
    "  |In1 y -> In1 (In1 x)\n",
    "  |In2 y -> \n",
    "    (match y with\n",
    "    |In1 z -> In1 (In2 z)\n",
    "    |In2 z -> In2 z)\n"
   ]
  },
  {
   "cell_type": "code",
   "execution_count": 25,
   "metadata": {
    "vscode": {
     "languageId": "ocaml"
    }
   },
   "outputs": [
    {
     "data": {
      "text/plain": [
       "val psi4 : (('a, 'b) sum, 'c) sum -> ('a, ('b, 'c) sum) sum = <fun>\n"
      ]
     },
     "execution_count": 25,
     "metadata": {},
     "output_type": "execute_result"
    }
   ],
   "source": [
    "let psi4 x =\n",
    "  match x with\n",
    "  |In1 (In1 y) -> In1 y\n",
    "  |In1 (In2 y) -> In2 (In1 y)\n",
    "  |In2 y -> In2 (In2 y)"
   ]
  },
  {
   "cell_type": "code",
   "execution_count": 26,
   "metadata": {
    "vscode": {
     "languageId": "ocaml"
    }
   },
   "outputs": [
    {
     "data": {
      "text/plain": [
       "val phi5 : 'a * ('b, 'c) sum -> ('a * 'b, 'a * 'c) sum = <fun>\n"
      ]
     },
     "execution_count": 26,
     "metadata": {},
     "output_type": "execute_result"
    }
   ],
   "source": [
    "let phi5 (x, y) =\n",
    "  match (x, y) with\n",
    "  |(x, In1 y) -> In1 (x, y)\n",
    "  |(x, In2 y) -> In2 (x, y)"
   ]
  },
  {
   "cell_type": "code",
   "execution_count": 27,
   "metadata": {
    "vscode": {
     "languageId": "ocaml"
    }
   },
   "outputs": [
    {
     "data": {
      "text/plain": [
       "val psi5 : ('a * 'b, 'a * 'c) sum -> 'a * ('b, 'c) sum = <fun>\n"
      ]
     },
     "execution_count": 27,
     "metadata": {},
     "output_type": "execute_result"
    }
   ],
   "source": [
    "let psi5 x =\n",
    "  match x with\n",
    "  |In1 (y, z) -> (y, In1 z)\n",
    "  |In2 (y, z) -> (y, In2 z)"
   ]
  },
  {
   "cell_type": "code",
   "execution_count": 28,
   "metadata": {
    "vscode": {
     "languageId": "ocaml"
    }
   },
   "outputs": [
    {
     "data": {
      "text/plain": [
       "val phi6 : (('a, 'b) sum -> 'c) -> ('a -> 'c) * ('b -> 'c) = <fun>\n"
      ]
     },
     "execution_count": 28,
     "metadata": {},
     "output_type": "execute_result"
    }
   ],
   "source": [
    "let phi6 f =\n",
    "  ((fun b -> f(In1 b)), (fun c -> f(In2(c))))"
   ]
  },
  {
   "cell_type": "code",
   "execution_count": 29,
   "metadata": {
    "vscode": {
     "languageId": "ocaml"
    }
   },
   "outputs": [
    {
     "data": {
      "text/plain": [
       "val psi6 : ('a -> 'b) * ('c -> 'b) -> ('a, 'c) sum -> 'b = <fun>\n"
      ]
     },
     "execution_count": 29,
     "metadata": {},
     "output_type": "execute_result"
    }
   ],
   "source": [
    "let psi6 (f1, f2) x =\n",
    "  match x with\n",
    "  |In1 y -> f1 y\n",
    "  |In2 y -> f2 y"
   ]
  },
  {
   "cell_type": "code",
   "execution_count": 30,
   "metadata": {
    "vscode": {
     "languageId": "ocaml"
    }
   },
   "outputs": [
    {
     "data": {
      "text/plain": [
       "val phi7 : ('a -> 'b * 'c) -> ('a -> 'b) * ('a -> 'c) = <fun>\n"
      ]
     },
     "execution_count": 30,
     "metadata": {},
     "output_type": "execute_result"
    }
   ],
   "source": [
    "let phi7 f =\n",
    "  let p1 (x, y) =\n",
    "    x\n",
    "  in\n",
    "  let p2 (x, y) =\n",
    "    y\n",
    "  in\n",
    "  ((fun c -> p1 (f c)), (fun c-> p2 (f c)))"
   ]
  },
  {
   "cell_type": "code",
   "execution_count": 31,
   "metadata": {
    "vscode": {
     "languageId": "ocaml"
    }
   },
   "outputs": [
    {
     "data": {
      "text/plain": [
       "val psi7 : ('a -> 'b) * ('a -> 'c) -> 'a -> 'b * 'c = <fun>\n"
      ]
     },
     "execution_count": 31,
     "metadata": {},
     "output_type": "execute_result"
    }
   ],
   "source": [
    "let psi7 (f1, f2) =\n",
    "  fun c -> (f1 c, f2 c)"
   ]
  },
  {
   "cell_type": "markdown",
   "metadata": {},
   "source": [
    "# Polinomi"
   ]
  },
  {
   "cell_type": "code",
   "execution_count": 32,
   "metadata": {
    "vscode": {
     "languageId": "ocaml"
    }
   },
   "outputs": [
    {
     "data": {
      "text/plain": [
       "type polinom = int list\n"
      ]
     },
     "execution_count": 32,
     "metadata": {},
     "output_type": "execute_result"
    }
   ],
   "source": [
    "type polinom = int list"
   ]
  },
  {
   "cell_type": "code",
   "execution_count": 33,
   "metadata": {
    "vscode": {
     "languageId": "ocaml"
    }
   },
   "outputs": [
    {
     "data": {
      "text/plain": [
       "val pocisti : polinom -> polinom = <fun>\n"
      ]
     },
     "execution_count": 33,
     "metadata": {},
     "output_type": "execute_result"
    }
   ],
   "source": [
    "let pocisti (p : polinom) : polinom =\n",
    "  let rec aux current =\n",
    "    match current with \n",
    "    |[] -> []\n",
    "    |x :: xs when x = 0 -> aux xs\n",
    "    |_ -> current\n",
    "  in\n",
    "  List.rev (aux (List.rev p)) "
   ]
  },
  {
   "cell_type": "code",
   "execution_count": 34,
   "metadata": {
    "vscode": {
     "languageId": "ocaml"
    }
   },
   "outputs": [
    {
     "data": {
      "text/plain": [
       "- : polinom = [1; -2; 3]\n"
      ]
     },
     "execution_count": 34,
     "metadata": {},
     "output_type": "execute_result"
    }
   ],
   "source": [
    "pocisti [1; -2; 3; 0; 0]"
   ]
  },
  {
   "cell_type": "code",
   "execution_count": 35,
   "metadata": {
    "vscode": {
     "languageId": "ocaml"
    }
   },
   "outputs": [
    {
     "data": {
      "text/plain": [
       "val ( +++ ) : int list -> int list -> polinom = <fun>\n"
      ]
     },
     "execution_count": 35,
     "metadata": {},
     "output_type": "execute_result"
    }
   ],
   "source": [
    "let ( +++ ) p1 p2 =\n",
    "  let rec aux c1 c2 acc =\n",
    "    match (c1, c2) with\n",
    "    |[], [] -> acc\n",
    "    |[], p | p, [] -> (List.rev p) @ acc\n",
    "    |x :: xs, y :: ys -> aux xs ys ((x + y) :: acc)\n",
    "  in\n",
    "  (pocisti (List.rev (aux p1 p2 [])))\n"
   ]
  },
  {
   "cell_type": "code",
   "execution_count": 36,
   "metadata": {
    "vscode": {
     "languageId": "ocaml"
    }
   },
   "outputs": [
    {
     "data": {
      "text/plain": [
       "- : polinom = [1; -1]\n"
      ]
     },
     "execution_count": 36,
     "metadata": {},
     "output_type": "execute_result"
    }
   ],
   "source": [
    "[1;-1] +++ []"
   ]
  },
  {
   "cell_type": "code",
   "execution_count": 37,
   "metadata": {
    "vscode": {
     "languageId": "ocaml"
    }
   },
   "outputs": [
    {
     "data": {
      "text/plain": [
       "val dodaj_nule : int list -> int -> int list = <fun>\n"
      ]
     },
     "execution_count": 37,
     "metadata": {},
     "output_type": "execute_result"
    }
   ],
   "source": [
    "let rec dodaj_nule lst n =\n",
    "  match n with \n",
    "  |0 -> lst\n",
    "  |m -> dodaj_nule (0 :: lst) (m - 1)\n"
   ]
  },
  {
   "cell_type": "code",
   "execution_count": 38,
   "metadata": {
    "vscode": {
     "languageId": "ocaml"
    }
   },
   "outputs": [
    {
     "data": {
      "text/plain": [
       "- : int list = [0; 1; 2; 3]\n"
      ]
     },
     "execution_count": 38,
     "metadata": {},
     "output_type": "execute_result"
    }
   ],
   "source": [
    "dodaj_nule [1;2;3] 1"
   ]
  },
  {
   "cell_type": "code",
   "execution_count": 39,
   "metadata": {
    "vscode": {
     "languageId": "ocaml"
    }
   },
   "outputs": [
    {
     "data": {
      "text/plain": [
       "val ( *** ) : int list -> int list -> polinom = <fun>\n"
      ]
     },
     "execution_count": 39,
     "metadata": {},
     "output_type": "execute_result"
    }
   ],
   "source": [
    "let ( *** ) p1 p2 =\n",
    "  let rec aux current acc n =\n",
    "    match current with\n",
    "    |[] -> acc\n",
    "    |x :: xs -> aux xs (acc +++ (List.map (fun y -> y * x) (dodaj_nule p2 n))) (n + 1)\n",
    "  in\n",
    "  aux p1 [] 0\n"
   ]
  },
  {
   "cell_type": "code",
   "execution_count": 40,
   "metadata": {
    "vscode": {
     "languageId": "ocaml"
    }
   },
   "outputs": [
    {
     "data": {
      "text/plain": [
       "val vrednost : int list -> int -> int = <fun>\n"
      ]
     },
     "execution_count": 40,
     "metadata": {},
     "output_type": "execute_result"
    }
   ],
   "source": [
    "let vrednost p x =\n",
    "  let rec aux current acc n =\n",
    "    match current with\n",
    "    |[] -> acc\n",
    "    |y :: ys -> aux ys (acc + y * int_of_float(((float_of_int x) ** n))) (n +. 1.)\n",
    "  in\n",
    "  aux p 0 0.0"
   ]
  },
  {
   "cell_type": "code",
   "execution_count": 41,
   "metadata": {
    "vscode": {
     "languageId": "ocaml"
    }
   },
   "outputs": [
    {
     "data": {
      "text/plain": [
       "- : int = 9\n"
      ]
     },
     "execution_count": 41,
     "metadata": {},
     "output_type": "execute_result"
    }
   ],
   "source": [
    "vrednost [1; -2; 3] 2"
   ]
  },
  {
   "cell_type": "code",
   "execution_count": 42,
   "metadata": {
    "vscode": {
     "languageId": "ocaml"
    }
   },
   "outputs": [
    {
     "data": {
      "text/plain": [
       "val odvod : polinom -> polinom = <fun>\n"
      ]
     },
     "execution_count": 42,
     "metadata": {},
     "output_type": "execute_result"
    }
   ],
   "source": [
    "let odvod (p : polinom) : polinom =\n",
    "  let rec aux current acc n =\n",
    "    match current with \n",
    "    |[] -> acc\n",
    "    |x :: xs -> aux xs ((x * n) :: acc) (n + 1)\n",
    "  in\n",
    "  List.rev (pocisti (aux p [] 0))"
   ]
  },
  {
   "cell_type": "code",
   "execution_count": 43,
   "metadata": {
    "vscode": {
     "languageId": "ocaml"
    }
   },
   "outputs": [
    {
     "data": {
      "text/plain": [
       "- : polinom = []\n"
      ]
     },
     "execution_count": 43,
     "metadata": {},
     "output_type": "execute_result"
    }
   ],
   "source": [
    "odvod [1]"
   ]
  },
  {
   "cell_type": "code",
   "execution_count": 79,
   "metadata": {
    "vscode": {
     "languageId": "ocaml"
    }
   },
   "outputs": [
    {
     "data": {
      "text/plain": [
       "val int_to_superscript : int -> string = <fun>\n"
      ]
     },
     "execution_count": 79,
     "metadata": {},
     "output_type": "execute_result"
    },
    {
     "data": {
      "text/plain": [
       "val izpis : int list -> string = <fun>\n"
      ]
     },
     "execution_count": 79,
     "metadata": {},
     "output_type": "execute_result"
    }
   ],
   "source": [
    "let int_to_superscript n =\n",
    "  let superscripts = [\"⁰\"; \"¹\"; \"²\"; \"³\"; \"⁴\"; \"⁵\"; \"⁶\"; \"⁷\"; \"⁸\"; \"⁹\"] in\n",
    "  let rec aux n =\n",
    "    if n = 0 then \"\"\n",
    "    else aux (n / 10) ^ List.nth superscripts (n mod 10)\n",
    "  in\n",
    "  aux n\n",
    "\n",
    "let izpis poly =\n",
    "  let rec aux poly degree =\n",
    "    match poly with\n",
    "    | [] -> \"\"\n",
    "    | 0 :: t -> aux t (degree - 1)\n",
    "    | h :: t ->\n",
    "        let term =\n",
    "          match (h, degree) with\n",
    "          | (1, 0) -> \" 1\"\n",
    "          | (1, 1) -> \" x\"\n",
    "          | (1, _) -> \" x\" ^ int_to_superscript degree\n",
    "          | (-1, 1) -> \"- x\"\n",
    "          | (-1, _) -> \"- x\" ^ int_to_superscript degree\n",
    "          | (_, 0) -> string_of_int h\n",
    "          | (_, 1) -> string_of_int h ^ \" x\"\n",
    "          | _ -> string_of_int h ^ \" x\" ^ int_to_superscript degree\n",
    "        in\n",
    "        let rest = aux t (degree - 1) in\n",
    "        if rest = \"\" then term  (* No further terms, just return term *)\n",
    "        else if rest.[0] = '-' then term ^ \" \" ^ rest  (* Negative term: append directly *)\n",
    "        else term ^ \" + \" ^ rest              (* Positive term: append with \" + \" *)\n",
    "  in\n",
    "  aux poly (List.length poly - 1)"
   ]
  },
  {
   "cell_type": "code",
   "execution_count": 78,
   "metadata": {
    "vscode": {
     "languageId": "ocaml"
    }
   },
   "outputs": [
    {
     "data": {
      "text/plain": [
       "- : string = \" x¹² - x¹⁰ +  x⁸ - x⁶ +  x⁴ - x² +  1\"\n"
      ]
     },
     "execution_count": 78,
     "metadata": {},
     "output_type": "execute_result"
    }
   ],
   "source": [
    "izpis [1; 0; -1; 0; 1; 0; -1; 0; 1; 0; -1; 0; 1]"
   ]
  },
  {
   "cell_type": "markdown",
   "metadata": {},
   "source": [
    "# Samodejno odvajanje"
   ]
  },
  {
   "cell_type": "code",
   "execution_count": 47,
   "metadata": {
    "vscode": {
     "languageId": "ocaml"
    }
   },
   "outputs": [
    {
     "data": {
      "text/plain": [
       "val priblizek_odvoda : (float -> float) -> float -> float -> float = <fun>\n"
      ]
     },
     "execution_count": 47,
     "metadata": {},
     "output_type": "execute_result"
    },
    {
     "data": {
      "text/plain": [
       "type odvedljiva = (float -> float) * (float -> float)\n"
      ]
     },
     "execution_count": 47,
     "metadata": {},
     "output_type": "execute_result"
    },
    {
     "data": {
      "text/plain": [
       "val sinus : odvedljiva = (<fun>, <fun>)\n"
      ]
     },
     "execution_count": 47,
     "metadata": {},
     "output_type": "execute_result"
    },
    {
     "data": {
      "text/plain": [
       "val kosinus : odvedljiva = (<fun>, <fun>)\n"
      ]
     },
     "execution_count": 47,
     "metadata": {},
     "output_type": "execute_result"
    },
    {
     "data": {
      "text/plain": [
       "val eksp : odvedljiva = (<fun>, <fun>)\n"
      ]
     },
     "execution_count": 47,
     "metadata": {},
     "output_type": "execute_result"
    },
    {
     "data": {
      "text/plain": [
       "val ( ++. ) : odvedljiva -> odvedljiva -> odvedljiva = <fun>\n"
      ]
     },
     "execution_count": 47,
     "metadata": {},
     "output_type": "execute_result"
    }
   ],
   "source": [
    "let priblizek_odvoda f x0 h =\n",
    "  (f (x0 +. h) -. f x0) /. h\n",
    "\n",
    "type odvedljiva = (float -> float) * (float -> float)\n",
    "\n",
    "let sinus : odvedljiva = (sin, cos)\n",
    "let kosinus : odvedljiva = (cos, (fun x -> -. sin x))\n",
    "let eksp : odvedljiva = (exp, exp)\n",
    "let ( ++. ) : odvedljiva -> odvedljiva -> odvedljiva =\n",
    "  (* pozorni bodite, da anonimni funkciji v paru date med oklepaje *)\n",
    "  fun (f, f') (g, g') -> ((fun x -> f x +. g x), (fun x -> f' x +. g' x))"
   ]
  },
  {
   "cell_type": "code",
   "execution_count": 48,
   "metadata": {
    "vscode": {
     "languageId": "ocaml"
    }
   },
   "outputs": [
    {
     "data": {
      "text/plain": [
       "val vrednost1 : odvedljiva -> float -> float = <fun>\n"
      ]
     },
     "execution_count": 48,
     "metadata": {},
     "output_type": "execute_result"
    },
    {
     "data": {
      "text/plain": [
       "val odvod1 : odvedljiva -> float -> float = <fun>\n"
      ]
     },
     "execution_count": 48,
     "metadata": {},
     "output_type": "execute_result"
    }
   ],
   "source": [
    "let vrednost1 ((f, g) :odvedljiva) x=\n",
    "  f x\n",
    "let odvod1 ((f, g) :odvedljiva) x=\n",
    "  g x"
   ]
  },
  {
   "cell_type": "code",
   "execution_count": 49,
   "metadata": {
    "vscode": {
     "languageId": "ocaml"
    }
   },
   "outputs": [
    {
     "data": {
      "text/plain": [
       "val konstanta : float -> odvedljiva = <fun>\n"
      ]
     },
     "execution_count": 49,
     "metadata": {},
     "output_type": "execute_result"
    },
    {
     "data": {
      "text/plain": [
       "val identiteta : odvedljiva = (<fun>, <fun>)\n"
      ]
     },
     "execution_count": 49,
     "metadata": {},
     "output_type": "execute_result"
    }
   ],
   "source": [
    "let konstanta (x : float) : odvedljiva =\n",
    "  ((fun y -> x), (fun y -> 0.))\n",
    "let identiteta : odvedljiva =\n",
    "  ((fun x -> x), (fun x -> 1.))"
   ]
  },
  {
   "cell_type": "code",
   "execution_count": 50,
   "metadata": {
    "vscode": {
     "languageId": "ocaml"
    }
   },
   "outputs": [
    {
     "data": {
      "text/plain": [
       "val ( **. ) : odvedljiva -> odvedljiva -> odvedljiva = <fun>\n"
      ]
     },
     "execution_count": 50,
     "metadata": {},
     "output_type": "execute_result"
    },
    {
     "data": {
      "text/plain": [
       "val ( //. ) : odvedljiva -> odvedljiva -> odvedljiva = <fun>\n"
      ]
     },
     "execution_count": 50,
     "metadata": {},
     "output_type": "execute_result"
    }
   ],
   "source": [
    "let ( **. ) ((f1, f2) : odvedljiva) ((g1, g2) : odvedljiva) : odvedljiva =\n",
    "  ((fun x -> (f1 x) *. (g1 x)), (fun x -> (f1 x) *. (g2 x) +. (f2 x) *. (g2 x)))\n",
    "\n",
    "let ( //. ) ((f1, f2) : odvedljiva) ((g1, g2) : odvedljiva) : odvedljiva =\n",
    "  ((fun x -> (f1 x) /. (g1 x)), (fun x -> ((g1 x) *. (f2 x) -. (g2 x) *. (f1 x)) /. ((g1 x) *. (g1 x)) ))\n"
   ]
  },
  {
   "cell_type": "code",
   "execution_count": 51,
   "metadata": {
    "vscode": {
     "languageId": "ocaml"
    }
   },
   "outputs": [
    {
     "data": {
      "text/plain": [
       "val ( @@. ) : odvedljiva -> odvedljiva -> odvedljiva = <fun>\n"
      ]
     },
     "execution_count": 51,
     "metadata": {},
     "output_type": "execute_result"
    }
   ],
   "source": [
    "let ( @@. ) ((f1, f2) : odvedljiva) ((g1, g2) : odvedljiva) : odvedljiva =\n",
    "  ((fun x -> f1 (g1 x)), (fun x -> (g2 x) *. (f2 (g1 x))))"
   ]
  },
  {
   "cell_type": "code",
   "execution_count": 52,
   "metadata": {
    "vscode": {
     "languageId": "ocaml"
    }
   },
   "outputs": [
    {
     "data": {
      "text/plain": [
       "val kvadrat : odvedljiva = (<fun>, <fun>)\n"
      ]
     },
     "execution_count": 52,
     "metadata": {},
     "output_type": "execute_result"
    },
    {
     "data": {
      "text/plain": [
       "val vedno_ena : odvedljiva = (<fun>, <fun>)\n"
      ]
     },
     "execution_count": 52,
     "metadata": {},
     "output_type": "execute_result"
    },
    {
     "data": {
      "text/plain": [
       "val get_first : 'a * 'b -> 'a = <fun>\n"
      ]
     },
     "execution_count": 52,
     "metadata": {},
     "output_type": "execute_result"
    }
   ],
   "source": [
    "let kvadrat = identiteta **. identiteta\n",
    "let vedno_ena = (kvadrat @@. sinus) ++. (kvadrat @@. kosinus)\n",
    "let get_first (x, _) = x\n"
   ]
  },
  {
   "cell_type": "code",
   "execution_count": 53,
   "metadata": {
    "vscode": {
     "languageId": "ocaml"
    }
   },
   "outputs": [
    {
     "data": {
      "text/plain": [
       "- : float = 1.\n"
      ]
     },
     "execution_count": 53,
     "metadata": {},
     "output_type": "execute_result"
    }
   ],
   "source": [
    "(get_first vedno_ena) 0.7"
   ]
  },
  {
   "cell_type": "markdown",
   "metadata": {},
   "source": [
    "# Substitucijska šifra"
   ]
  },
  {
   "cell_type": "code",
   "execution_count": 54,
   "metadata": {
    "vscode": {
     "languageId": "ocaml"
    }
   },
   "outputs": [
    {
     "data": {
      "text/plain": [
       "val quick_brown_fox : string = \"THEQUICKBRWNFXJMPSOVLAZYDG\"\n"
      ]
     },
     "execution_count": 54,
     "metadata": {},
     "output_type": "execute_result"
    },
    {
     "data": {
      "text/plain": [
       "val rot13 : string = \"NOPQRSTUVWXYZABCDEFGHIJKLM\"\n"
      ]
     },
     "execution_count": 54,
     "metadata": {},
     "output_type": "execute_result"
    },
    {
     "data": {
      "text/plain": [
       "val indeks : char -> int = <fun>\n"
      ]
     },
     "execution_count": 54,
     "metadata": {},
     "output_type": "execute_result"
    },
    {
     "data": {
      "text/plain": [
       "val crka : int -> char = <fun>\n"
      ]
     },
     "execution_count": 54,
     "metadata": {},
     "output_type": "execute_result"
    }
   ],
   "source": [
    "let quick_brown_fox = \"THEQUICKBRWNFXJMPSOVLAZYDG\"\n",
    "let rot13 = \"NOPQRSTUVWXYZABCDEFGHIJKLM\"\n",
    "let indeks c = Char.code c - Char.code 'A'\n",
    "let crka i = Char.chr (i + Char.code 'A') "
   ]
  },
  {
   "cell_type": "code",
   "execution_count": 55,
   "metadata": {
    "vscode": {
     "languageId": "ocaml"
    }
   },
   "outputs": [
    {
     "data": {
      "text/plain": [
       "val sifriraj : string -> string -> string = <fun>\n"
      ]
     },
     "execution_count": 55,
     "metadata": {},
     "output_type": "execute_result"
    }
   ],
   "source": [
    "let sifriraj sifra beseda =\n",
    "  String.map (fun c -> \n",
    "    try \n",
    "    sifra.[indeks c]\n",
    "    with _ -> c)\n",
    "    beseda"
   ]
  },
  {
   "cell_type": "code",
   "execution_count": 56,
   "metadata": {
    "vscode": {
     "languageId": "ocaml"
    }
   },
   "outputs": [
    {
     "data": {
      "text/plain": [
       "- : string = \"VENI, VIDI, VICI\"\n"
      ]
     },
     "execution_count": 56,
     "metadata": {},
     "output_type": "execute_result"
    }
   ],
   "source": [
    "\"VENI, VIDI, VICI\" |> sifriraj rot13 |> sifriraj rot13"
   ]
  },
  {
   "cell_type": "code",
   "execution_count": 57,
   "metadata": {
    "vscode": {
     "languageId": "ocaml"
    }
   },
   "outputs": [
    {
     "data": {
      "text/plain": [
       "val abeceda : string = \"ABCDEFGHIJKLMNOPQRSTUVWXYZ\"\n"
      ]
     },
     "execution_count": 57,
     "metadata": {},
     "output_type": "execute_result"
    },
    {
     "data": {
      "text/plain": [
       "val inverz : string -> string = <fun>\n"
      ]
     },
     "execution_count": 57,
     "metadata": {},
     "output_type": "execute_result"
    }
   ],
   "source": [
    "let abeceda = \"ABCDEFGHIJKLMNOPQRSTUVWXYZ\" \n",
    "let inverz kljuc =\n",
    "  String.mapi (fun i c ->\n",
    "       crka (String.index kljuc (crka i))\n",
    "  ) kljuc"
   ]
  },
  {
   "cell_type": "code",
   "execution_count": 58,
   "metadata": {
    "vscode": {
     "languageId": "ocaml"
    }
   },
   "outputs": [
    {
     "data": {
      "text/plain": [
       "- : string = \"EABCD\"\n"
      ]
     },
     "execution_count": 58,
     "metadata": {},
     "output_type": "execute_result"
    }
   ],
   "source": [
    "inverz \"BCDEA\""
   ]
  },
  {
   "cell_type": "code",
   "execution_count": 59,
   "metadata": {
    "vscode": {
     "languageId": "ocaml"
    }
   },
   "outputs": [
    {
     "data": {
      "text/plain": [
       "val besede : string =\n",
       "  \"the of to and a in is it you that he was for on are with as i his they be at one have this from or had by word but what some we can out other were all there when up use your how said an each she which do their time if will way about many then them write would like so these her long make thing see h\"... (* string length 5837; truncated *)\n"
      ]
     },
     "execution_count": 59,
     "metadata": {},
     "output_type": "execute_result"
    },
    {
     "data": {
      "text/plain": [
       "val slovar : string list =\n",
       "  [\"THE\"; \"OF\"; \"TO\"; \"AND\"; \"A\"; \"IN\"; \"IS\"; \"IT\"; \"YOU\"; \"THAT\"; \"HE\";\n",
       "   \"WAS\"; \"FOR\"; \"ON\"; \"ARE\"; \"WITH\"; \"AS\"; \"I\"; \"HIS\"; \"THEY\"; \"BE\"; \"AT\";\n",
       "   \"ONE\"; \"HAVE\"; \"THIS\"; \"FROM\"; \"OR\"; \"HAD\"; \"BY\"; \"WORD\"; \"BUT\"; \"WHAT\";\n",
       "   \"SOME\"; \"WE\"; \"CAN\"; \"OUT\"; \"OTHER\"; \"WERE\"; \"ALL\"; \"THERE\"; \"WHEN\"; \"UP\";\n",
       "   \"USE\"; \"YOUR\"; \"HOW\"; \"SAID\"; \"AN\"; \"EACH\"; \"SHE\"; \"WHICH\"; \"DO\"; \"THEIR\";\n",
       "   \"TIME\"; \"IF\"; \"WILL\"; \"WAY\"; \"ABOUT\"; \"MANY\"; \"THEN\"; \"THEM\"; \"WRITE\";\n",
       "   \"WOULD\"; \"LIKE\"; \"SO\"; \"THESE\"; \"HER\"; \"LONG\"; \"MAKE\"; \"THING\"; \"SEE\";\n",
       "   \"HIM\"; \"TWO\"; \"HAS\"; \"LOOK\"; \"MORE\"; \"DAY\"; \"COULD\"; \"GO\"; \"COME\"; \"DID\";\n",
       "   \"NUMBER\"; \"SOUND\"; \"NO\"; \"MOST\"; \"PEOPLE\"; \"MY\"; \"OVER\"; \"KNOW\"; \"WATER\";\n",
       "   \"THAN\"; \"CALL\"; \"FIRST\"; \"WHO\"; \"MAY\"; \"DOWN\"; \"SIDE\"; \"BEEN\"; \"NOW\";\n",
       "   \"FIND\"; \"ANY\"; \"NEW\"; \"WORK\"; \"PART\"; \"TAKE\"; \"GET\"; \"PLACE\"; \"MADE\";\n",
       "   \"LIVE\"; \"WHERE\"; \"AFTER\"; \"BACK\"; \"LITTLE\"; \"ONLY\"; \"ROUND\"; \"MAN\";\n",
       "   \"YEAR\"; \"CAME\"; \"SHOW\"; \"EVERY\"; \"GOOD\"; \"ME\"; \"GIVE\"; \"OUR\"; \"UNDER\";\n",
       "   \"NAME\"; \"VERY\"; \"THROUGH\"; \"JUST\"; \"FORM\"; \"SENTENCE\"; \"GREAT\"; \"THINK\";\n",
       "   \"SAY\"; \"HELP\"; \"LOW\"; \"LINE\"; \"DIFFER\"; \"TURN\"; \"CAUSE\"; \"MUCH\"; \"MEAN\";\n",
       "   \"BEFORE\"; \"MOVE\"; \"RIGHT\"; \"BOY\"; \"OLD\"; \"TOO\"; \"SAME\"; \"TELL\"; \"DOES\";\n",
       "   \"SET\"; \"THREE\"; \"WANT\"; \"AIR\"; \"WELL\"; \"ALSO\"; \"PLAY\"; \"SMALL\"; \"END\";\n",
       "   \"PUT\"; \"HOME\"; \"READ\"; \"HAND\"; \"PORT\"; \"LARGE\"; \"SPELL\"; \"ADD\"; \"EVEN\";\n",
       "   \"LAND\"; \"HERE\"; \"MUST\"; \"BIG\"; \"HIGH\"; \"SUCH\"; \"FOLLOW\"; \"ACT\"; \"WHY\";\n",
       "   \"ASK\"; \"MEN\"; \"CHANGE\"; \"WENT\"; \"LIGHT\"; \"KIND\"; \"OFF\"; \"NEED\"; \"HOUSE\";\n",
       "   \"PICTURE\"; \"TRY\"; \"US\"; \"AGAIN\"; \"ANIMAL\"; \"POINT\"; \"MOTHER\"; \"WORLD\";\n",
       "   \"NEAR\"; \"BUILD\"; \"SELF\"; \"EARTH\"; \"FATHER\"; \"HEAD\"; \"STAND\"; \"OWN\";\n",
       "   \"PAGE\"; \"SHOULD\"; \"COUNTRY\"; \"FOUND\"; \"ANSWER\"; \"SCHOOL\"; \"GROW\"; \"STUDY\";\n",
       "   \"STILL\"; \"LEARN\"; \"PLANT\"; \"COVER\"; \"FOOD\"; \"SUN\"; \"FOUR\"; \"BETWEEN\";\n",
       "   \"STATE\"; \"KEEP\"; \"EYE\"; \"NEVER\"; \"LAST\"; \"LET\"; \"THOUGHT\"; \"CITY\"; \"TREE\";\n",
       "   \"CROSS\"; \"FARM\"; \"HARD\"; \"START\"; \"MIGHT\"; \"STORY\"; \"SAW\"; \"FAR\"; \"SEA\";\n",
       "   \"DRAW\"; \"LEFT\"; \"LATE\"; \"RUN\"; \"DON'T\"; \"WHILE\"; \"PRESS\"; \"CLOSE\";\n",
       "   \"NIGHT\"; \"REAL\"; \"LIFE\"; \"FEW\"; \"NORTH\"; \"OPEN\"; \"SEEM\"; \"TOGETHER\";\n",
       "   \"NEXT\"; \"WHITE\"; \"CHILDREN\"; \"BEGIN\"; \"GOT\"; \"WALK\"; \"EXAMPLE\"; \"EASE\";\n",
       "   \"PAPER\"; \"GROUP\"; \"ALWAYS\"; \"MUSIC\"; \"THOSE\"; \"BOTH\"; \"MARK\"; \"OFTEN\";\n",
       "   \"LETTER\"; \"UNTIL\"; \"MILE\"; \"RIVER\"; \"CAR\"; \"FEET\"; \"CARE\"; \"SECOND\";\n",
       "   \"BOOK\"; \"CARRY\"; \"TOOK\"; \"SCIENCE\"; \"EAT\"; \"ROOM\"; \"FRIEND\"; \"BEGAN\";\n",
       "   \"IDEA\"; \"FISH\"; \"MOUNTAIN\"; \"STOP\"; \"ONCE\"; \"BASE\"; \"HEAR\"; \"HORSE\";\n",
       "   \"CUT\"; \"SURE\"; \"WATCH\"; \"COLOR\"; \"FACE\"; \"WOOD\"; \"MAIN\"; ...]\n"
      ]
     },
     "execution_count": 59,
     "metadata": {},
     "output_type": "execute_result"
    }
   ],
   "source": [
    "let besede = \"the of to and a in is it you that he was for on are with as i his they be at one have this from or had by word but what some we can out other were all there when up use your how said an each she which do their time if will way about many then them write would like so these her long make thing see him two has look more day could go come did number sound no most people my over know water than call first who may down side been now find any new work part take get place made live where after back little only round man year came show every good me give our under name very through just form sentence great think say help low line differ turn cause much mean before move right boy old too same tell does set three want air well also play small end put home read hand port large spell add even land here must big high such follow act why ask men change went light kind off need house picture try us again animal point mother world near build self earth father head stand own page should country found answer school grow study still learn plant cover food sun four between state keep eye never last let thought city tree cross farm hard start might story saw far sea draw left late run don't while press close night real life few north open seem together next white children begin got walk example ease paper group always music those both mark often letter until mile river car feet care second book carry took science eat room friend began idea fish mountain stop once base hear horse cut sure watch color face wood main enough plain girl usual young ready above ever red list though feel talk bird soon body dog family direct pose leave song measure door product black short numeral class wind question happen complete ship area half rock order fire south problem piece told knew pass since top whole king space heard best hour better true . during hundred five remember step early hold west ground interest reach fast verb sing listen six table travel less morning ten simple several vowel toward war lay against pattern slow center love person money serve appear road map rain rule govern pull cold notice voice unit power town fine certain fly fall lead cry dark machine note wait plan figure star box noun field rest correct able pound done beauty drive stood contain front teach week final gave green oh quick develop ocean warm free minute strong special mind behind clear tail produce fact street inch multiply nothing course stay wheel full force blue object decide surface deep moon island foot system busy test record boat common gold possible plane stead dry wonder laugh thousand ago ran check game shape equate hot miss brought heat snow tire bring yes distant fill east paint language among grand ball yet wave drop heart am present heavy dance engine position arm wide sail material size vary settle speak weight general ice matter circle pair include divide syllable felt perhaps pick sudden count square reason length represent art subject region energy hunt probable bed brother egg ride cell believe fraction forest sit race window store summer train sleep prove lone leg exercise wall catch mount wish sky board joy winter sat written wild instrument kept glass grass cow job edge sign visit past soft fun bright gas weather month million bear finish happy hope flower clothe strange gone jump baby eight village meet root buy raise solve metal whether push seven paragraph third shall held hair describe cook floor either result burn hill safe cat century consider type law bit coast copy phrase silent tall sand soil roll temperature finger industry value fight lie beat excite natural view sense ear else quite broke case middle kill son lake moment scale loud spring observe child straight consonant nation dictionary milk speed method organ pay age section dress cloud surprise quiet stone tiny climb cool design poor lot experiment bottom key iron single stick flat twenty skin smile crease hole trade melody trip office receive row mouth exact symbol die least trouble shout except wrote seed tone join suggest clean break lady yard rise bad blow oil blood touch grew cent mix team wire cost lost brown wear garden equal sent choose fell fit flow fair bank collect save control decimal gentle woman captain practice separate difficult doctor please protect noon whose locate ring character insect caught period indicate radio spoke atom human history effect electric expect crop modern element hit student corner party supply bone rail imagine provide agree thus capital won't chair danger fruit rich thick soldier process operate guess necessary sharp wing create neighbor wash bat rather crowd corn compare poem string bell depend meat rub tube famous dollar stream fear sight thin triangle planet hurry chief colony clock mine tie enter major fresh search send yellow gun allow print dead spot desert suit current lift rose continue block chart hat sell success company subtract event particular deal swim term opposite wife shoe shoulder spread arrange camp invent cotton born determine quart nine truck noise level chance gather shop stretch throw shine property column molecule select wrong gray repeat require broad prepare salt nose plural anger claim continent oxygen sugar death pretty skill women season solution magnet silver thank branch match suffix especially fig afraid huge sister steel discuss forward similar guide experience score apple bought led pitch coat mass card band rope slip win dream evening condition feed tool total basic smell valley nor double seat arrive master track parent shore division sheet substance favor connect post spend chord fat glad original share station dad bread charge proper bar offer segment slave duck instant market degree populate chick dear enemy reply drink occur support speech nature range steam motion path liquid log meant quotient teeth shell neck\"\n",
    "let slovar = String.split_on_char ' ' (String.uppercase_ascii besede)"
   ]
  },
  {
   "cell_type": "code",
   "execution_count": 60,
   "metadata": {
    "vscode": {
     "languageId": "ocaml"
    }
   },
   "outputs": [
    {
     "data": {
      "text/plain": [
       "val menjaj_crko : string -> int -> char -> string = <fun>\n"
      ]
     },
     "execution_count": 60,
     "metadata": {},
     "output_type": "execute_result"
    },
    {
     "data": {
      "text/plain": [
       "val dodaj_zamenjavo : string -> char * char -> string option = <fun>\n"
      ]
     },
     "execution_count": 60,
     "metadata": {},
     "output_type": "execute_result"
    }
   ],
   "source": [
    "let menjaj_crko str index nova =\n",
    "  let mutable_str = Bytes.of_string str in  (* spremenimo v mutable byte *)\n",
    "  Bytes.set mutable_str index nova;      (* spremenimo crko *)\n",
    "  Bytes.to_string mutable_str \n",
    "\n",
    "let dodaj_zamenjavo kljuc (c1, c2) =\n",
    "  if  kljuc.[indeks c1] = c2 then\n",
    "    Some kljuc\n",
    "  else if String.contains kljuc c2 then \n",
    "    None\n",
    "  else if kljuc.[indeks c1] <> '_' then\n",
    "    None\n",
    "  else\n",
    "    Some (menjaj_crko kljuc (indeks c1) c2)"
   ]
  },
  {
   "cell_type": "code",
   "execution_count": 61,
   "metadata": {
    "vscode": {
     "languageId": "ocaml"
    }
   },
   "outputs": [
    {
     "data": {
      "text/plain": [
       "- : string option = Some \"ABXYE\"\n"
      ]
     },
     "execution_count": 61,
     "metadata": {},
     "output_type": "execute_result"
    }
   ],
   "source": [
    "dodaj_zamenjavo \"ABX_E\" ('D', 'Y')"
   ]
  },
  {
   "cell_type": "code",
   "execution_count": 62,
   "metadata": {
    "vscode": {
     "languageId": "ocaml"
    }
   },
   "outputs": [
    {
     "data": {
      "text/plain": [
       "val dodaj_zamenjave : string -> String.t * String.t -> string option = <fun>\n"
      ]
     },
     "execution_count": 62,
     "metadata": {},
     "output_type": "execute_result"
    }
   ],
   "source": [
    "let rec dodaj_zamenjave kljuc (beseda, slika) =\n",
    "  let rec aux key sez1 sez2 =\n",
    "    match (sez1, sez2) with\n",
    "    |([], []) -> Some key\n",
    "    |([], _) -> None\n",
    "    |(_, []) -> None\n",
    "    |(x :: xs, y :: ys) -> (match dodaj_zamenjavo key (x, y) with\n",
    "      |None -> None\n",
    "      |Some nov_kljuc -> aux nov_kljuc xs ys\n",
    "  )\n",
    "in\n",
    "aux kljuc (List.of_seq (String.to_seq beseda)) (List.of_seq (String.to_seq slika)) "
   ]
  },
  {
   "cell_type": "code",
   "execution_count": 63,
   "metadata": {
    "vscode": {
     "languageId": "ocaml"
    }
   },
   "outputs": [
    {
     "data": {
      "text/plain": [
       "- : string option = None\n"
      ]
     },
     "execution_count": 63,
     "metadata": {},
     "output_type": "execute_result"
    }
   ],
   "source": [
    "dodaj_zamenjave \"ABCDE_____________________\" (\"HELLO\", \"KUNNJ\")"
   ]
  },
  {
   "cell_type": "code",
   "execution_count": 64,
   "metadata": {
    "vscode": {
     "languageId": "ocaml"
    }
   },
   "outputs": [
    {
     "data": {
      "text/plain": [
       "val mozne_razsiritve : string -> String.t -> String.t list -> string list =\n",
       "  <fun>\n"
      ]
     },
     "execution_count": 64,
     "metadata": {},
     "output_type": "execute_result"
    }
   ],
   "source": [
    "let mozne_razsiritve kljuc beseda slovar =\n",
    "  let n = String.length beseda in\n",
    "  let primerne = List.filter_map (fun bsd -> if String.length bsd = n then Some bsd else None) slovar in\n",
    "  let pari = List.map (fun x -> (beseda, x)) primerne in\n",
    "  List.filter_map (fun (b1, slika) -> dodaj_zamenjave kljuc (b1, slika)) pari\n"
   ]
  },
  {
   "cell_type": "code",
   "execution_count": 65,
   "metadata": {
    "vscode": {
     "languageId": "ocaml"
    }
   },
   "outputs": [
    {
     "data": {
      "text/plain": [
       "- : string list =\n",
       "[\"_________YC__R______A_____\"; \"_________DS__O______T_____\";\n",
       " \"_________NG__E______R_____\"; \"_________LW__E______H_____\";\n",
       " \"_________PS__E______L_____\"; \"_________YH__P______A_____\";\n",
       " \"_________RF__O______L_____\"; \"_________DS__E______P_____\";\n",
       " \"_________DB__O______L_____\"; \"_________YH__R______U_____\";\n",
       " \"_________LS__E______T_____\"; \"_________TS__E______H_____\"]\n"
      ]
     },
     "execution_count": 65,
     "metadata": {},
     "output_type": "execute_result"
    }
   ],
   "source": [
    "mozne_razsiritve \"__________________________\" \"KUNNJ\" slovar"
   ]
  },
  {
   "cell_type": "code",
   "execution_count": 66,
   "metadata": {
    "vscode": {
     "languageId": "ocaml"
    }
   },
   "outputs": [
    {
     "data": {
      "text/plain": [
       "val razsiri : string list -> string list -> String.t -> string list = <fun>\n"
      ]
     },
     "execution_count": 66,
     "metadata": {},
     "output_type": "execute_result"
    }
   ],
   "source": [
    "let rec razsiri seznam_kljucev acc beseda =\n",
    "  match seznam_kljucev with\n",
    "  |[] -> acc\n",
    "  |x :: xs -> razsiri xs (acc @ (mozne_razsiritve x beseda slovar)) beseda "
   ]
  },
  {
   "cell_type": "code",
   "execution_count": 67,
   "metadata": {
    "vscode": {
     "languageId": "ocaml"
    }
   },
   "outputs": [
    {
     "data": {
      "text/plain": [
       "- : string list =\n",
       "[\"_________YC__R______A_____\"; \"_________DS__O______T_____\";\n",
       " \"_________NG__E______R_____\"; \"_________LW__E______H_____\";\n",
       " \"_________PS__E______L_____\"; \"_________YH__P______A_____\";\n",
       " \"_________RF__O______L_____\"; \"_________DS__E______P_____\";\n",
       " \"_________DB__O______L_____\"; \"_________YH__R______U_____\";\n",
       " \"_________LS__E______T_____\"; \"_________TS__E______H_____\"]\n"
      ]
     },
     "execution_count": 67,
     "metadata": {},
     "output_type": "execute_result"
    }
   ],
   "source": [
    "razsiri [\"_________YC__R______A_____\"; \"_________DS__O______T_____\";\n",
    "\"_________NG__E______R_____\"; \"_________LW__E______H_____\";\n",
    "\"_________PS__E______L_____\"; \"_________YH__P______A_____\";\n",
    "\"_________RF__O______L_____\"; \"_________DS__E______P_____\";\n",
    "\"_________DB__O______L_____\"; \"_________YH__R______U_____\";\n",
    "\"_________LS__E______T_____\"; \"_________TS__E______H_____\"] [] \"KUNNJ\""
   ]
  },
  {
   "cell_type": "code",
   "execution_count": 68,
   "metadata": {
    "vscode": {
     "languageId": "ocaml"
    }
   },
   "outputs": [
    {
     "data": {
      "text/plain": [
       "val fst : 'a list -> 'a option = <fun>\n"
      ]
     },
     "execution_count": 68,
     "metadata": {},
     "output_type": "execute_result"
    },
    {
     "data": {
      "text/plain": [
       "val odsifriraj : string -> string option = <fun>\n"
      ]
     },
     "execution_count": 68,
     "metadata": {},
     "output_type": "execute_result"
    }
   ],
   "source": [
    "let fst lst =\n",
    "  match lst with\n",
    "  |[] -> None\n",
    "  |x :: xs -> Some x\n",
    "\n",
    "let odsifriraj besedilo =\n",
    "  let besede = String.split_on_char ' ' besedilo in\n",
    "  let rec aux seznam acc =\n",
    "    match seznam with \n",
    "    |[] -> acc\n",
    "    |x :: xs -> aux xs (razsiri acc [] x)\n",
    "  in\n",
    "  let ustrezni = aux besede [\"__________________________\"] in\n",
    "  match (fst ustrezni) with\n",
    "  |Some x -> Some (sifriraj x besedilo)\n",
    "  |None -> None"
   ]
  },
  {
   "cell_type": "code",
   "execution_count": 69,
   "metadata": {
    "vscode": {
     "languageId": "ocaml"
    }
   },
   "outputs": [
    {
     "data": {
      "text/plain": [
       "- : string option = Some \"THIS IS A VERY HARD PROBLEM\"\n"
      ]
     },
     "execution_count": 69,
     "metadata": {},
     "output_type": "execute_result"
    },
    {
     "data": {
      "text/plain": [
       "- : string option = Some \"I LIKE MEN WITH OIL IS GREAT SENTENCE\"\n"
      ]
     },
     "execution_count": 69,
     "metadata": {},
     "output_type": "execute_result"
    }
   ],
   "source": [
    "odsifriraj \"VKBO BO T AUSD KTSQ MSJHNUF\" ;;\n",
    "odsifriraj (sifriraj quick_brown_fox \"I LIKE MEN WITH OIL IS GREAT SENTENCE\" ) ;;"
   ]
  }
 ],
 "metadata": {
  "kernelspec": {
   "display_name": "OCaml 4.14",
   "language": "OCaml",
   "name": "ocaml-jupyter"
  },
  "language_info": {
   "codemirror_mode": "text/x-ocaml",
   "file_extension": ".ml",
   "mimetype": "text/x-ocaml",
   "name": "OCaml",
   "nbconverter_exporter": null,
   "pygments_lexer": "OCaml",
   "version": "4.14.2"
  }
 },
 "nbformat": 4,
 "nbformat_minor": 2
}
