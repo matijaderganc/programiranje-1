{
 "cells": [
  {
   "cell_type": "code",
   "execution_count": 1,
   "metadata": {
    "vscode": {
     "languageId": "ocaml"
    }
   },
   "outputs": [
    {
     "data": {
      "text/plain": [
       "type direction = Left | Right\n"
      ]
     },
     "execution_count": 1,
     "metadata": {},
     "output_type": "execute_result"
    },
    {
     "data": {
      "text/plain": [
       "type state = string\n"
      ]
     },
     "execution_count": 1,
     "metadata": {},
     "output_type": "execute_result"
    }
   ],
   "source": [
    "type direction = Left | Right\n",
    "type state = string"
   ]
  },
  {
   "cell_type": "code",
   "execution_count": 2,
   "metadata": {
    "vscode": {
     "languageId": "ocaml"
    }
   },
   "outputs": [
    {
     "data": {
      "text/plain": [
       "module type TAPE =\n",
       "  sig\n",
       "    type t\n",
       "    val make : string -> t\n",
       "    val move : direction -> t -> t\n",
       "    val read : t -> char\n",
       "    val write : char -> t -> t\n",
       "    val print : t -> unit\n",
       "  end\n"
      ]
     },
     "execution_count": 2,
     "metadata": {},
     "output_type": "execute_result"
    }
   ],
   "source": [
    "module type TAPE = sig\n",
    "  type t\n",
    "\n",
    "  val make : string -> t\n",
    "  val move : direction -> t -> t\n",
    "  val read : t -> char\n",
    "  val write : char -> t -> t\n",
    "  val print : t -> unit\n",
    "end"
   ]
  },
  {
   "cell_type": "code",
   "execution_count": 3,
   "metadata": {
    "vscode": {
     "languageId": "ocaml"
    }
   },
   "outputs": [
    {
     "data": {
      "text/plain": [
       "module Tape : TAPE\n"
      ]
     },
     "execution_count": 3,
     "metadata": {},
     "output_type": "execute_result"
    }
   ],
   "source": [
    "module Tape : TAPE = struct\n",
    "  type t = {left : char list ; right : char list}\n",
    "  let string_to_char_list s =\n",
    "    List.of_seq (String.to_seq s)\n",
    "\n",
    "  let make s =\n",
    "    {left  = []; right = string_to_char_list s}\n",
    "\n",
    "  let move (d : direction) (tape : t) =\n",
    "    match d with\n",
    "    | Left -> (match tape.left with\n",
    "      | [] -> {left = []; right = ' ' :: tape.right}\n",
    "      | x :: xs -> {left = xs; right = x :: tape.right})\n",
    "    | Right -> (match tape.right with\n",
    "      | [] -> {left = ' ' :: tape.left ; right = []}\n",
    "      | x :: xs -> {left = x :: tape.left ; right = xs})\n",
    "\n",
    "  let read (tape : t) =\n",
    "    match tape.right with\n",
    "    | [] -> ' '\n",
    "    | x :: xs -> x\n",
    "\n",
    "  let write (x : char) (tape : t) =\n",
    "    match tape.right with\n",
    "    | [] -> {left = tape.left; right = [x]}\n",
    "    | y :: ys -> {left = tape.left; right = x :: ys }\n",
    "  \n",
    "  let print (tape : t) =\n",
    "    let left_str = String.concat \"\" (List.rev_map (String.make 1) tape.left) in\n",
    "    let right_str = String.concat \"\" (List.map (String.make 1) tape.right) in\n",
    "    let full_tape = left_str ^ right_str in\n",
    "    let head_position = String.length left_str in\n",
    "    let marker = String.make head_position ' ' ^ \"^\" in\n",
    "    print_endline (full_tape ^ \"\\n\" ^ marker)\n",
    "\n",
    "end"
   ]
  },
  {
   "cell_type": "code",
   "execution_count": 4,
   "metadata": {
    "vscode": {
     "languageId": "ocaml"
    }
   },
   "outputs": [
    {
     "name": "stdout",
     "output_type": "stream",
     "text": [
      "AB!DE\n",
      " ^\n"
     ]
    },
    {
     "data": {
      "text/plain": [
       "- : unit = ()\n"
      ]
     },
     "execution_count": 4,
     "metadata": {},
     "output_type": "execute_result"
    }
   ],
   "source": [
    "Tape.(\n",
    "  make \"ABCDE\"\n",
    "  |> move Right\n",
    "  |> move Right\n",
    "  |> write '!'\n",
    "  |> move Left\n",
    "  |> print\n",
    ")"
   ]
  },
  {
   "cell_type": "code",
   "execution_count": 5,
   "metadata": {
    "vscode": {
     "languageId": "ocaml"
    }
   },
   "outputs": [
    {
     "data": {
      "text/plain": [
       "module type MACHINE =\n",
       "  sig\n",
       "    type t\n",
       "    val make : state -> state list -> t\n",
       "    val initial : t -> state\n",
       "    val add_transition :\n",
       "      state -> char -> state -> char -> direction -> t -> t\n",
       "    val step : t -> state -> Tape.t -> (state * Tape.t) option\n",
       "  end\n"
      ]
     },
     "execution_count": 5,
     "metadata": {},
     "output_type": "execute_result"
    }
   ],
   "source": [
    "module type MACHINE = sig\n",
    "  type t\n",
    "  val make : state -> state list -> t\n",
    "  val initial : t -> state\n",
    "  val add_transition : state -> char -> state -> char -> direction -> t -> t\n",
    "  val step : t -> state -> Tape.t -> (state * Tape.t) option\n",
    "end"
   ]
  },
  {
   "cell_type": "code",
   "execution_count": 6,
   "metadata": {
    "vscode": {
     "languageId": "ocaml"
    }
   },
   "outputs": [
    {
     "data": {
      "text/plain": [
       "module Machine : MACHINE\n"
      ]
     },
     "execution_count": 6,
     "metadata": {},
     "output_type": "execute_result"
    }
   ],
   "source": [
    "module Machine : MACHINE = struct\n",
    "  type t = {state_list : state list ; initial : state ; delta : (state * char * direction) option array array; state_index : state -> int }\n",
    "  module StateMap = Map.Make(String)\n",
    "\n",
    "  let make_state_to_int_func (states : string list) : (string -> int) =\n",
    "    let state_map = \n",
    "      List.fold_left (fun map (i, state) -> StateMap.add state i map) StateMap.empty (List.mapi (fun i state -> (i, state)) states)\n",
    "    in\n",
    "    fun state -> StateMap.find state state_map\n",
    "\n",
    "  let make initial_state states =\n",
    "    let all_states = initial_state :: states in\n",
    "    let num_symbols = 256 in\n",
    "    let num_states = List.length all_states in\n",
    "    let transitions = Array.make_matrix num_states num_symbols None in \n",
    "    {state_list = all_states; initial = initial_state; delta = transitions; state_index = make_state_to_int_func all_states}\n",
    "\n",
    "  let initial t =\n",
    "    t.initial\n",
    "  \n",
    "  let add_transition input_state input_char output_state output_char output_direction tm =\n",
    "    let s_index = tm.state_index input_state in\n",
    "    let char_index = int_of_char input_char in\n",
    "    let kopija = Array.copy tm.delta in\n",
    "    kopija.(s_index).(char_index) <- Some (output_state, output_char, output_direction);\n",
    "    {state_list = tm.state_list ; initial = tm.initial; delta = kopija ; state_index = tm.state_index} \n",
    "  \n",
    "  let step tm state tape =\n",
    "    let s_index = tm.state_index state in\n",
    "    let head = Tape.read tape in\n",
    "    let char_index = int_of_char head in\n",
    "    match tm.delta.(s_index).(char_index) with\n",
    "    | None -> None\n",
    "    | Some (output_state, output_char, output_direction) -> Some (output_state, Tape.move output_direction (Tape.write output_char tape) )\n",
    "end"
   ]
  },
  {
   "cell_type": "code",
   "execution_count": 7,
   "metadata": {
    "vscode": {
     "languageId": "ocaml"
    }
   },
   "outputs": [
    {
     "data": {
      "text/plain": [
       "val binary_increment : Machine.t = <abstr>\n"
      ]
     },
     "execution_count": 7,
     "metadata": {},
     "output_type": "execute_result"
    }
   ],
   "source": [
    "let binary_increment =\n",
    "  Machine.(\n",
    "    make \"right\" [ \"carry\"; \"done\" ]\n",
    "    |> add_transition \"right\" '1' \"right\" '1' Right\n",
    "    |> add_transition \"right\" '0' \"right\" '0' Right\n",
    "    |> add_transition \"right\" ' ' \"carry\" ' ' Left\n",
    "    |> add_transition \"carry\" '1' \"carry\" '0' Left\n",
    "    |> add_transition \"carry\" '0' \"done\" '1' Left\n",
    "    |> add_transition \"carry\" ' ' \"done\" '1' Left\n",
    "  )"
   ]
  },
  {
   "cell_type": "code",
   "execution_count": 8,
   "metadata": {
    "vscode": {
     "languageId": "ocaml"
    }
   },
   "outputs": [
    {
     "data": {
      "text/plain": [
       "val slow_run : Machine.t -> string -> unit = <fun>\n"
      ]
     },
     "execution_count": 8,
     "metadata": {},
     "output_type": "execute_result"
    }
   ],
   "source": [
    "let slow_run (tm : Machine.t) str = \n",
    "  let initial_tape = Tape.make str in\n",
    "  Tape.print initial_tape ;\n",
    "  print_endline (Machine.initial tm);\n",
    "  let rec aux t s tape =\n",
    "    match Machine.step t s tape with \n",
    "    | None -> print_endline(\"Machine halted\") ;\n",
    "    | Some (s1, tape1) -> \n",
    "      Tape.print tape1 ;\n",
    "      print_endline(s1) ;\n",
    "      aux t s1 tape1\n",
    "    in\n",
    "  aux tm (Machine.initial tm) initial_tape\n"
   ]
  },
  {
   "cell_type": "code",
   "execution_count": 9,
   "metadata": {
    "vscode": {
     "languageId": "ocaml"
    }
   },
   "outputs": [
    {
     "data": {
      "text/plain": [
       "val speed_run : Machine.t -> string -> unit = <fun>\n"
      ]
     },
     "execution_count": 9,
     "metadata": {},
     "output_type": "execute_result"
    }
   ],
   "source": [
    "let speed_run (tm : Machine.t) str = \n",
    "  let initial_tape = Tape.make str in\n",
    "  let rec aux t s tape =\n",
    "    match Machine.step t s tape with \n",
    "    | None -> Tape.print tape;\n",
    "    | Some (s1, t1) ->\n",
    "      aux t s1 t1\n",
    "    in\n",
    "  aux tm (Machine.initial tm) initial_tape"
   ]
  },
  {
   "cell_type": "code",
   "execution_count": 10,
   "metadata": {
    "vscode": {
     "languageId": "ocaml"
    }
   },
   "outputs": [
    {
     "data": {
      "text/plain": [
       "val test_run : Machine.t -> string -> int -> unit = <fun>\n"
      ]
     },
     "execution_count": 10,
     "metadata": {},
     "output_type": "execute_result"
    }
   ],
   "source": [
    "let test_run (tm : Machine.t) str n= \n",
    "  let initial_tape = Tape.make str in\n",
    "  Tape.print initial_tape ;\n",
    "  print_endline (Machine.initial tm);\n",
    "  let rec aux turing state tape m =\n",
    "    match m with \n",
    "    | 0 -> print_endline \"X\"\n",
    "    | m ->  match Machine.step turing state tape with \n",
    "    | None -> print_endline (\"HALTS\") ;\n",
    "    | Some (s1, t1) -> \n",
    "      Tape.print t1 ;\n",
    "      print_endline (s1);\n",
    "      aux turing s1 t1 (m - 1)\n",
    "    in \n",
    "    aux tm (Machine.initial tm) initial_tape n"
   ]
  },
  {
   "cell_type": "code",
   "execution_count": 16,
   "metadata": {
    "vscode": {
     "languageId": "ocaml"
    }
   },
   "outputs": [
    {
     "name": "stdout",
     "output_type": "stream",
     "text": [
      "1011\n",
      "^\n",
      "right\n",
      "1011\n",
      " ^\n",
      "right\n",
      "1011\n",
      "  ^\n",
      "right\n",
      "1011\n",
      "   ^\n",
      "right\n",
      "1011\n",
      "    ^\n",
      "right\n",
      "1011 \n",
      "   ^\n",
      "carry\n",
      "1010 \n",
      "  ^\n",
      "carry\n",
      "1000 \n",
      " ^\n",
      "carry\n",
      "1100 \n",
      "^\n",
      "done\n",
      "Machine halted\n"
     ]
    },
    {
     "data": {
      "text/plain": [
       "val primer_slow_run : unit = ()\n"
      ]
     },
     "execution_count": 16,
     "metadata": {},
     "output_type": "execute_result"
    }
   ],
   "source": [
    "let primer_slow_run =\n",
    "  slow_run binary_increment \"1011\" "
   ]
  },
  {
   "cell_type": "code",
   "execution_count": 12,
   "metadata": {
    "vscode": {
     "languageId": "ocaml"
    }
   },
   "outputs": [
    {
     "name": "stdout",
     "output_type": "stream",
     "text": [
      "1100 \n",
      "^\n"
     ]
    },
    {
     "data": {
      "text/plain": [
       "val primer_speed_run : unit = ()\n"
      ]
     },
     "execution_count": 12,
     "metadata": {},
     "output_type": "execute_result"
    }
   ],
   "source": [
    "let primer_speed_run =\n",
    "  speed_run binary_increment \"1011\""
   ]
  },
  {
   "cell_type": "code",
   "execution_count": 13,
   "metadata": {
    "vscode": {
     "languageId": "ocaml"
    }
   },
   "outputs": [
    {
     "data": {
      "text/plain": [
       "val for_state :\n",
       "  state ->\n",
       "  (state -> Machine.t -> Machine.t) list list -> Machine.t -> Machine.t =\n",
       "  <fun>\n"
      ]
     },
     "execution_count": 13,
     "metadata": {},
     "output_type": "execute_result"
    },
    {
     "data": {
      "text/plain": [
       "val for_character :\n",
       "  char ->\n",
       "  (char -> state -> Machine.t -> Machine.t) ->\n",
       "  (state -> Machine.t -> Machine.t) list = <fun>\n"
      ]
     },
     "execution_count": 13,
     "metadata": {},
     "output_type": "execute_result"
    },
    {
     "data": {
      "text/plain": [
       "val for_characters :\n",
       "  string ->\n",
       "  (char -> state -> Machine.t -> Machine.t) ->\n",
       "  (state -> Machine.t -> Machine.t) list = <fun>\n"
      ]
     },
     "execution_count": 13,
     "metadata": {},
     "output_type": "execute_result"
    },
    {
     "data": {
      "text/plain": [
       "val write_and_move :\n",
       "  char -> direction -> char -> state -> Machine.t -> Machine.t = <fun>\n"
      ]
     },
     "execution_count": 13,
     "metadata": {},
     "output_type": "execute_result"
    },
    {
     "data": {
      "text/plain": [
       "val move : direction -> char -> state -> Machine.t -> Machine.t = <fun>\n"
      ]
     },
     "execution_count": 13,
     "metadata": {},
     "output_type": "execute_result"
    },
    {
     "data": {
      "text/plain": [
       "val switch_and_move :\n",
       "  state -> direction -> char -> state -> Machine.t -> Machine.t = <fun>\n"
      ]
     },
     "execution_count": 13,
     "metadata": {},
     "output_type": "execute_result"
    },
    {
     "data": {
      "text/plain": [
       "val write_switch_and_move :\n",
       "  char -> state -> direction -> char -> state -> Machine.t -> Machine.t =\n",
       "  <fun>\n"
      ]
     },
     "execution_count": 13,
     "metadata": {},
     "output_type": "execute_result"
    }
   ],
   "source": [
    "let for_state (s : state) (instructions : (state -> Machine.t -> Machine.t) list list) (tm : Machine.t) =\n",
    "  let all_functions = List.concat instructions in \n",
    "  List.fold_left (fun acc f -> f s acc) tm all_functions\n",
    "\n",
    "let for_character (c : char) (f : char -> state -> Machine.t -> Machine.t) =\n",
    "  [f c]\n",
    "  \n",
    "let for_characters (chars : string) (f : char -> state -> Machine.t -> Machine.t) =\n",
    "  List.init (String.length chars) (fun i -> f (String.get chars i))\n",
    "  \n",
    "let write_and_move (c : char) (d : direction) =\n",
    "  fun in_char state -> Machine.add_transition state in_char state c d\n",
    "  \n",
    "let move (d : direction) =\n",
    "  fun c state ->\n",
    "    Machine.add_transition state c state c d\n",
    "      \n",
    "let switch_and_move (s : state) (d : direction) =\n",
    "  fun c in_state -> \n",
    "    Machine.add_transition in_state c s c d\n",
    "  \n",
    "let write_switch_and_move (c : char) (s : state) (d : direction) =\n",
    "  fun in_char in_state ->\n",
    "    Machine.add_transition in_state in_char s c d\n",
    "\n"
   ]
  },
  {
   "cell_type": "code",
   "execution_count": 14,
   "metadata": {
    "vscode": {
     "languageId": "ocaml"
    }
   },
   "outputs": [
    {
     "data": {
      "text/plain": [
       "val binary_increment' : Machine.t = <abstr>\n"
      ]
     },
     "execution_count": 14,
     "metadata": {},
     "output_type": "execute_result"
    }
   ],
   "source": [
    "let binary_increment' =\n",
    "  Machine.make \"right\" [\"carry\"; \"done\"]\n",
    "  |> for_state \"right\" [\n",
    "    for_characters \"01\" @@ move Right;\n",
    "    for_character ' ' @@ switch_and_move \"carry\" Left\n",
    "  ]\n",
    "  |> for_state \"carry\" [\n",
    "    for_character '1' @@ write_and_move '0' Left;\n",
    "    for_characters \"0 \" @@ write_switch_and_move '1' \"done\" Left\n",
    "  ] "
   ]
  },
  {
   "cell_type": "code",
   "execution_count": 15,
   "metadata": {
    "vscode": {
     "languageId": "ocaml"
    }
   },
   "outputs": [
    {
     "name": "stdout",
     "output_type": "stream",
     "text": [
      "101100 \n",
      "  ^\n"
     ]
    },
    {
     "data": {
      "text/plain": [
       "val primer_speed_run2 : unit = ()\n"
      ]
     },
     "execution_count": 15,
     "metadata": {},
     "output_type": "execute_result"
    }
   ],
   "source": [
    "let primer_speed_run2 =\n",
    "  speed_run binary_increment' \"101011\""
   ]
  }
 ],
 "metadata": {
  "kernelspec": {
   "display_name": "OCaml 4.14",
   "language": "OCaml",
   "name": "ocaml-jupyter"
  },
  "language_info": {
   "codemirror_mode": "text/x-ocaml",
   "file_extension": ".ml",
   "mimetype": "text/x-ocaml",
   "name": "OCaml",
   "nbconverter_exporter": null,
   "pygments_lexer": "OCaml",
   "version": "4.14.2"
  }
 },
 "nbformat": 4,
 "nbformat_minor": 2
}
