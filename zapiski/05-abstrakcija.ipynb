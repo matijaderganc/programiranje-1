{
 "cells": [
  {
   "cell_type": "markdown",
   "id": "a751d058",
   "metadata": {},
   "source": [
    "# Abstrakcija"
   ]
  },
  {
   "cell_type": "markdown",
   "id": "f3a247aa",
   "metadata": {},
   "source": [
    "Ko pišemo večje programe, je dobro, da jih razdelimo na manjše dele, ki jih lahko ločeno razumemo, razvijamo in preizkušamo. Pravimo, da programe pišemo _modularno_. V programskih jezikih modularnost dosežemo na več načinov. Eden, na katerega smo že navajeni, je razbitje kode na funkcije. Dostikrat pa želimo sorodne funkcije in podatke združiti v povezane enote.\n",
    "\n",
    "V Pythonu to lahko storimo z razredi, ki združujejo določeno vrsto podatkov s funkcijami za delo na njih. Včasih je med seboj povezanih več razredov, ki jih združujemo v posamezne datoteke, ki jim pravimo tudi _[moduli](https://docs.python.org/3/tutorial/modules.html)_.\n",
    "\n",
    "Tudi OCaml pozna module, ki imajo enako ime kot Pythonovi, a so precej naprednejši, saj omogočajo tudi skrivanje podrobnosti implementacije, čemur pravimo _abstrakcija_. Namen skrivanja podrobnosti seveda ni v zaščiti industrijskih skrivnosti, saj običajno delamo z lastnimi moduli, temveč v tem, da skrijemo podrobnosti in s tem poenostavimo razumevanje, preprečimo nepričakovano uporabo in olajšamo kasnejše spremembe implementacije."
   ]
  },
  {
   "cell_type": "markdown",
   "id": "2648a703",
   "metadata": {},
   "source": [
    "## Moduli"
   ]
  },
  {
   "cell_type": "markdown",
   "id": "5591e9eb",
   "metadata": {},
   "source": [
    "OCamlovi moduli so zbirke definicij tipov, funkcij, vrednosti, (kasneje tudi drugih modulov), kot smo jih do sedaj pisali v datoteke ali v ukazno vrstico. V resnici vsaka `.ml` datoteka predstavlja modul, ki vsebuje vse definicije v njej. Do sedaj smo spoznali že nekaj modulov iz standardne knjižnice: `String` za delo z nizi, `List` za delo s seznami ali `Random` za delo z naključnimi vrednostmi."
   ]
  },
  {
   "cell_type": "markdown",
   "id": "238cc65b",
   "metadata": {},
   "source": [
    "Sestavimo svoj modul `Datum` za delo z datumi, v katerega za začetek naberimo funkcije in tipe, ki smo jih videli že prej. Module definiramo z ukazom `module`, vse definicije v modulu pa morajo biti znotraj bloka `struct ... end`. Glavni tip modula običajno poimenujemo `t`, da pišemo `Datum.t` namesto `Datum.datum`."
   ]
  },
  {
   "cell_type": "code",
   "execution_count": 2,
   "id": "cd08757d",
   "metadata": {
    "vscode": {
     "languageId": "ocaml"
    }
   },
   "outputs": [
    {
     "data": {
      "text/plain": [
       "module Datum :\n",
       "  sig\n",
       "    type t = { dan : int; mesec : int; leto : int; }\n",
       "    val je_prestopno : int -> bool\n",
       "    val dolzina_meseca : int -> int -> int\n",
       "    val je_veljaven : t -> bool\n",
       "    val naredi : int -> int -> int -> t option\n",
       "    val to_string : t -> string\n",
       "  end\n"
      ]
     },
     "execution_count": 2,
     "metadata": {},
     "output_type": "execute_result"
    }
   ],
   "source": [
    "module Datum = struct\n",
    "  type t = { dan : int; mesec : int; leto : int }\n",
    "\n",
    "  let je_prestopno leto =\n",
    "    (leto mod 4 = 0 && leto mod 100 <> 0) || leto mod 400 = 0\n",
    "    \n",
    "  let dolzina_meseca leto =\n",
    "    function\n",
    "    | 4 | 6 | 9 | 11 -> 30\n",
    "    | 2 -> if je_prestopno leto then 29 else 28\n",
    "    | _ -> 31\n",
    "\n",
    "  let je_veljaven datum =\n",
    "    let veljaven_dan = 1 <= datum.dan && datum.dan <= dolzina_meseca datum.leto datum.mesec\n",
    "    and veljaven_mesec = 1 <= datum.mesec && datum.mesec <= 12\n",
    "    in\n",
    "    veljaven_dan && veljaven_mesec\n",
    "\n",
    "  let naredi dan mesec leto =\n",
    "    let datum = { dan; mesec; leto } in\n",
    "    if je_veljaven datum then Some datum else None\n",
    "\n",
    "  let to_string { dan; mesec; leto } =\n",
    "    Format.sprintf \"%04d-%02d-%02d\" leto mesec dan\n",
    "end"
   ]
  },
  {
   "cell_type": "markdown",
   "id": "7a4696eb",
   "metadata": {},
   "source": [
    "Do funkcij iz modula dostopamo prek `ImeModula.ime_funkcije`, tako kot smo do sedaj dostopali do funkcij iz modulov `List`, `String` in `Random`."
   ]
  },
  {
   "cell_type": "code",
   "execution_count": 3,
   "id": "285bd7c7",
   "metadata": {
    "vscode": {
     "languageId": "ocaml"
    }
   },
   "outputs": [
    {
     "data": {
      "text/plain": [
       "- : string = \"1991-06-25\"\n"
      ]
     },
     "execution_count": 3,
     "metadata": {},
     "output_type": "execute_result"
    }
   ],
   "source": [
    "{ dan = 25; mesec = 6; leto = 1991} |> Datum.to_string"
   ]
  },
  {
   "cell_type": "code",
   "execution_count": 4,
   "id": "c468a78f",
   "metadata": {
    "vscode": {
     "languageId": "ocaml"
    }
   },
   "outputs": [
    {
     "data": {
      "text/plain": [
       "- : int = 30\n"
      ]
     },
     "execution_count": 4,
     "metadata": {},
     "output_type": "execute_result"
    }
   ],
   "source": [
    "Datum.dolzina_meseca 1991 6"
   ]
  },
  {
   "cell_type": "markdown",
   "id": "18484da9",
   "metadata": {},
   "source": [
    "## Signature"
   ]
  },
  {
   "cell_type": "markdown",
   "id": "33b61083",
   "metadata": {},
   "source": [
    "Tako kot ima vsaka vrednost v OCamlu svoj tip, lahko zgoraj vidimo, da ga imajo tudi moduli. Tipom modulov pravimo _signature_. Signatura opisuje definirane tipe ter tipe definiranih vrednosti (ne pa njihovih implementacij). Signature pišemo podobno kot module, le da uporabimo blok `sig ... end`, tipe vrednosti pa podamo s ključno besedo `val`. Definicije tipov ostanejo enake."
   ]
  },
  {
   "cell_type": "markdown",
   "id": "7b20dc78",
   "metadata": {},
   "source": [
    "### Definicije signatur"
   ]
  },
  {
   "cell_type": "markdown",
   "id": "128309e7",
   "metadata": {},
   "source": [
    "Signature definiramo podobno kot module, le da uporabimo ukaz `module type`."
   ]
  },
  {
   "cell_type": "code",
   "execution_count": 5,
   "id": "04307e42",
   "metadata": {
    "vscode": {
     "languageId": "ocaml"
    }
   },
   "outputs": [
    {
     "data": {
      "text/plain": [
       "module type DATUM =\n",
       "  sig\n",
       "    type t = { dan : int; mesec : int; leto : int; }\n",
       "    val je_prestopno : int -> bool\n",
       "    val dolzina_meseca : int -> int -> int\n",
       "    val je_veljaven : t -> bool\n",
       "    val naredi : int -> int -> int -> t option\n",
       "    val to_string : t -> string\n",
       "  end\n"
      ]
     },
     "execution_count": 5,
     "metadata": {},
     "output_type": "execute_result"
    }
   ],
   "source": [
    "module type DATUM =\n",
    "  sig\n",
    "    type t = { dan : int; mesec : int; leto : int; }\n",
    "    val je_prestopno : int -> bool\n",
    "    val dolzina_meseca : int -> int -> int\n",
    "    val je_veljaven : t -> bool\n",
    "    val naredi : int -> int -> int -> t option\n",
    "    val to_string : t -> string\n",
    "  end"
   ]
  },
  {
   "cell_type": "markdown",
   "id": "d61a366f",
   "metadata": {},
   "source": [
    "Kot smo videli zgoraj, zna OCaml tako signaturo izračunati tudi sam. Toda tako kot smo morali prej nekaterim funkcijam z označbami sami vsiliti tip, bomo enako želeli s signaturami modulov. Razloga sta dva:\n",
    "1. preverjanje skladnosti in\n",
    "2. skrivanje implementacije."
   ]
  },
  {
   "cell_type": "markdown",
   "id": "1f86690a",
   "metadata": {},
   "source": [
    "### Preverjanje skladnosti implementacije"
   ]
  },
  {
   "cell_type": "markdown",
   "id": "3de7713b",
   "metadata": {},
   "source": [
    "Prvi namen signatur je specifikacija vsebine modula. Običajno delo začnemo tako, da v signaturi opišemo, kaj bodo sestavni deli modula, nato pa začnemo pisati implementacijo, ki ji zadošča. Ko definiramo modul, lahko zraven z označbo podamo tudi njegovo signaturo:"
   ]
  },
  {
   "cell_type": "code",
   "execution_count": 6,
   "id": "6b5325eb",
   "metadata": {
    "vscode": {
     "languageId": "ocaml"
    }
   },
   "outputs": [
    {
     "data": {
      "text/plain": [
       "module Datum : DATUM\n"
      ]
     },
     "execution_count": 6,
     "metadata": {},
     "output_type": "execute_result"
    }
   ],
   "source": [
    "module Datum : DATUM = struct\n",
    "  type t = { dan : int; mesec : int; leto : int }\n",
    "\n",
    "  let je_prestopno leto =\n",
    "    (leto mod 4 = 0 && leto mod 100 <> 0) || leto mod 400 = 0\n",
    "    \n",
    "  let dolzina_meseca leto =\n",
    "    function\n",
    "    | 4 | 6 | 9 | 11 -> 30\n",
    "    | 2 -> if je_prestopno leto then 29 else 28\n",
    "    | _ -> 31\n",
    "\n",
    "  let je_veljaven datum =\n",
    "    let veljaven_dan = 1 <= datum.dan && datum.dan <= dolzina_meseca datum.leto datum.mesec\n",
    "    and veljaven_mesec = 1 <= datum.mesec && datum.mesec <= 12\n",
    "    in\n",
    "    veljaven_dan && veljaven_mesec\n",
    "\n",
    "  let naredi dan mesec leto =\n",
    "    let datum = { dan; mesec; leto } in\n",
    "    if je_veljaven datum then Some datum else None\n",
    "\n",
    "  let to_string { dan; mesec; leto } =\n",
    "    Format.sprintf \"%04d-%02d-%02d\" leto mesec dan\n",
    "end"
   ]
  },
  {
   "cell_type": "markdown",
   "id": "ab5c2b78",
   "metadata": {},
   "source": [
    "Isti signaturi lahko zadošča več modulov, ki se med seboj razlikujejo le v implementaciji. Na primer, tu je malo bolj ohlapna implementacija datumov. Seveda si take implementacije ne želimo, je pa morda dobro začetno izhodišče. Od vsega začetka razvoja pa bo OCaml preverjal, ali se implementacija ujema s signaturo."
   ]
  },
  {
   "cell_type": "code",
   "execution_count": 7,
   "id": "1a300ecd",
   "metadata": {
    "vscode": {
     "languageId": "ocaml"
    }
   },
   "outputs": [
    {
     "data": {
      "text/plain": [
       "module VednoVeljavenDatum : DATUM\n"
      ]
     },
     "execution_count": 7,
     "metadata": {},
     "output_type": "execute_result"
    }
   ],
   "source": [
    "module VednoVeljavenDatum : DATUM = struct\n",
    "  type t = { dan : int; mesec : int; leto : int }\n",
    "\n",
    "  let je_prestopno leto = false\n",
    "    \n",
    "  let dolzina_meseca _ _ = 31\n",
    "\n",
    "  let je_veljaven _ = true\n",
    "\n",
    "  let naredi dan mesec leto = Some { dan; mesec; leto }\n",
    "\n",
    "  let to_string { dan; mesec; leto } =\n",
    "    Format.sprintf \"%04d-%02d-%02d\" leto mesec dan\n",
    "end"
   ]
  },
  {
   "cell_type": "markdown",
   "id": "b90d58f8",
   "metadata": {},
   "source": [
    "Če kakšna od naštetih funkcij manjka, bo OCaml to opazil in javil napako:"
   ]
  },
  {
   "cell_type": "code",
   "execution_count": 8,
   "id": "19cc7e1f",
   "metadata": {
    "tags": [
     "raises-exception"
    ],
    "vscode": {
     "languageId": "ocaml"
    }
   },
   "outputs": [
    {
     "ename": "error",
     "evalue": "compile_error",
     "output_type": "error",
     "traceback": [
      "File \"[8]\", lines 1-22, characters 23-3:\n 1 | .......................struct\n 2 |   type t = { dan : int; mesec : int; leto : int }\n 3 | \n 4 |   let je_prestopno leto =\n 5 |     (leto mod 4 = 0 && leto mod 100 <> 0) || leto mod 400 = 0\n...\n19 |   let naredi dan mesec leto =\n20 |     let datum = { dan; mesec; leto } in\n21 |     if je_veljaven datum then Some datum else None\n22 | end\nError: Signature mismatch:\n       ...\n       The value `to_string' is required but not provided\n       File \"[5]\", line 8, characters 4-31: Expected declaration\n"
     ]
    }
   ],
   "source": [
    "module Datum : DATUM = struct\n",
    "  type t = { dan : int; mesec : int; leto : int }\n",
    "\n",
    "  let je_prestopno leto =\n",
    "    (leto mod 4 = 0 && leto mod 100 <> 0) || leto mod 400 = 0\n",
    "    \n",
    "  let dolzina_meseca leto =\n",
    "    function\n",
    "    | 4 | 6 | 9 | 11 -> 30\n",
    "    | 2 -> if je_prestopno leto then 29 else 28\n",
    "    | _ -> 31\n",
    "\n",
    "  let je_veljaven datum =\n",
    "    let veljaven_dan = 1 <= datum.dan && datum.dan <= dolzina_meseca datum.leto datum.mesec\n",
    "    and veljaven_mesec = 1 <= datum.mesec && datum.mesec <= 12\n",
    "    in\n",
    "    veljaven_dan && veljaven_mesec\n",
    "\n",
    "  let naredi dan mesec leto =\n",
    "    let datum = { dan; mesec; leto } in\n",
    "    if je_veljaven datum then Some datum else None\n",
    "end"
   ]
  },
  {
   "cell_type": "markdown",
   "id": "55e76c41",
   "metadata": {},
   "source": [
    "Podobno bo preveril, ali se pri vseh definicijah ujemajo tipi."
   ]
  },
  {
   "cell_type": "code",
   "execution_count": 9,
   "id": "6c66276f",
   "metadata": {
    "tags": [
     "raises-exception"
    ],
    "vscode": {
     "languageId": "ocaml"
    }
   },
   "outputs": [
    {
     "ename": "error",
     "evalue": "compile_error",
     "output_type": "error",
     "traceback": [
      "File \"[9]\", lines 1-25, characters 23-3:\n 1 | .......................struct\n 2 |   type t = { dan : int; mesec : int; leto : int }\n 3 | \n 4 |   let je_prestopno leto =\n 5 |     (leto mod 4 = 0 && leto mod 100 <> 0) || leto mod 400 = 0\n...\n22 | \n23 |   let to_string { dan; mesec; leto } =\n24 |     Format.sprintf \"%04d-%02d-%02d\" leto mesec dan\n25 | end\nError: Signature mismatch:\n       ...\n       Values do not match:\n         val naredi : int * int * int -> t option\n       is not included in\n         val naredi : int -> int -> int -> t option\n       The type int * int * int -> t option is not compatible with the type\n         int -> int -> int -> t option\n       Type int * int * int is not compatible with type int \n       File \"[5]\", line 7, characters 4-46: Expected declaration\n       File \"[9]\", line 19, characters 6-12: Actual declaration\n"
     ]
    }
   ],
   "source": [
    "module Datum : DATUM = struct\n",
    "  type t = { dan : int; mesec : int; leto : int }\n",
    "\n",
    "  let je_prestopno leto =\n",
    "    (leto mod 4 = 0 && leto mod 100 <> 0) || leto mod 400 = 0\n",
    "    \n",
    "  let dolzina_meseca leto =\n",
    "    function\n",
    "    | 4 | 6 | 9 | 11 -> 30\n",
    "    | 2 -> if je_prestopno leto then 29 else 28\n",
    "    | _ -> 31\n",
    "\n",
    "  let je_veljaven datum =\n",
    "    let veljaven_dan = 1 <= datum.dan && datum.dan <= dolzina_meseca datum.leto datum.mesec\n",
    "    and veljaven_mesec = 1 <= datum.mesec && datum.mesec <= 12\n",
    "    in\n",
    "    veljaven_dan && veljaven_mesec\n",
    "\n",
    "  let naredi (dan, mesec, leto) =\n",
    "    let datum = { dan; mesec; leto } in\n",
    "    if je_veljaven datum then Some datum else None\n",
    "\n",
    "  let to_string { dan; mesec; leto } =\n",
    "    Format.sprintf \"%04d-%02d-%02d\" leto mesec dan\n",
    "end"
   ]
  },
  {
   "cell_type": "markdown",
   "id": "9d687499",
   "metadata": {},
   "source": [
    "### Skrivanje implementacije"
   ]
  },
  {
   "cell_type": "markdown",
   "id": "1c3d3aee",
   "metadata": {},
   "source": [
    "Glavna prednost uporabe signatur pa je v tem, da lahko z njimi implementacij ne le preverjamo, temveč tudi deloma skrivamo. Če uporabljamo pomožno funkcijo, ki ni del signature, navzven ne bo vidna. Na primer, funkcije za izračun veljavnosti datuma lahko skrijemo."
   ]
  },
  {
   "cell_type": "code",
   "execution_count": 10,
   "id": "eae75e27",
   "metadata": {
    "vscode": {
     "languageId": "ocaml"
    }
   },
   "outputs": [
    {
     "data": {
      "text/plain": [
       "module type DATUM =\n",
       "  sig\n",
       "    type t = { dan : int; mesec : int; leto : int; }\n",
       "    val naredi : int -> int -> int -> t option\n",
       "    val to_string : t -> string\n",
       "  end\n"
      ]
     },
     "execution_count": 10,
     "metadata": {},
     "output_type": "execute_result"
    }
   ],
   "source": [
    "module type DATUM =\n",
    "  sig\n",
    "    type t = { dan : int; mesec : int; leto : int; }\n",
    "    val naredi : int -> int -> int -> t option\n",
    "    val to_string : t -> string\n",
    "  end"
   ]
  },
  {
   "cell_type": "code",
   "execution_count": 11,
   "id": "8c706329",
   "metadata": {
    "vscode": {
     "languageId": "ocaml"
    }
   },
   "outputs": [
    {
     "data": {
      "text/plain": [
       "module Datum : DATUM\n"
      ]
     },
     "execution_count": 11,
     "metadata": {},
     "output_type": "execute_result"
    }
   ],
   "source": [
    "module Datum : DATUM = struct\n",
    "  type t = { dan : int; mesec : int; leto : int }\n",
    "\n",
    "  let je_prestopno leto =\n",
    "    (leto mod 4 = 0 && leto mod 100 <> 0) || leto mod 400 = 0\n",
    "    \n",
    "  let dolzina_meseca leto =\n",
    "    function\n",
    "    | 4 | 6 | 9 | 11 -> 30\n",
    "    | 2 -> if je_prestopno leto then 29 else 28\n",
    "    | _ -> 31\n",
    "\n",
    "  let je_veljaven datum =\n",
    "    let veljaven_dan = 1 <= datum.dan && datum.dan <= dolzina_meseca datum.leto datum.mesec\n",
    "    and veljaven_mesec = 1 <= datum.mesec && datum.mesec <= 12\n",
    "    in\n",
    "    veljaven_dan && veljaven_mesec\n",
    "\n",
    "  let naredi dan mesec leto =\n",
    "    let datum = { dan; mesec; leto } in\n",
    "    if je_veljaven datum then Some datum else None\n",
    "\n",
    "  let to_string { dan; mesec; leto } =\n",
    "    Format.sprintf \"%04d-%02d-%02d\" leto mesec dan\n",
    "end"
   ]
  },
  {
   "cell_type": "markdown",
   "id": "1ae55e73",
   "metadata": {},
   "source": [
    "Modul še vedno vsebuje vse funkcije iz signature, zato se OCaml ne pritoži. A če poskusimo dostopati do dodatnih funkcij, bomo dobili napako:"
   ]
  },
  {
   "cell_type": "code",
   "execution_count": 12,
   "id": "0109dd4d",
   "metadata": {
    "vscode": {
     "languageId": "ocaml"
    }
   },
   "outputs": [
    {
     "data": {
      "text/plain": [
       "- : Datum.t option = Some {Datum.dan = 25; mesec = 6; leto = 1991}\n"
      ]
     },
     "execution_count": 12,
     "metadata": {},
     "output_type": "execute_result"
    }
   ],
   "source": [
    "Datum.naredi 25 6 1991"
   ]
  },
  {
   "cell_type": "code",
   "execution_count": 13,
   "id": "91f1e47a",
   "metadata": {
    "tags": [
     "raises-exception"
    ],
    "vscode": {
     "languageId": "ocaml"
    }
   },
   "outputs": [
    {
     "ename": "error",
     "evalue": "compile_error",
     "output_type": "error",
     "traceback": [
      "File \"[13]\", line 1, characters 0-20:\n1 | Datum.dolzina_meseca 1991 6\n    ^^^^^^^^^^^^^^^^^^^^\nError: Unbound value Datum.dolzina_meseca\n"
     ]
    }
   ],
   "source": [
    "Datum.dolzina_meseca 1991 6"
   ]
  },
  {
   "cell_type": "markdown",
   "id": "4263bbff",
   "metadata": {},
   "source": [
    "Skrivanje implementacij uporabnikom poenostavi uporabo, saj izpostavi le ključne funkcije. Hkrati pa razvijalcem olajša kasnejše spremembe implementacije, če na primer najdejo boljši algoritem. Če pomožne funkcije ne bi bile skrite, bi se lahko nanje kdo zanašal, kar bi otežilo kasnejše spremembe."
   ]
  },
  {
   "cell_type": "markdown",
   "id": "3206b53b",
   "metadata": {},
   "source": [
    "### Abstraktni tipi"
   ]
  },
  {
   "cell_type": "markdown",
   "id": "9f8e2784",
   "metadata": {},
   "source": [
    "Poleg pomožnih funkcij lahko skrivamo tudi definicije tipov. To ne poenostavlja samo uporabe in kasnejših razširitev, temveč tudi zagotavlja pravilnost podatkov. Recimo, kljub temu, da smo pripravili funkcijo `naredi`, ki bo vedno ustvarila veljaven datum, lahko uporabnik še vedno ustvari neveljaven datum."
   ]
  },
  {
   "cell_type": "code",
   "execution_count": 14,
   "id": "c64fe74e",
   "metadata": {
    "vscode": {
     "languageId": "ocaml"
    }
   },
   "outputs": [
    {
     "data": {
      "text/plain": [
       "- : string = \"2024-13-32\"\n"
      ]
     },
     "execution_count": 14,
     "metadata": {},
     "output_type": "execute_result"
    }
   ],
   "source": [
    "{ dan = 32; mesec = 13; leto = 2024 } |> Datum.to_string"
   ]
  },
  {
   "cell_type": "markdown",
   "id": "61c93c13",
   "metadata": {},
   "source": [
    "Temu se lahko izgonemo tako, da skrijemo definicijo tipa, samo povemo, da obstaja."
   ]
  },
  {
   "cell_type": "code",
   "execution_count": 15,
   "id": "26f25c01",
   "metadata": {
    "vscode": {
     "languageId": "ocaml"
    }
   },
   "outputs": [
    {
     "data": {
      "text/plain": [
       "module type DATUM =\n",
       "  sig\n",
       "    type t\n",
       "    val naredi : int -> int -> int -> t option\n",
       "    val to_string : t -> string\n",
       "  end\n"
      ]
     },
     "execution_count": 15,
     "metadata": {},
     "output_type": "execute_result"
    }
   ],
   "source": [
    "module type DATUM =\n",
    "  sig\n",
    "    type t\n",
    "    val naredi : int -> int -> int -> t option\n",
    "    val to_string : t -> string\n",
    "  end"
   ]
  },
  {
   "cell_type": "code",
   "execution_count": 16,
   "id": "88e0ebe9",
   "metadata": {
    "vscode": {
     "languageId": "ocaml"
    }
   },
   "outputs": [
    {
     "data": {
      "text/plain": [
       "module Datum : DATUM\n"
      ]
     },
     "execution_count": 16,
     "metadata": {},
     "output_type": "execute_result"
    }
   ],
   "source": [
    "module Datum : DATUM = struct\n",
    "  type t = { dan : int; mesec : int; leto : int }\n",
    "\n",
    "  let je_prestopno leto =\n",
    "    (leto mod 4 = 0 && leto mod 100 <> 0) || leto mod 400 = 0\n",
    "    \n",
    "  let dolzina_meseca leto =\n",
    "    function\n",
    "    | 4 | 6 | 9 | 11 -> 30\n",
    "    | 2 -> if je_prestopno leto then 29 else 28\n",
    "    | _ -> 31\n",
    "\n",
    "  let je_veljaven datum =\n",
    "    let veljaven_dan = 1 <= datum.dan && datum.dan <= dolzina_meseca datum.leto datum.mesec\n",
    "    and veljaven_mesec = 1 <= datum.mesec && datum.mesec <= 12\n",
    "    in\n",
    "    veljaven_dan && veljaven_mesec\n",
    "\n",
    "  let naredi dan mesec leto =\n",
    "    let datum = { dan; mesec; leto } in\n",
    "    if je_veljaven datum then Some datum else None\n",
    "\n",
    "  let to_string { dan; mesec; leto } =\n",
    "    Format.sprintf \"%04d-%02d-%02d\" leto mesec dan\n",
    "end"
   ]
  },
  {
   "cell_type": "markdown",
   "id": "845f186d",
   "metadata": {},
   "source": [
    "Sedaj je edini način, da ustvarimo vrednosti tipa `Datum.t` ta, da pokličemo funkcijo naredi, ki preveri veljavnost. Tudi če uporabnik uporabi identični tip, kot je v implementaciji, bo OCaml preprečil neposredno manipulacijo z njim."
   ]
  },
  {
   "cell_type": "code",
   "execution_count": 17,
   "id": "4ada7b0e",
   "metadata": {
    "tags": [
     "raises-exception"
    ],
    "vscode": {
     "languageId": "ocaml"
    }
   },
   "outputs": [
    {
     "ename": "error",
     "evalue": "compile_error",
     "output_type": "error",
     "traceback": [
      "File \"[17]\", line 1, characters 2-5:\n1 | { dan = 32; mesec = 13; leto = 2024 } |> Datum.to_string\n      ^^^\nError: Unbound record field dan\n"
     ]
    }
   ],
   "source": [
    "{ dan = 32; mesec = 13; leto = 2024 } |> Datum.to_string"
   ]
  },
  {
   "cell_type": "markdown",
   "id": "c966da13",
   "metadata": {},
   "source": [
    "Poleg tega lahko uporabimo tudi drugačno implementacijo datumov, recimo da mesece predstavimo z naštevnim tipom."
   ]
  },
  {
   "cell_type": "markdown",
   "id": "3fd4ee03",
   "metadata": {},
   "source": [
    "## Primer: štetje različnih elementov"
   ]
  },
  {
   "cell_type": "markdown",
   "id": "11189472",
   "metadata": {},
   "source": [
    "Za primer izračunajmo, koliko različnih elementov vsebuje dani seznam. Ena izmed možnosti je, da se sprehajamo čez seznam ter beležimo seznam elementov, ki smo jih že videli, začenši s praznim seznamom. Vsak element primerjamo z že videnimi in če ga še nismo videli, ga dodamo v seznam. Seveda bo ta primer majhen in ga ne bi bilo treba razčlenjevati, a bomo to vseeno storili, da spoznamo pristop."
   ]
  },
  {
   "cell_type": "code",
   "execution_count": 18,
   "id": "9095d8b9",
   "metadata": {
    "vscode": {
     "languageId": "ocaml"
    }
   },
   "outputs": [
    {
     "data": {
      "text/plain": [
       "val stevilo_razlicnih : 'a list -> int = <fun>\n"
      ]
     },
     "execution_count": 18,
     "metadata": {},
     "output_type": "execute_result"
    }
   ],
   "source": [
    "let stevilo_razlicnih xs =\n",
    "  let rec aux ze_videni = function\n",
    "    | [] -> List.length ze_videni\n",
    "    | x :: xs ->\n",
    "        if List.mem x ze_videni\n",
    "        then aux ze_videni xs\n",
    "        else aux (x :: ze_videni) xs\n",
    "  in\n",
    "  aux [] xs"
   ]
  },
  {
   "cell_type": "code",
   "execution_count": null,
   "id": "ad747b64",
   "metadata": {
    "vscode": {
     "languageId": "ocaml"
    }
   },
   "outputs": [],
   "source": []
  },
  {
   "cell_type": "code",
   "execution_count": 19,
   "id": "f48c7034",
   "metadata": {
    "vscode": {
     "languageId": "ocaml"
    }
   },
   "outputs": [
    {
     "data": {
      "text/plain": [
       "- : int = 3\n"
      ]
     },
     "execution_count": 19,
     "metadata": {},
     "output_type": "execute_result"
    }
   ],
   "source": [
    "stevilo_razlicnih [1; 2; 1; 2; 1; 2; 3]"
   ]
  },
  {
   "cell_type": "markdown",
   "id": "8bca11bc",
   "metadata": {},
   "source": [
    "Napišimo še nekaj funkcij, s katerimi bomo izmerili (ne)učinkovitost take implementacije."
   ]
  },
  {
   "cell_type": "code",
   "execution_count": 20,
   "id": "1d790672",
   "metadata": {
    "vscode": {
     "languageId": "ocaml"
    }
   },
   "outputs": [
    {
     "data": {
      "text/plain": [
       "val nakljucni_seznam : int -> int -> int list = <fun>\n"
      ]
     },
     "execution_count": 20,
     "metadata": {},
     "output_type": "execute_result"
    }
   ],
   "source": [
    "let nakljucni_seznam m n = List.init n (fun _ -> Random.int m)"
   ]
  },
  {
   "cell_type": "code",
   "execution_count": 21,
   "id": "2ee6069e",
   "metadata": {
    "vscode": {
     "languageId": "ocaml"
    }
   },
   "outputs": [
    {
     "data": {
      "text/plain": [
       "- : int list = [4; 0; 2; 1; 4; 0; 4; 0; 1; 0; 2; 0; 4; 3; 0; 2; 1; 1; 3; 4]\n"
      ]
     },
     "execution_count": 21,
     "metadata": {},
     "output_type": "execute_result"
    }
   ],
   "source": [
    "nakljucni_seznam 5 20"
   ]
  },
  {
   "cell_type": "code",
   "execution_count": 22,
   "id": "0d4bfc0b",
   "metadata": {
    "vscode": {
     "languageId": "ocaml"
    }
   },
   "outputs": [
    {
     "data": {
      "text/plain": [
       "- : int = 5\n"
      ]
     },
     "execution_count": 22,
     "metadata": {},
     "output_type": "execute_result"
    }
   ],
   "source": [
    "stevilo_razlicnih @@ nakljucni_seznam 5 20"
   ]
  },
  {
   "cell_type": "code",
   "execution_count": 23,
   "id": "fd1e3d66",
   "metadata": {
    "vscode": {
     "languageId": "ocaml"
    }
   },
   "outputs": [
    {
     "data": {
      "text/plain": [
       "val seznam_zaporednih : int -> int list = <fun>\n"
      ]
     },
     "execution_count": 23,
     "metadata": {},
     "output_type": "execute_result"
    }
   ],
   "source": [
    "let seznam_zaporednih n = List.init n (fun i -> i)"
   ]
  },
  {
   "cell_type": "code",
   "execution_count": 24,
   "id": "fed2cdf4",
   "metadata": {
    "vscode": {
     "languageId": "ocaml"
    }
   },
   "outputs": [
    {
     "data": {
      "text/plain": [
       "- : int list = [0; 1; 2; 3; 4; 5; 6; 7; 8; 9]\n"
      ]
     },
     "execution_count": 24,
     "metadata": {},
     "output_type": "execute_result"
    }
   ],
   "source": [
    "seznam_zaporednih 10"
   ]
  },
  {
   "cell_type": "code",
   "execution_count": 25,
   "id": "29599437",
   "metadata": {
    "vscode": {
     "languageId": "ocaml"
    }
   },
   "outputs": [
    {
     "data": {
      "text/plain": [
       "- : int = 10\n"
      ]
     },
     "execution_count": 25,
     "metadata": {},
     "output_type": "execute_result"
    }
   ],
   "source": [
    "stevilo_razlicnih @@ seznam_zaporednih 10"
   ]
  },
  {
   "cell_type": "code",
   "execution_count": 26,
   "id": "8027f545",
   "metadata": {
    "vscode": {
     "languageId": "ocaml"
    }
   },
   "outputs": [
    {
     "data": {
      "text/plain": [
       "val stopaj : ('a -> 'b) -> 'a -> 'b = <fun>\n"
      ]
     },
     "execution_count": 26,
     "metadata": {},
     "output_type": "execute_result"
    }
   ],
   "source": [
    "let stopaj f x =\n",
    "  let zacetek = Sys.time () in\n",
    "  let y = f x in\n",
    "  let konec = Sys.time () in\n",
    "  let izpis = \n",
    "    Printf.sprintf \"Porabljen čas: %f ms\\n\" (1000. *. (konec -. zacetek))\n",
    "  in\n",
    "  print_endline izpis;\n",
    "  y"
   ]
  },
  {
   "cell_type": "code",
   "execution_count": 27,
   "id": "4c9e466d",
   "metadata": {
    "vscode": {
     "languageId": "ocaml"
    }
   },
   "outputs": [
    {
     "name": "stdout",
     "output_type": "stream",
     "text": [
      "Porabljen čas: 12.512000 ms\n",
      "\n"
     ]
    },
    {
     "data": {
      "text/plain": [
       "- : int = 1000\n"
      ]
     },
     "execution_count": 27,
     "metadata": {},
     "output_type": "execute_result"
    }
   ],
   "source": [
    "stopaj stevilo_razlicnih (seznam_zaporednih 1000)"
   ]
  },
  {
   "cell_type": "code",
   "execution_count": 28,
   "id": "7183295b",
   "metadata": {
    "vscode": {
     "languageId": "ocaml"
    }
   },
   "outputs": [
    {
     "name": "stdout",
     "output_type": "stream",
     "text": [
      "Porabljen čas: 41.945000 ms\n",
      "\n"
     ]
    },
    {
     "data": {
      "text/plain": [
       "- : int = 2000\n"
      ]
     },
     "execution_count": 28,
     "metadata": {},
     "output_type": "execute_result"
    }
   ],
   "source": [
    "stopaj stevilo_razlicnih (seznam_zaporednih 2000)"
   ]
  },
  {
   "cell_type": "markdown",
   "id": "94f76315",
   "metadata": {},
   "source": [
    "Za dvakrat daljši seznam smo potrebovali okoli štirikrat več časa, saj se mora funkcija `List.mem` sprehajati po vedno daljšem seznamu, da ugotovi, da elementa ni v njem. Razlog za neučinkovitost je v tem, da za beleženje videnih elemente uporabljamo sezname, čeprav potrebujemo samo množice, ki se ne ozirajo na vrstni red in število ponovitev. V kratkem bomo spoznali učinkovite podatkovne strukture za predstavitev množic, zaenkrat pa si pripravimo teren za spremembe implementacij."
   ]
  },
  {
   "cell_type": "code",
   "execution_count": 29,
   "id": "7e9667ce",
   "metadata": {
    "vscode": {
     "languageId": "ocaml"
    }
   },
   "outputs": [
    {
     "data": {
      "text/plain": [
       "module type MNOZICA =\n",
       "  sig\n",
       "    type 'a t\n",
       "    val prazna : 'a t\n",
       "    val dodaj : 'a -> 'a t -> 'a t\n",
       "    val velikost : 'a t -> int\n",
       "    val vsebuje : 'a -> 'a t -> bool\n",
       "  end\n"
      ]
     },
     "execution_count": 29,
     "metadata": {},
     "output_type": "execute_result"
    }
   ],
   "source": [
    "module type MNOZICA = sig\n",
    "  type 'a t\n",
    "  val prazna : 'a t\n",
    "  val dodaj : 'a -> 'a t -> 'a t\n",
    "  val velikost : 'a t -> int\n",
    "  val vsebuje : 'a -> 'a t -> bool\n",
    "end"
   ]
  },
  {
   "cell_type": "code",
   "execution_count": 30,
   "id": "c6b60290",
   "metadata": {
    "vscode": {
     "languageId": "ocaml"
    }
   },
   "outputs": [
    {
     "data": {
      "text/plain": [
       "module Mnozica : MNOZICA\n"
      ]
     },
     "execution_count": 30,
     "metadata": {},
     "output_type": "execute_result"
    }
   ],
   "source": [
    "module Mnozica : MNOZICA = struct\n",
    "  type 'a t = 'a list\n",
    "  let prazna = []\n",
    "  let velikost m = List.length m\n",
    "  let vsebuje x m = List.mem x m\n",
    "  let dodaj x m = if vsebuje x m then m else x :: m\n",
    "end"
   ]
  },
  {
   "cell_type": "markdown",
   "id": "d9675482",
   "metadata": {},
   "source": [
    "Na ta način naš algoritem namesto kot"
   ]
  },
  {
   "cell_type": "code",
   "execution_count": 31,
   "id": "0b5e7c74",
   "metadata": {
    "vscode": {
     "languageId": "ocaml"
    }
   },
   "outputs": [
    {
     "data": {
      "text/plain": [
       "val stevilo_razlicnih : 'a list -> int = <fun>\n"
      ]
     },
     "execution_count": 31,
     "metadata": {},
     "output_type": "execute_result"
    }
   ],
   "source": [
    "let stevilo_razlicnih xs =\n",
    "  let rec aux ze_videni = function\n",
    "    | [] -> List.length ze_videni\n",
    "    | x :: xs ->\n",
    "        if List.mem x ze_videni\n",
    "        then aux ze_videni xs\n",
    "        else aux (x :: ze_videni) xs\n",
    "  in\n",
    "  aux [] xs"
   ]
  },
  {
   "cell_type": "markdown",
   "id": "e5a249d7",
   "metadata": {},
   "source": [
    "napišemo kot:"
   ]
  },
  {
   "cell_type": "code",
   "execution_count": 32,
   "id": "fabbc53e",
   "metadata": {
    "vscode": {
     "languageId": "ocaml"
    }
   },
   "outputs": [
    {
     "data": {
      "text/plain": [
       "val stevilo_razlicnih : 'a list -> int = <fun>\n"
      ]
     },
     "execution_count": 32,
     "metadata": {},
     "output_type": "execute_result"
    }
   ],
   "source": [
    "\n",
    "let stevilo_razlicnih xs =\n",
    "  let rec aux ze_videni = function\n",
    "    | [] -> Mnozica.velikost ze_videni\n",
    "    | x :: xs -> aux (Mnozica.dodaj x ze_videni) xs\n",
    "  in\n",
    "  aux Mnozica.prazna xs"
   ]
  },
  {
   "cell_type": "markdown",
   "id": "2a6e6f9d",
   "metadata": {},
   "source": [
    "Vidimo, da je definicija precej bolj pregledna, saj smo implementacijo in uporabo množic razdelili na dva dela."
   ]
  },
  {
   "cell_type": "markdown",
   "id": "16adff0b",
   "metadata": {},
   "source": [
    "## Vaje"
   ]
  },
  {
   "cell_type": "markdown",
   "id": "9b950927",
   "metadata": {},
   "source": [
    "### Naravna števila"
   ]
  },
  {
   "cell_type": "markdown",
   "id": "94888ed6",
   "metadata": {},
   "source": [
    "Definirajte signaturo `NAT`, ki določa strukturo naravnih števil. Ima osnovni tip, funkcijo enakosti, ničlo in enko, seštevanje, odštevanje in množenje. Hkrati naj vsebuje pretvorbe iz in v OCamlov `int` tip. Opomba: Funkcije za pretvarjanje ponavadi poimenujemo `to_int` and `of_int`, tako da skupaj z imenom modula dobimo ime `NAT.of_int`, ki nam pove, da pridobivamo naravno število iz celega števila."
   ]
  },
  {
   "cell_type": "code",
   "execution_count": 33,
   "id": "6b7b2531",
   "metadata": {
    "vscode": {
     "languageId": "ocaml"
    }
   },
   "outputs": [
    {
     "data": {
      "text/plain": [
       "module type NAT = sig type t val eq : t -> t -> bool val zero : t end\n"
      ]
     },
     "execution_count": 33,
     "metadata": {},
     "output_type": "execute_result"
    }
   ],
   "source": [
    "module type NAT = sig\n",
    "  type t\n",
    "\n",
    "  val eq  : t -> t -> bool\n",
    "  val zero : t\n",
    "  (* Dodajte manjkajoče! *)\n",
    "  (* val to_int : t -> int *)\n",
    "  (* val of_int : int -> t *)\n",
    "end"
   ]
  },
  {
   "cell_type": "markdown",
   "id": "689e574f",
   "metadata": {},
   "source": [
    "Napišite implementacijo modula `Nat_int`, ki zgradi modul s signaturo `NAT`, kjer kot osnovni tip uporablja OCamlov tip `int`. Namig: dokler ne implementirate vse funkcij v `Nat_int`, se bo OCaml pritoževal. Temu se lahko izognete tako, da funkcije, ki še niso napisane nadomestite z `failwith \"later\"`, vendar to ne deluje za konstante."
   ]
  },
  {
   "cell_type": "code",
   "execution_count": 34,
   "id": "634c5aea",
   "metadata": {
    "vscode": {
     "languageId": "ocaml"
    }
   },
   "outputs": [
    {
     "data": {
      "text/plain": [
       "module Nat_int : NAT\n"
      ]
     },
     "execution_count": 34,
     "metadata": {},
     "output_type": "execute_result"
    }
   ],
   "source": [
    "module Nat_int : NAT = struct\n",
    "\n",
    "  type t = int\n",
    "  let eq x y = failwith \"later\"\n",
    "  let zero = 0\n",
    "  (* Dodajte manjkajoče! *)\n",
    "\n",
    "end"
   ]
  },
  {
   "cell_type": "markdown",
   "id": "ed9afaf6",
   "metadata": {},
   "source": [
    "Napišite implementacijo `NAT`, ki temelji na [Peanovih aksiomih](https://en.wikipedia.org/wiki/Peano_axioms). Osnovni tip modula definirajte kot naštevni tip, ki vsebuje konstruktor za ničlo in konstruktor za naslednika nekega naravnega števila. Večino funkcij lahko implementirate s pomočjo rekurzije. Naprimer, enakost števil `k` in `l` določimo s hkratno rekurzijo na `k` in `l`, kjer je osnoven primer `Zero = Zero`."
   ]
  },
  {
   "cell_type": "code",
   "execution_count": 35,
   "id": "651d5f29",
   "metadata": {
    "vscode": {
     "languageId": "ocaml"
    }
   },
   "outputs": [
    {
     "data": {
      "text/plain": [
       "module Nat_peano : NAT\n"
      ]
     },
     "execution_count": 35,
     "metadata": {},
     "output_type": "execute_result"
    }
   ],
   "source": [
    "module Nat_peano : NAT = struct\n",
    "\n",
    "  type t = unit (* To morate spremeniti! *)\n",
    "  let eq x y = failwith \"later\"\n",
    "  let zero = () (* To morate spremeniti! *)\n",
    "  (* Dodajte manjkajoče! *)\n",
    "\n",
    "end"
   ]
  },
  {
   "cell_type": "markdown",
   "id": "8e5560fe",
   "metadata": {},
   "source": [
    "Z ukazom `let module ImeModula = ... in ...` lahko modul definiramo samo lokalno. To bomo uporabili za to, da bomo lahko enostavno preklapljali med moduloma `Nat_int` in `Nat_peano`, saj bomo enega ali drugega shranili pod ime `Nat`. OCaml sicer pozna tudi ustrezne abstrakcije, ki omogočijo preklapljanje med moduli, na primer [funktorje](https://ocaml.org/docs/functors) ali [prvorazredne module](https://ocaml.org/manual/5.2/firstclassmodules.html), a bomo uporabili preprostejšo rešitev.\n",
    "\n",
    "Spodnji izračun dopolnite tako, da sešteje prvih 100 naravnih števil. Ker bo taka vsota tipa `NAT.t`, ki je abstrakten, končni rezultat pretvorite v tip `int` z uporabo funkcije `Nat.to_int`. Če ste oba modula implementirali pravilno, bi morali dobiti enak rezultat ne glede na to, katerega poimenujete `Nat`."
   ]
  },
  {
   "cell_type": "code",
   "execution_count": 36,
   "id": "c82480a1",
   "metadata": {
    "vscode": {
     "languageId": "ocaml"
    }
   },
   "outputs": [
    {
     "data": {
      "text/plain": [
       "val sum_nat_100 : Nat_peano.t = <abstr>\n"
      ]
     },
     "execution_count": 36,
     "metadata": {},
     "output_type": "execute_result"
    }
   ],
   "source": [
    "let sum_nat_100 = \n",
    "  (* let module Nat = Nat_int in *)\n",
    "  let module Nat = Nat_peano in\n",
    "  Nat.zero (* to popravite na ustrezen izračun *)\n",
    "  (* |> Nat.to_int *)"
   ]
  },
  {
   "cell_type": "markdown",
   "id": "5dbcf77b",
   "metadata": {},
   "source": [
    "### Kompleksna števila"
   ]
  },
  {
   "cell_type": "markdown",
   "id": "e677e8e8",
   "metadata": {
    "vscode": {
     "languageId": "ocaml"
    }
   },
   "source": [
    "> Once upon a time, there was a university with a peculiar tenure\n",
    "> policy. All faculty were tenured, and could only be dismissed for\n",
    "> moral turpitude. What was peculiar was the definition of moral\n",
    "> turpitude: making a false statement in class. Needless to say, the\n",
    "> university did not teach computer science. However, it had a renowned\n",
    "> department of mathematics.\n",
    "> \n",
    "> One Semester, there was such a large enrollment in complex variables\n",
    "> that two sections were scheduled. In one section, Professor Descartes\n",
    "> announced that a complex number was an ordered pair of reals, and that\n",
    "> two complex numbers were equal when their corresponding components\n",
    "> were equal. He went on to explain how to convert reals into complex\n",
    "> numbers, what \"i\" was, how to add, multiply, and conjugate complex\n",
    "> numbers, and how to find their magnitude.\n",
    "> \n",
    "> In the other section, Professor Bessel announced that a complex number\n",
    "> was an ordered pair of reals the first of which was nonnegative, and\n",
    "> that two complex numbers were equal if their first components were\n",
    "> equal and either the first components were zero or the second\n",
    "> components differed by a multiple of 2π. He then told an entirely\n",
    "> different story about converting reals, \"i\", addition, multiplication,\n",
    "> conjugation, and magnitude.\n",
    "> \n",
    "> Then, after their first classes, an unfortunate mistake in the\n",
    "> registrar's office caused the two sections to be interchanged. Despite\n",
    "> this, neither Descartes nor Bessel ever committed moral turpitude,\n",
    "> even though each was judged by the other's definitions. The reason was\n",
    "> that they both had an intuitive understanding of type. Having defined\n",
    "> complex numbers and the primitive operations upon them, thereafter\n",
    "> they spoke at a level of abstraction that encompassed both of their\n",
    "> definitions.\n",
    "> \n",
    "> The moral of this fable is that: Type structure is a syntactic\n",
    "> discipline for enforcing levels of abstraction.\n",
    "> \n",
    "> John C. Reynolds, _Types, Abstraction, and Parametric Polymorphism_, IFIP83"
   ]
  },
  {
   "cell_type": "markdown",
   "id": "ce19ce00",
   "metadata": {},
   "source": [
    "Definirajte signaturo modula kompleksnih števil. Potrebujemo osnovni tip, test enakosti, ničlo, enko, imaginarno konstanto i, negacijo, konjugacijo, seštevanje in množenje."
   ]
  },
  {
   "cell_type": "code",
   "execution_count": 37,
   "id": "ec6c7220",
   "metadata": {
    "vscode": {
     "languageId": "ocaml"
    }
   },
   "outputs": [
    {
     "data": {
      "text/plain": [
       "module type COMPLEX = sig type t val eq : t -> t -> bool end\n"
      ]
     },
     "execution_count": 37,
     "metadata": {},
     "output_type": "execute_result"
    }
   ],
   "source": [
    "module type COMPLEX = sig\n",
    "  type t\n",
    "  val eq : t -> t -> bool\n",
    "  (* Dodajte manjkajoče! *)\n",
    "end"
   ]
  },
  {
   "cell_type": "markdown",
   "id": "5cbd2bc3",
   "metadata": {},
   "source": [
    "Napišite kartezično implementacijo kompleksnih števil, kjer ima vsako kompleksno število realno in imaginarno komponento."
   ]
  },
  {
   "cell_type": "code",
   "execution_count": 38,
   "id": "5410d742",
   "metadata": {
    "vscode": {
     "languageId": "ocaml"
    }
   },
   "outputs": [
    {
     "data": {
      "text/plain": [
       "module Cartesian : COMPLEX\n"
      ]
     },
     "execution_count": 38,
     "metadata": {},
     "output_type": "execute_result"
    }
   ],
   "source": [
    "module Cartesian : COMPLEX = struct\n",
    "\n",
    "  type t = {re : float; im : float}\n",
    "\n",
    "  let eq x y = failwith \"later\"\n",
    "  (* Dodajte manjkajoče! *)\n",
    "\n",
    "end"
   ]
  },
  {
   "cell_type": "markdown",
   "id": "4f4e473b",
   "metadata": {},
   "source": [
    "Sedaj napišite še polarno implementacijo kompleksnih števil, kjer ima vsako kompleksno število radij in kot (angl. magnitude in argument). Priporočilo: Seštevanje je v polarnih koordinatah zahtevnejše, zato si ga pustite za konec (lahko tudi za konec stoletja)."
   ]
  },
  {
   "cell_type": "code",
   "execution_count": 39,
   "id": "3f152652",
   "metadata": {
    "vscode": {
     "languageId": "ocaml"
    }
   },
   "outputs": [
    {
     "data": {
      "text/plain": [
       "module Polar : COMPLEX\n"
      ]
     },
     "execution_count": 39,
     "metadata": {},
     "output_type": "execute_result"
    }
   ],
   "source": [
    "module Polar : COMPLEX = struct\n",
    "\n",
    "  type t = {magn : float; arg : float}\n",
    "\n",
    "  (* Pomožne funkcije za lažje življenje. *)\n",
    "  let pi = 2. *. acos 0.\n",
    "  let rad_of_deg deg = (deg /. 180.) *. pi\n",
    "  let deg_of_rad rad = (rad /. pi) *. 180.\n",
    "\n",
    "  let eq x y = failwith \"later\"\n",
    "  (* Dodajte manjkajoče! *)\n",
    "\n",
    "end"
   ]
  }
 ],
 "metadata": {
  "kernelspec": {
   "display_name": "OCaml 4.14",
   "language": "OCaml",
   "name": "ocaml-jupyter"
  },
  "language_info": {
   "codemirror_mode": "text/x-ocaml",
   "file_extension": ".ml",
   "mimetype": "text/x-ocaml",
   "name": "OCaml",
   "nbconverter_exporter": null,
   "pygments_lexer": "OCaml",
   "version": "4.14.2"
  }
 },
 "nbformat": 4,
 "nbformat_minor": 5
}
