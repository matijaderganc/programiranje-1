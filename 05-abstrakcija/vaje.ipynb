{
 "cells": [
  {
   "cell_type": "code",
   "execution_count": 3,
   "metadata": {
    "vscode": {
     "languageId": "ocaml"
    }
   },
   "outputs": [
    {
     "data": {
      "text/plain": [
       "module type NAT =\n",
       "  sig\n",
       "    type t\n",
       "    val eq : t -> t -> bool\n",
       "    val zero : t\n",
       "    val one : t\n",
       "    val ( ++ ) : t -> t -> t\n",
       "    val ( ** ) : t -> t -> t\n",
       "    val ( -- ) : t -> t -> t\n",
       "    val to_int : t -> int\n",
       "    val of_int : int -> t\n",
       "  end\n"
      ]
     },
     "execution_count": 3,
     "metadata": {},
     "output_type": "execute_result"
    }
   ],
   "source": [
    "module type NAT =\n",
    "    sig\n",
    "        type t \n",
    "        val eq  : t -> t -> bool\n",
    "        val zero : t\n",
    "        val one : t\n",
    "        val ( ++ ) : t -> t -> t\n",
    "        val ( ** ) : t -> t -> t\n",
    "        val ( -- ) : t -> t -> t\n",
    "        val to_int : t -> int\n",
    "        val of_int : int -> t \n",
    "    end\n",
    "        "
   ]
  },
  {
   "cell_type": "code",
   "execution_count": 4,
   "metadata": {
    "vscode": {
     "languageId": "ocaml"
    }
   },
   "outputs": [
    {
     "data": {
      "text/plain": [
       "module Nat_int : NAT\n"
      ]
     },
     "execution_count": 4,
     "metadata": {},
     "output_type": "execute_result"
    }
   ],
   "source": [
    "module Nat_int : NAT = struct\n",
    "\n",
    "  type t = int\n",
    "  let eq x y = (x = y)\n",
    "  let zero = 0\n",
    "  let one = 1\n",
    "  let ( ++ ) x y = x + y\n",
    "  let ( ** ) x y = x * y\n",
    "  let ( -- ) x y = x - y\n",
    "  let to_int x = x\n",
    "  let of_int x = x\n",
    "  (* Dodajte manjkajoče! *)\n",
    "\n",
    "end"
   ]
  },
  {
   "cell_type": "code",
   "execution_count": 5,
   "metadata": {
    "vscode": {
     "languageId": "ocaml"
    }
   },
   "outputs": [
    {
     "data": {
      "text/plain": [
       "module Nat_peano : NAT\n"
      ]
     },
     "execution_count": 5,
     "metadata": {},
     "output_type": "execute_result"
    }
   ],
   "source": [
    "module Nat_peano : NAT = struct\n",
    "\n",
    "  type t = \n",
    "  | Zero\n",
    "  | Succ of t\n",
    "  let rec eq x y = match x , y with\n",
    "  | Zero, Zero -> true \n",
    "  | Succ _, Zero -> false\n",
    "  | Zero, Succ _ -> false\n",
    "  | Succ x', Succ y' -> eq x' y' \n",
    "  \n",
    "  let zero = Zero\n",
    "  let one = Succ Zero\n",
    "  let rec ( ++ ) x y = match x with \n",
    "  | Zero -> y\n",
    "  | Succ x' -> x' ++ Succ y\n",
    "  let ( ** ) x y = \n",
    "    let rec aux x y acc =\n",
    "    match x, y with\n",
    "    | Zero, _ -> acc\n",
    "    | _, Zero -> acc\n",
    "    | Succ x' , y' ->  aux x' y' (acc ++ y')\n",
    "    in\n",
    "    aux x y Zero\n",
    "  let ( -- ) x y = failwith \"later\"\n",
    "  let to_int x = \n",
    "    let rec aux n acc =\n",
    "      match n with \n",
    "      |Zero -> acc\n",
    "      |Succ x -> aux x (acc + 1)\n",
    "    in\n",
    "    aux x 0 \n",
    "  let of_int n =\n",
    "    let rec aux m acc =\n",
    "      match m with\n",
    "      |0 -> acc\n",
    "      |k -> aux (k - 1) (Succ acc)\n",
    "    in\n",
    "    aux n Zero\n",
    "end "
   ]
  },
  {
   "cell_type": "code",
   "execution_count": 15,
   "metadata": {
    "vscode": {
     "languageId": "ocaml"
    }
   },
   "outputs": [
    {
     "data": {
      "text/plain": [
       "- : int = 83952\n"
      ]
     },
     "execution_count": 15,
     "metadata": {},
     "output_type": "execute_result"
    }
   ],
   "source": [
    "(Nat_peano.( ** ))  (Nat_peano.of_int 176) (Nat_peano.of_int 477) |> Nat_peano.to_int"
   ]
  },
  {
   "cell_type": "code",
   "execution_count": 13,
   "metadata": {
    "vscode": {
     "languageId": "ocaml"
    }
   },
   "outputs": [
    {
     "data": {
      "text/plain": [
       "val sum_nat_100 : int = 50005000\n"
      ]
     },
     "execution_count": 13,
     "metadata": {},
     "output_type": "execute_result"
    }
   ],
   "source": [
    "let sum_nat_100 = \n",
    "  (* let module Nat = Nat_int in *)\n",
    "  let module Nat = Nat_peano in\n",
    "  let rec sum x acc =\n",
    "    if (Nat.zero = x) then acc\n",
    "    else sum (Nat.of_int((Nat.to_int x) - 1)) (acc + Nat.to_int x)\n",
    "  in\n",
    "  sum (Nat.of_int 10000) 0\n",
    "\n",
    "  (* |> Nat.to_int *)\n",
    "(* val sum_nat_100 : int = 5050 *)"
   ]
  },
  {
   "cell_type": "code",
   "execution_count": 16,
   "metadata": {
    "vscode": {
     "languageId": "ocaml"
    }
   },
   "outputs": [
    {
     "data": {
      "text/plain": [
       "module type COMPLEX =\n",
       "  sig\n",
       "    type t\n",
       "    val eq : t -> t -> bool\n",
       "    val one : t\n",
       "    val zero : t\n",
       "    val i : t\n",
       "    val neg : t -> t\n",
       "    val konj : t -> t\n",
       "    val sestej : t -> t -> t\n",
       "    val zmnozi : t -> t -> t\n",
       "  end\n"
      ]
     },
     "execution_count": 16,
     "metadata": {},
     "output_type": "execute_result"
    }
   ],
   "source": [
    "module type COMPLEX = sig\n",
    "  type t\n",
    "  val eq : t -> t -> bool\n",
    "  val one : t\n",
    "  val zero : t \n",
    "  val i : t \n",
    "  val neg : t -> t \n",
    "  val konj : t -> t \n",
    "  val sestej : t -> t -> t \n",
    "  val zmnozi : t -> t -> t \n",
    "end"
   ]
  },
  {
   "cell_type": "code",
   "execution_count": 38,
   "metadata": {
    "vscode": {
     "languageId": "ocaml"
    }
   },
   "outputs": [
    {
     "data": {
      "text/plain": [
       "module Cartesian : COMPLEX\n"
      ]
     },
     "execution_count": 38,
     "metadata": {},
     "output_type": "execute_result"
    }
   ],
   "source": [
    "module Cartesian : COMPLEX = struct\n",
    "\n",
    "  type t = {re : float; im : float}\n",
    "  let eq x y = (x = y)\n",
    "  let one = {re = 1.0 ; im = 0.0}\n",
    "  let zero = {re = 0.0; im = 0.0}\n",
    "  let i = {re = 0.0; im = 1.0}\n",
    "  let neg x =\n",
    "    {re = -. x.re; im = x.im}\n",
    "  let konj x =\n",
    "    {re = x.re; im = -. x.im}\n",
    "  let sestej x y =\n",
    "    {re = x.re +. y.re; im = x.im +. y.im}\n",
    "  let zmnozi x y =\n",
    "    {re = x.re *. y.re -. x.im *. y.im; im = x.re *. y.im +. x.im +. y.re}\n",
    "\n",
    "end"
   ]
  },
  {
   "cell_type": "code",
   "execution_count": 42,
   "metadata": {
    "vscode": {
     "languageId": "ocaml"
    }
   },
   "outputs": [
    {
     "ename": "error",
     "evalue": "compile_error",
     "output_type": "error",
     "traceback": [
      "File \"[42]\", lines 1-16, characters 25-3:\n 1 | .........................struct\n 2 | \n 3 |   type t = {magn : float; arg : float}\n 4 | \n 5 |   (* Pomožne funkcije za lažje življenje. *)\n...\n13 |   let i = {magn = 1.0; arg = (pi /. 2.)}\n14 |   (* Dodajte manjkajoče! *)\n15 | \n16 | end\nError: Signature mismatch:\n       ...\n       The value `neg' is required but not provided\n       File \"[16]\", line 7, characters 2-18: Expected declaration\n       The value `konj' is required but not provided\n       File \"[16]\", line 8, characters 2-19: Expected declaration\n       The value `sestej' is required but not provided\n       File \"[16]\", line 9, characters 2-26: Expected declaration\n       The value `zmnozi' is required but not provided\n       File \"[16]\", line 10, characters 2-26: Expected declaration\n"
     ]
    }
   ],
   "source": [
    "module Polar : COMPLEX = struct\n",
    "\n",
    "  type t = {magn : float; arg : float}\n",
    "\n",
    "  (* Pomožne funkcije za lažje življenje. *)\n",
    "  let pi = 2. *. acos 0.\n",
    "  let rad_of_deg deg = (deg /. 180.) *. pi\n",
    "  let deg_of_rad rad = (rad /. pi) *. 180.\n",
    "\n",
    "  let eq x y = (x = y)\n",
    "  let one = {magn = 1.0; arg = 0.0}\n",
    "  let zero = {magn = 0.0; arg = 0.0}\n",
    "  let i = {magn = 1.0; arg = (pi /. 2.)}\n",
    "  let neg x = {magn = x.magn; arg = pi -. x.arg}\n",
    "  let konj = {magn = x.magn; arg = -. x.arg}\n",
    "  let sestej x y = {magn = x.magn +. y.magn; arg = x.arg }\n",
    "  (* Dodajte manjkajoče! *)\n",
    "\n",
    "end"
   ]
  }
 ],
 "metadata": {
  "kernelspec": {
   "display_name": "OCaml 4.14",
   "language": "OCaml",
   "name": "ocaml-jupyter"
  },
  "language_info": {
   "codemirror_mode": "text/x-ocaml",
   "file_extension": ".ml",
   "mimetype": "text/x-ocaml",
   "name": "OCaml",
   "nbconverter_exporter": null,
   "pygments_lexer": "OCaml",
   "version": "4.14.2"
  }
 },
 "nbformat": 4,
 "nbformat_minor": 2
}
