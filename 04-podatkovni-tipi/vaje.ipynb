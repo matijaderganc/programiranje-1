{
 "cells": [
  {
   "cell_type": "code",
   "execution_count": null,
   "metadata": {
    "vscode": {
     "languageId": "ocaml"
    }
   },
   "outputs": [],
   "source": [
    "type dollar = Dollar of float\n",
    "type euro = Euro of float"
   ]
  },
  {
   "cell_type": "code",
   "execution_count": null,
   "metadata": {
    "vscode": {
     "languageId": "ocaml"
    }
   },
   "outputs": [],
   "source": [
    "let euro_to_dollar (Euro e) =\n",
    "  Dollar (e *. 1.1)"
   ]
  },
  {
   "cell_type": "code",
   "execution_count": null,
   "metadata": {
    "vscode": {
     "languageId": "ocaml"
    }
   },
   "outputs": [],
   "source": [
    "let dollar_to_euro (Dollar d) =\n",
    "  Euro (d *. 0.909)"
   ]
  },
  {
   "cell_type": "code",
   "execution_count": null,
   "metadata": {
    "vscode": {
     "languageId": "ocaml"
    }
   },
   "outputs": [],
   "source": [
    "type currency =\n",
    "  |Funt of float\n",
    "  |Jen of float\n",
    "  |Krona of float\n",
    "  |Mikimiska_euro of float\n"
   ]
  },
  {
   "cell_type": "code",
   "execution_count": null,
   "metadata": {
    "vscode": {
     "languageId": "ocaml"
    }
   },
   "outputs": [],
   "source": [
    "let to_pound = function\n",
    "  | Krona e -> Krona (e *. 0.8)\n",
    "  | Jen d -> Funt (d *. 0.7)\n",
    "  | Funt k -> Funt (k *. 0.5)\n",
    "\n"
   ]
  },
  {
   "cell_type": "code",
   "execution_count": null,
   "metadata": {
    "vscode": {
     "languageId": "ocaml"
    }
   },
   "outputs": [],
   "source": [
    "to_pound (Jen 100.)"
   ]
  },
  {
   "cell_type": "code",
   "execution_count": null,
   "metadata": {
    "vscode": {
     "languageId": "ocaml"
    }
   },
   "outputs": [],
   "source": [
    "type msn =\n",
    "  |Celo of int\n",
    "  |Bul of bool \n"
   ]
  },
  {
   "cell_type": "code",
   "execution_count": null,
   "metadata": {
    "vscode": {
     "languageId": "ocaml"
    }
   },
   "outputs": [],
   "source": [
    "type intbool_list = msn list"
   ]
  },
  {
   "cell_type": "code",
   "execution_count": null,
   "metadata": {
    "vscode": {
     "languageId": "ocaml"
    }
   },
   "outputs": [],
   "source": [
    "[Celo 5; Bul true]"
   ]
  },
  {
   "cell_type": "code",
   "execution_count": null,
   "metadata": {
    "vscode": {
     "languageId": "ocaml"
    }
   },
   "outputs": [],
   "source": [
    "type intbool_list1 =\n",
    "  | Nil \n",
    "  | Bool of (bool * intbool_list1)\n",
    "  | Int of (int * intbool_list1)"
   ]
  },
  {
   "cell_type": "code",
   "execution_count": null,
   "metadata": {
    "vscode": {
     "languageId": "ocaml"
    }
   },
   "outputs": [],
   "source": [
    "(Int (5, Bool(true, Bool(false, Int(7, Nil)))))"
   ]
  },
  {
   "cell_type": "code",
   "execution_count": null,
   "metadata": {
    "vscode": {
     "languageId": "ocaml"
    }
   },
   "outputs": [],
   "source": [
    "let rec intbool_map f_int f_bool lst = \n",
    "  match lst with \n",
    "  |Nil -> Nil\n",
    "  |Int (i, x) -> Int (f_int i, intbool_map f_int f_bool x)\n",
    "  |Bool (b, y) -> Bool (f_bool b, intbool_map f_int f_bool y)"
   ]
  },
  {
   "cell_type": "code",
   "execution_count": null,
   "metadata": {
    "vscode": {
     "languageId": "ocaml"
    }
   },
   "outputs": [],
   "source": [
    "let rec intbool_reverse ibl =\n",
    "  let rec aux current acc =\n",
    "    match current with\n",
    "    |Nil -> acc\n",
    "    |Int (i, x) -> aux x (Int(i, acc))\n",
    "    |Bool (b, y) -> aux y (Bool(b, acc))\n",
    "  in\n",
    "  aux ibl Nil"
   ]
  },
  {
   "cell_type": "code",
   "execution_count": null,
   "metadata": {
    "vscode": {
     "languageId": "ocaml"
    }
   },
   "outputs": [],
   "source": [
    "intbool_reverse (Int (5, Bool(true, Bool(false, Int(7, Nil)))))"
   ]
  },
  {
   "cell_type": "code",
   "execution_count": null,
   "metadata": {
    "vscode": {
     "languageId": "ocaml"
    }
   },
   "outputs": [],
   "source": [
    "let rec intbool_separate lst =\n",
    "  let rec aux current acc1 acc2 =\n",
    "    match current with\n",
    "    |Nil -> (acc1, acc2)\n",
    "    |Int (i, x) -> aux x (i :: acc1) acc2\n",
    "    |Bool (b, y) -> aux y acc1 (b :: acc2)\n",
    "  in\n",
    "  aux (intbool_reverse lst) [] []"
   ]
  },
  {
   "cell_type": "code",
   "execution_count": null,
   "metadata": {
    "vscode": {
     "languageId": "ocaml"
    }
   },
   "outputs": [],
   "source": [
    "intbool_separate (Int (5, Bool(true, Bool(false, Int(7, Nil)))))"
   ]
  },
  {
   "cell_type": "code",
   "execution_count": null,
   "metadata": {
    "vscode": {
     "languageId": "ocaml"
    }
   },
   "outputs": [],
   "source": [
    "type magic =\n",
    " |Fire \n",
    " |Ice\n",
    " |Arcane\n",
    "type specialisation =\n",
    "  |Historian \n",
    "  |Teacher \n",
    "  |Researcher"
   ]
  },
  {
   "cell_type": "code",
   "execution_count": null,
   "metadata": {
    "vscode": {
     "languageId": "ocaml"
    }
   },
   "outputs": [],
   "source": [
    "type status =\n",
    "  | Newbie\n",
    "  | Student of (magic * int)\n",
    "  | Employed of (magic * specialisation)\n"
   ]
  },
  {
   "cell_type": "markdown",
   "metadata": {},
   "source": []
  },
  {
   "cell_type": "code",
   "execution_count": null,
   "metadata": {
    "vscode": {
     "languageId": "ocaml"
    }
   },
   "outputs": [],
   "source": [
    "type wizard = {\n",
    "  ime : string;\n",
    "  status1 : status\n",
    "}"
   ]
  },
  {
   "cell_type": "code",
   "execution_count": null,
   "metadata": {
    "vscode": {
     "languageId": "ocaml"
    }
   },
   "outputs": [],
   "source": [
    "let professor x = { \n",
    "  ime = x;\n",
    "  status1 = Employed (Fire, Teacher)\n",
    "}\n",
    "let jaina y = {\n",
    "  ime = y; \n",
    "  status1 = Student (Ice, 4)\n",
    "}"
   ]
  },
  {
   "cell_type": "code",
   "execution_count": null,
   "metadata": {
    "vscode": {
     "languageId": "ocaml"
    }
   },
   "outputs": [],
   "source": [
    "professor \"Katja\""
   ]
  }
 ],
 "metadata": {
  "kernelspec": {
   "display_name": "OCaml 4.14",
   "language": "OCaml",
   "name": "ocaml-jupyter"
  },
  "language_info": {
   "codemirror_mode": "text/x-ocaml",
   "file_extension": ".ml",
   "mimetype": "text/x-ocaml",
   "name": "OCaml",
   "nbconverter_exporter": null,
   "pygments_lexer": "OCaml",
   "version": "4.14.2"
  }
 },
 "nbformat": 4,
 "nbformat_minor": 2
}
